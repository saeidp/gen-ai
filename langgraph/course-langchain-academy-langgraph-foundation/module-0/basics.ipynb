{
 "cells": [
  {
   "cell_type": "code",
   "execution_count": null,
   "id": "9013b03d",
   "metadata": {},
   "outputs": [],
   "source": [
    "from langchain.chat_models import init_chat_model\n"
   ]
  },
  {
   "cell_type": "code",
   "execution_count": 2,
   "id": "d582e7f6",
   "metadata": {},
   "outputs": [],
   "source": [
    "llm = init_chat_model(\n",
    "    \"anthropic.claude-3-haiku-20240307-v1:0\",\n",
    "    model_provider=\"bedrock_converse\",\n",
    ")"
   ]
  },
  {
   "cell_type": "code",
   "execution_count": 4,
   "id": "f0af8da5",
   "metadata": {},
   "outputs": [
    {
     "data": {
      "text/plain": [
       "AIMessage(content=\"Hello! I'm an AI assistant created by Anthropic. I'm here to help with any questions or tasks you may have. How can I assist you today?\", additional_kwargs={}, response_metadata={'ResponseMetadata': {'RequestId': '89d299ff-057f-435a-b3d6-ae67783f66d4', 'HTTPStatusCode': 200, 'HTTPHeaders': {'date': 'Tue, 01 Jul 2025 22:52:45 GMT', 'content-type': 'application/json', 'content-length': '315', 'connection': 'keep-alive', 'x-amzn-requestid': '89d299ff-057f-435a-b3d6-ae67783f66d4'}, 'RetryAttempts': 0}, 'stopReason': 'end_turn', 'metrics': {'latencyMs': [569]}, 'model_name': 'anthropic.claude-3-haiku-20240307-v1:0'}, id='run--40bec322-cce3-4c4a-aaaf-0b7aca2f2734-0', usage_metadata={'input_tokens': 9, 'output_tokens': 37, 'total_tokens': 46, 'input_token_details': {'cache_creation': 0, 'cache_read': 0}})"
      ]
     },
     "execution_count": 4,
     "metadata": {},
     "output_type": "execute_result"
    }
   ],
   "source": [
    "from langchain_core.messages import HumanMessage\n",
    "\n",
    "# Create a message\n",
    "msg = HumanMessage(content=\"Hello world\", name=\"Lance\")\n",
    "\n",
    "# Message list\n",
    "messages = [msg]\n",
    "\n",
    "# Invoke the model with a list of messages \n",
    "llm.invoke(messages)"
   ]
  },
  {
   "cell_type": "code",
   "execution_count": 6,
   "id": "f18d6bbc",
   "metadata": {},
   "outputs": [
    {
     "data": {
      "text/plain": [
       "AIMessage(content=\"Hello! It's nice to meet you.\", additional_kwargs={}, response_metadata={'ResponseMetadata': {'RequestId': 'acb02951-3150-4963-bc34-0d126ac08f9e', 'HTTPStatusCode': 200, 'HTTPHeaders': {'date': 'Tue, 01 Jul 2025 22:54:55 GMT', 'content-type': 'application/json', 'content-length': '209', 'connection': 'keep-alive', 'x-amzn-requestid': 'acb02951-3150-4963-bc34-0d126ac08f9e'}, 'RetryAttempts': 0}, 'stopReason': 'end_turn', 'metrics': {'latencyMs': [242]}, 'model_name': 'anthropic.claude-3-haiku-20240307-v1:0'}, id='run--87d065e2-bb21-4ac8-a988-5353cb46ab00-0', usage_metadata={'input_tokens': 9, 'output_tokens': 12, 'total_tokens': 21, 'input_token_details': {'cache_creation': 0, 'cache_read': 0}})"
      ]
     },
     "execution_count": 6,
     "metadata": {},
     "output_type": "execute_result"
    }
   ],
   "source": [
    "llm.invoke(\"Hello World\")"
   ]
  },
  {
   "cell_type": "code",
   "execution_count": null,
   "id": "5c5f929f",
   "metadata": {},
   "outputs": [],
   "source": []
  }
 ],
 "metadata": {
  "kernelspec": {
   "display_name": "langchain-academy-langgraph",
   "language": "python",
   "name": "python3"
  },
  "language_info": {
   "codemirror_mode": {
    "name": "ipython",
    "version": 3
   },
   "file_extension": ".py",
   "mimetype": "text/x-python",
   "name": "python",
   "nbconvert_exporter": "python",
   "pygments_lexer": "ipython3",
   "version": "3.13.5"
  }
 },
 "nbformat": 4,
 "nbformat_minor": 5
}
