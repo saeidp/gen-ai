{
 "cells": [
  {
   "cell_type": "markdown",
   "id": "0df451ec",
   "metadata": {},
   "source": [
    "# External DB memory"
   ]
  },
  {
   "cell_type": "code",
   "execution_count": 1,
   "id": "8316059b",
   "metadata": {},
   "outputs": [],
   "source": [
    "from langchain.chat_models import init_chat_model\n",
    "model = init_chat_model(\n",
    "    \"anthropic.claude-3-haiku-20240307-v1:0\",\n",
    "    model_provider=\"bedrock_converse\",\n",
    ")"
   ]
  },
  {
   "cell_type": "code",
   "execution_count": 2,
   "id": "5f6ba15e",
   "metadata": {},
   "outputs": [],
   "source": [
    "import sqlite3\n",
    "# In memory\n",
    "conn = sqlite3.connect(\":memory:\", check_same_thread = False)"
   ]
  },
  {
   "cell_type": "code",
   "execution_count": 3,
   "id": "efe085d0",
   "metadata": {},
   "outputs": [],
   "source": [
    "# pull file if it doesn't exist and connect to local db\n",
    "!mkdir -p state_db && [ ! -f state_db/example.db ] && wget -P state_db https://github.com/langchain-ai/langchain-academy/raw/main/module-2/state_db/example.db\n",
    "\n",
    "db_path = \"state_db/example.db\"\n",
    "conn = sqlite3.connect(db_path, check_same_thread=False)"
   ]
  },
  {
   "cell_type": "code",
   "execution_count": 4,
   "id": "e8944ddf",
   "metadata": {},
   "outputs": [],
   "source": [
    "# Here is our checkpointer \n",
    "from langgraph.checkpoint.sqlite import SqliteSaver\n",
    "memory = SqliteSaver(conn)"
   ]
  },
  {
   "cell_type": "code",
   "execution_count": 5,
   "id": "cc82416b",
   "metadata": {},
   "outputs": [],
   "source": [
    "from langgraph.graph import MessagesState\n",
    "class State(MessagesState):\n",
    "    summary: str"
   ]
  },
  {
   "cell_type": "code",
   "execution_count": 6,
   "id": "5e3fc787",
   "metadata": {},
   "outputs": [],
   "source": [
    "from langchain_core.messages import SystemMessage, HumanMessage, RemoveMessage\n",
    "from langgraph.graph import END\n",
    "from langgraph.graph import MessagesState\n",
    "from typing import Literal\n",
    "\n",
    "# Define the logic to call the model\n",
    "def call_model(state: State):\n",
    "    \n",
    "    # Get summary if it exists\n",
    "    summary = state.get(\"summary\", \"\")\n",
    "\n",
    "    # If there is summary, then we add it\n",
    "    if summary:\n",
    "        \n",
    "        # Add summary to system message\n",
    "        system_message = f\"Summary of conversation earlier: {summary}\"\n",
    "\n",
    "        # Append summary to any newer messages\n",
    "        messages = [SystemMessage(content=system_message)] + state[\"messages\"]\n",
    "    \n",
    "    else:\n",
    "        messages = state[\"messages\"]\n",
    "    \n",
    "    response = model.invoke(messages)\n",
    "    return {\"messages\": response}\n",
    "\n",
    "\n",
    "def summarize_conversation(state: State):\n",
    "    \n",
    "    # First, we get any existing summary\n",
    "    summary = state.get(\"summary\", \"\")\n",
    "\n",
    "    # Create our summarization prompt \n",
    "    if summary:\n",
    "        \n",
    "        # A summary already exists\n",
    "        summary_message = (\n",
    "            f\"This is summary of the conversation to date: {summary}\\n\\n\"\n",
    "            \"Extend the summary by taking into account the new messages above:\"\n",
    "        )\n",
    "        \n",
    "    else:\n",
    "        summary_message = \"Create a summary of the conversation above:\"\n",
    "\n",
    "    # Add prompt to our history\n",
    "    messages = state[\"messages\"] + [HumanMessage(content=summary_message)]\n",
    "    response = model.invoke(messages)\n",
    "    \n",
    "    # Delete all but the 2 most recent messages\n",
    "    delete_messages = [RemoveMessage(id=m.id) for m in state[\"messages\"][:-2]]\n",
    "    return {\"summary\": response.content, \"messages\": delete_messages}\n",
    "\n",
    "# Determine whether to end or summarize the conversation\n",
    "def should_continue(state: State) -> Literal[\"summarize_conversation\", END]:\n",
    "    \n",
    "    \"\"\"Return the next node to execute.\"\"\"\n",
    "    \n",
    "    messages = state[\"messages\"]\n",
    "    \n",
    "    # If there are more than six messages, then we summarize the conversation\n",
    "    if len(messages) > 6:\n",
    "        return \"summarize_conversation\"\n",
    "    \n",
    "    # Otherwise we can just end\n",
    "    return END"
   ]
  },
  {
   "cell_type": "code",
   "execution_count": 7,
   "id": "8f139252",
   "metadata": {},
   "outputs": [
    {
     "data": {
      "image/png": "[encoded data removed]",
      "text/plain": [
       "<IPython.core.display.Image object>"
      ]
     },
     "metadata": {},
     "output_type": "display_data"
    }
   ],
   "source": [
    "from IPython.display import Image, display\n",
    "from langgraph.graph import StateGraph, START\n",
    "\n",
    "# Define a new graph\n",
    "workflow = StateGraph(State)\n",
    "workflow.add_node(\"conversation\", call_model)\n",
    "workflow.add_node(summarize_conversation)\n",
    "\n",
    "# Set the entrypoint as conversation\n",
    "workflow.add_edge(START, \"conversation\")\n",
    "workflow.add_conditional_edges(\"conversation\", should_continue)\n",
    "workflow.add_edge(\"summarize_conversation\", END)\n",
    "\n",
    "# Compile\n",
    "graph = workflow.compile(checkpointer=memory)\n",
    "display(Image(graph.get_graph().draw_mermaid_png()))"
   ]
  },
  {
   "cell_type": "code",
   "execution_count": 8,
   "id": "e0a423f1",
   "metadata": {},
   "outputs": [
    {
     "name": "stdout",
     "output_type": "stream",
     "text": [
      "==================================\u001b[1m Ai Message \u001b[0m==================================\n",
      "\n",
      "Hello Lance! It's nice to meet you. I'm Claude, an AI assistant created by Anthropic. How can I help you today?\n",
      "==================================\u001b[1m Ai Message \u001b[0m==================================\n",
      "\n",
      "Your name is Lance, as you introduced yourself to me earlier.\n",
      "==================================\u001b[1m Ai Message \u001b[0m==================================\n",
      "\n",
      "That's great! The San Francisco 49ers are a popular NFL team. As an AI, I don't have personal sports team preferences, but I'm always happy to discuss football or other topics that interest you. What do you enjoy most about being a 49ers fan?\n"
     ]
    }
   ],
   "source": [
    "# Create a thread\n",
    "config = {\"configurable\": {\"thread_id\": \"1\"}}\n",
    "\n",
    "# Start conversation\n",
    "input_message = HumanMessage(content=\"hi! I'm Lance\")\n",
    "output = graph.invoke({\"messages\": [input_message]}, config) \n",
    "for m in output['messages'][-1:]:\n",
    "    m.pretty_print()\n",
    "\n",
    "input_message = HumanMessage(content=\"what's my name?\")\n",
    "output = graph.invoke({\"messages\": [input_message]}, config) \n",
    "for m in output['messages'][-1:]:\n",
    "    m.pretty_print()\n",
    "\n",
    "input_message = HumanMessage(content=\"i like the 49ers!\")\n",
    "output = graph.invoke({\"messages\": [input_message]}, config) \n",
    "for m in output['messages'][-1:]:\n",
    "    m.pretty_print()"
   ]
  },
  {
   "cell_type": "code",
   "execution_count": 9,
   "id": "73249fa7",
   "metadata": {},
   "outputs": [
    {
     "data": {
      "text/plain": [
       "''"
      ]
     },
     "execution_count": 9,
     "metadata": {},
     "output_type": "execute_result"
    }
   ],
   "source": [
    "config = {\"configurable\": {\"thread_id\": \"1\"}}\n",
    "graph_state = graph.get_state(config)\n",
    "graph_state.values.get(\"summary\",\"\")"
   ]
  },
  {
   "cell_type": "code",
   "execution_count": 10,
   "id": "3823e5c8",
   "metadata": {},
   "outputs": [
    {
     "data": {
      "text/plain": [
       "StateSnapshot(values={'messages': [HumanMessage(content=\"hi! I'm Lance\", additional_kwargs={}, response_metadata={}, id='e0a7c847-6797-4edc-aaaa-bda67745eec7'), AIMessage(content=\"Hello Lance! It's nice to meet you. I'm Claude, an AI assistant created by Anthropic. How can I help you today?\", additional_kwargs={}, response_metadata={'ResponseMetadata': {'RequestId': '6dc73522-c9c1-42e2-b84f-be59ff948c75', 'HTTPStatusCode': 200, 'HTTPHeaders': {'date': 'Mon, 14 Jul 2025 23:18:47 GMT', 'content-type': 'application/json', 'content-length': '292', 'connection': 'keep-alive', 'x-amzn-requestid': '6dc73522-c9c1-42e2-b84f-be59ff948c75'}, 'RetryAttempts': 0}, 'stopReason': 'end_turn', 'metrics': {'latencyMs': [562]}, 'model_name': 'anthropic.claude-3-haiku-20240307-v1:0'}, id='run--1063295e-7a5a-483c-8c09-f976403710f6-0', usage_metadata={'input_tokens': 12, 'output_tokens': 33, 'total_tokens': 45, 'input_token_details': {'cache_creation': 0, 'cache_read': 0}}), HumanMessage(content=\"what's my name?\", additional_kwargs={}, response_metadata={}, id='1c0b4684-69dd-47c4-98a2-734cfe0a7b21'), AIMessage(content='Your name is Lance, as you introduced yourself to me earlier.', additional_kwargs={}, response_metadata={'ResponseMetadata': {'RequestId': 'd9943120-2b32-4872-a93b-ec94bb29f0da', 'HTTPStatusCode': 200, 'HTTPHeaders': {'date': 'Mon, 14 Jul 2025 23:18:48 GMT', 'content-type': 'application/json', 'content-length': '242', 'connection': 'keep-alive', 'x-amzn-requestid': 'd9943120-2b32-4872-a93b-ec94bb29f0da'}, 'RetryAttempts': 0}, 'stopReason': 'end_turn', 'metrics': {'latencyMs': [309]}, 'model_name': 'anthropic.claude-3-haiku-20240307-v1:0'}, id='run--4b2ce46f-0341-4272-b3f8-c836ebcd8933-0', usage_metadata={'input_tokens': 53, 'output_tokens': 16, 'total_tokens': 69, 'input_token_details': {'cache_creation': 0, 'cache_read': 0}}), HumanMessage(content='i like the 49ers!', additional_kwargs={}, response_metadata={}, id='11a73c4a-e2c8-4a56-a37d-bb12aa99f63e'), AIMessage(content=\"That's great! The San Francisco 49ers are a popular NFL team. As an AI, I don't have personal sports team preferences, but I'm always happy to discuss football or other topics that interest you. What do you enjoy most about being a 49ers fan?\", additional_kwargs={}, response_metadata={'ResponseMetadata': {'RequestId': '881df6c9-a5a8-4315-9c0e-bf0c845aff49', 'HTTPStatusCode': 200, 'HTTPHeaders': {'date': 'Mon, 14 Jul 2025 23:18:49 GMT', 'content-type': 'application/json', 'content-length': '424', 'connection': 'keep-alive', 'x-amzn-requestid': '881df6c9-a5a8-4315-9c0e-bf0c845aff49'}, 'RetryAttempts': 0}, 'stopReason': 'end_turn', 'metrics': {'latencyMs': [907]}, 'model_name': 'anthropic.claude-3-haiku-20240307-v1:0'}, id='run--2debf95d-3f0c-4605-937b-11ed58384730-0', usage_metadata={'input_tokens': 79, 'output_tokens': 60, 'total_tokens': 139, 'input_token_details': {'cache_creation': 0, 'cache_read': 0}})]}, next=(), config={'configurable': {'thread_id': '1', 'checkpoint_ns': '', 'checkpoint_id': '1f06108e-4abd-69c0-8007-5e003ea698f3'}}, metadata={'source': 'loop', 'step': 7, 'parents': {}, 'thread_id': '1'}, created_at='2025-07-14T23:18:47.258549+00:00', parent_config={'configurable': {'thread_id': '1', 'checkpoint_ns': '', 'checkpoint_id': '1f06108e-4199-6dda-8006-321c172651e0'}}, tasks=(), interrupts=())"
      ]
     },
     "execution_count": 10,
     "metadata": {},
     "output_type": "execute_result"
    }
   ],
   "source": [
    "config = {\"configurable\": {\"thread_id\": \"1\"}}\n",
    "graph_state = graph.get_state(config)\n",
    "graph_state"
   ]
  },
  {
   "cell_type": "markdown",
   "id": "b82d169c",
   "metadata": {},
   "source": [
    "### Persisting State\n",
    "Using database like Sqlite means state is persisted!\n",
    "For example, we can re-start the notebook kernel and see that we can still load from Sqlite DB on disk."
   ]
  },
  {
   "cell_type": "code",
   "execution_count": 12,
   "id": "2634a1b0",
   "metadata": {},
   "outputs": [
    {
     "data": {
      "text/plain": [
       "StateSnapshot(values={'messages': [HumanMessage(content=\"hi! I'm Lance\", additional_kwargs={}, response_metadata={}, id='dc9218e2-53d1-43c4-9c01-17715da179c4'), AIMessage(content=\"Hi Lance! It's nice to meet you. I'm Claude, an AI assistant created by Anthropic. How can I assist you today?\", additional_kwargs={}, response_metadata={'ResponseMetadata': {'RequestId': '18d0d377-0c8e-45ff-88ef-58d3fd22ed48', 'HTTPStatusCode': 200, 'HTTPHeaders': {'date': 'Mon, 14 Jul 2025 22:25:16 GMT', 'content-type': 'application/json', 'content-length': '291', 'connection': 'keep-alive', 'x-amzn-requestid': '18d0d377-0c8e-45ff-88ef-58d3fd22ed48'}, 'RetryAttempts': 0}, 'stopReason': 'end_turn', 'metrics': {'latencyMs': [574]}, 'model_name': 'anthropic.claude-3-haiku-20240307-v1:0'}, id='run--0129da00-c62d-424f-9a8e-da0b35bfbb4a-0', usage_metadata={'input_tokens': 12, 'output_tokens': 33, 'total_tokens': 45, 'input_token_details': {'cache_creation': 0, 'cache_read': 0}}), HumanMessage(content=\"what's my name?\", additional_kwargs={}, response_metadata={}, id='57d97e53-4515-4f09-8483-3ca200243904'), AIMessage(content=\"I'm sorry, but I don't actually know your name. When you introduced yourself, you said your name is Lance, so that's the name I have for you. As an AI assistant, I don't have any independent knowledge about you - I can only respond based on the information you provide to me directly.\", additional_kwargs={}, response_metadata={'ResponseMetadata': {'RequestId': 'a0438c32-65e2-4be3-88f8-46d284637c50', 'HTTPStatusCode': 200, 'HTTPHeaders': {'date': 'Mon, 14 Jul 2025 22:25:17 GMT', 'content-type': 'application/json', 'content-length': '466', 'connection': 'keep-alive', 'x-amzn-requestid': 'a0438c32-65e2-4be3-88f8-46d284637c50'}, 'RetryAttempts': 0}, 'stopReason': 'end_turn', 'metrics': {'latencyMs': [944]}, 'model_name': 'anthropic.claude-3-haiku-20240307-v1:0'}, id='run--991d7a78-8fe0-4fe6-89f3-cdcc30cb76c5-0', usage_metadata={'input_tokens': 53, 'output_tokens': 67, 'total_tokens': 120, 'input_token_details': {'cache_creation': 0, 'cache_read': 0}}), HumanMessage(content='i like the 49ers!', additional_kwargs={}, response_metadata={}, id='0265d176-157e-4816-8460-ad28f2e271cc'), AIMessage(content=\"Okay, that's great that you're a fan of the 49ers! The 49ers are a professional American football team based in the San Francisco Bay Area. They play in the National Football League (NFL) and have had a lot of success over the years, including winning 5 Super Bowl championships. It's understandable why someone would be a fan of such a storied franchise. Do you have a favorite 49ers player or moment from their history that you particularly enjoy?\", additional_kwargs={}, response_metadata={'ResponseMetadata': {'RequestId': '4d4fe855-ec4b-42c5-909c-16252a4e0ed9', 'HTTPStatusCode': 200, 'HTTPHeaders': {'date': 'Mon, 14 Jul 2025 22:25:19 GMT', 'content-type': 'application/json', 'content-length': '634', 'connection': 'keep-alive', 'x-amzn-requestid': '4d4fe855-ec4b-42c5-909c-16252a4e0ed9'}, 'RetryAttempts': 0}, 'stopReason': 'end_turn', 'metrics': {'latencyMs': [1373]}, 'model_name': 'anthropic.claude-3-haiku-20240307-v1:0'}, id='run--76b91e7d-5388-4f26-a9ac-dbf8616cc8ec-0', usage_metadata={'input_tokens': 130, 'output_tokens': 105, 'total_tokens': 235, 'input_token_details': {'cache_creation': 0, 'cache_read': 0}})]}, next=(), config={'configurable': {'thread_id': '1', 'checkpoint_ns': '', 'checkpoint_id': '1f061016-b874-6f9f-8007-c7f6d2b8d3f7'}}, metadata={'source': 'loop', 'step': 7, 'parents': {}, 'thread_id': '1'}, created_at='2025-07-14T22:25:17.537635+00:00', parent_config={'configurable': {'thread_id': '1', 'checkpoint_ns': '', 'checkpoint_id': '1f061016-aad3-6af4-8006-f80f89863d76'}}, tasks=(), interrupts=())"
      ]
     },
     "execution_count": 12,
     "metadata": {},
     "output_type": "execute_result"
    }
   ],
   "source": [
    "# Create a thread\n",
    "config = {\"configurable\": {\"thread_id\": \"1\"}}\n",
    "graph_state = graph.get_state(config)\n",
    "graph_state"
   ]
  },
  {
   "cell_type": "code",
   "execution_count": null,
   "id": "8fd25c43",
   "metadata": {},
   "outputs": [],
   "source": []
  }
 ],
 "metadata": {
  "kernelspec": {
   "display_name": "langchain-academy-langgraph",
   "language": "python",
   "name": "python3"
  },
  "language_info": {
   "codemirror_mode": {
    "name": "ipython",
    "version": 3
   },
   "file_extension": ".py",
   "mimetype": "text/x-python",
   "name": "python",
   "nbconvert_exporter": "python",
   "pygments_lexer": "ipython3",
   "version": "3.13.5"
  }
 },
 "nbformat": 4,
 "nbformat_minor": 5
}
