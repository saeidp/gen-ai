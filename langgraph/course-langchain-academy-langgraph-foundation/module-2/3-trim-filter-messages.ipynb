{
 "cells": [
  {
   "cell_type": "markdown",
   "id": "0eed96b7",
   "metadata": {},
   "source": [
    "# Filtering and trimming messages"
   ]
  },
  {
   "cell_type": "code",
   "execution_count": 8,
   "id": "d3e7cdd6",
   "metadata": {},
   "outputs": [
    {
     "name": "stdout",
     "output_type": "stream",
     "text": [
      "================================\u001b[1m Human Message \u001b[0m=================================\n",
      "Name: dummy\n",
      "\n",
      "Hello\n",
      "==================================\u001b[1m Ai Message \u001b[0m==================================\n",
      "Name: Bot\n",
      "\n",
      "So you said you were researching ocean mammals?\n",
      "================================\u001b[1m Human Message \u001b[0m=================================\n",
      "Name: Lance\n",
      "\n",
      "Yes, I know about whales. But what others should I learn about?\n"
     ]
    }
   ],
   "source": [
    "from pprint import pprint\n",
    "from langchain_core.messages import AIMessage, HumanMessage\n",
    "messages = [HumanMessage(f\"Hello\", name=\"dummy\"), AIMessage(f\"So you said you were researching ocean mammals?\", name=\"Bot\")]\n",
    "messages.append(HumanMessage(f\"Yes, I know about whales. But what others should I learn about?\", name=\"Lance\"))\n",
    "\n",
    "for m in messages:\n",
    "    m.pretty_print()"
   ]
  },
  {
   "cell_type": "code",
   "execution_count": null,
   "id": "2b5baf20",
   "metadata": {},
   "outputs": [
    {
     "data": {
      "text/plain": [
       "AIMessage(content='Here are some other interesting ocean mammals you could learn more about:\\n\\n- Seals - There are many species of seals, sea lions, and walruses that live in oceans around the world. They are pinnipeds known for their streamlined bodies, flippers, and ability to swim and dive.\\n\\n- Dolphins - Dolphins are highly intelligent and social marine mammals. There are numerous dolphin species that live in oceans and coastal waters, like bottlenose, spinner, and orca (killer whales) dolphins.\\n\\n- Manatees - Also known as \"sea cows\", manatees are large, gentle marine mammals that live in shallow coastal waters, estuaries, and rivers in parts of the Caribbean, Gulf of Mexico, and Florida.\\n\\n- Sea otters - Sea otters are charismatic marine mammals known for floating on their backs and using tools. They are found along the Pacific coasts of North America and Asia.\\n\\n- Polar bears - While they are not strictly marine mammals, polar bears spend a lot of time hunting and foraging in the Arctic Ocean and sea ice.\\n\\nI\\'d suggest looking into the unique adaptations, behaviors, and conservation status of these different ocean mammal species. Let me know if you have any other questions!', additional_kwargs={}, response_metadata={'ResponseMetadata': {'RequestId': 'c98c1b42-f4a1-47e1-9376-a8190742f5fa', 'HTTPStatusCode': 200, 'HTTPHeaders': {'date': 'Wed, 09 Jul 2025 22:43:56 GMT', 'content-type': 'application/json', 'content-length': '1372', 'connection': 'keep-alive', 'x-amzn-requestid': 'c98c1b42-f4a1-47e1-9376-a8190742f5fa'}, 'RetryAttempts': 0}, 'stopReason': 'end_turn', 'metrics': {'latencyMs': [4145]}, 'model_name': 'anthropic.claude-3-haiku-20240307-v1:0'}, id='run--0ea5a0e7-6316-42c3-9d61-df77b6f36c6b-0', usage_metadata={'input_tokens': 40, 'output_tokens': 271, 'total_tokens': 311, 'input_token_details': {'cache_creation': 0, 'cache_read': 0}})"
      ]
     },
     "execution_count": 9,
     "metadata": {},
     "output_type": "execute_result"
    }
   ],
   "source": []
  },
  {
   "cell_type": "code",
   "execution_count": 10,
   "id": "6df63ed2",
   "metadata": {},
   "outputs": [
    {
     "data": {
      "image/png": "[encoded data removed]",
      "text/plain": [
       "<IPython.core.display.Image object>"
      ]
     },
     "metadata": {},
     "output_type": "display_data"
    }
   ],
   "source": [
    "from IPython.display import Image, display\n",
    "from langgraph.graph import MessagesState\n",
    "from langgraph.graph import StateGraph, START, END\n",
    "\n",
    "# Node\n",
    "def chat_model_node(state: MessagesState):\n",
    "    return {\"messages\": llm.invoke(state[\"messages\"])}\n",
    "\n",
    "# Build graph\n",
    "builder = StateGraph(MessagesState)\n",
    "builder.add_node(\"chat_model\", chat_model_node)\n",
    "builder.add_edge(START, \"chat_model\")\n",
    "builder.add_edge(\"chat_model\", END)\n",
    "graph = builder.compile()\n",
    "\n",
    "# View\n",
    "display(Image(graph.get_graph().draw_mermaid_png()))"
   ]
  },
  {
   "cell_type": "code",
   "execution_count": 11,
   "id": "6c96b176",
   "metadata": {},
   "outputs": [
    {
     "name": "stdout",
     "output_type": "stream",
     "text": [
      "================================\u001b[1m Human Message \u001b[0m=================================\n",
      "Name: dummy\n",
      "\n",
      "Hello\n",
      "==================================\u001b[1m Ai Message \u001b[0m==================================\n",
      "Name: Bot\n",
      "\n",
      "So you said you were researching ocean mammals?\n",
      "================================\u001b[1m Human Message \u001b[0m=================================\n",
      "Name: Lance\n",
      "\n",
      "Yes, I know about whales. But what others should I learn about?\n",
      "==================================\u001b[1m Ai Message \u001b[0m==================================\n",
      "\n",
      "Here are some other interesting ocean mammals you could learn more about:\n",
      "\n",
      "- Seals and Sea Lions - There are many different species of seals and sea lions found in oceans around the world. They are known for their ability to swim and their flipper-like limbs.\n",
      "\n",
      "- Otters - Sea otters in particular are fascinating ocean mammals. They are known for holding hands while napping to avoid drifting apart, and using rocks to crack open shellfish.\n",
      "\n",
      "- Manatees - Also known as \"sea cows\", manatees are large, gentle herbivores that live in warm coastal waters and estuaries. They are threatened by boat strikes.\n",
      "\n",
      "- Dolphins - There are many species of dolphins, from the well-known bottlenose to the more rare species like the vaquita. Dolphins are highly intelligent and social.\n",
      "\n",
      "- Polar Bears - While they are not strictly ocean mammals, polar bears spend a lot of time hunting and living on sea ice in the Arctic Ocean. \n",
      "\n",
      "- Walruses - These large, tusked marine mammals are found in the Arctic and sub-Arctic regions. They are known for their social behaviors and vocalizations.\n",
      "\n",
      "I'd recommend looking into the biology, behavior, and conservation status of some of these lesser-known ocean mammals to expand your knowledge beyond just whales. Let me know if you need any other suggestions!\n"
     ]
    }
   ],
   "source": [
    "output = graph.invoke({'messages': messages})\n",
    "for m in output['messages']:\n",
    "    m.pretty_print()"
   ]
  },
  {
   "cell_type": "markdown",
   "id": "178cb653",
   "metadata": {},
   "source": [
    "### Reducer\n",
    "A practical challenge when working with messages is managing long-running conversations.\n"
   ]
  },
  {
   "cell_type": "code",
   "execution_count": 20,
   "id": "ad847ca1",
   "metadata": {},
   "outputs": [
    {
     "data": {
      "image/png": "[encoded data removed]",
      "text/plain": [
       "<IPython.core.display.Image object>"
      ]
     },
     "metadata": {},
     "output_type": "display_data"
    }
   ],
   "source": [
    "from langchain_core.messages import RemoveMessage\n",
    "\n",
    "# Nodes\n",
    "def filter_messages(state: MessagesState):\n",
    "    # Delete all but the 3 most recent messages\n",
    "    delete_messages = [RemoveMessage(id=m.id) for m in state[\"messages\"][:-1]]\n",
    "    print(f\"Deleting: {delete_messages}\")\n",
    "    return {\"messages\": delete_messages}\n",
    "\n",
    "def chat_model_node(state: MessagesState):    \n",
    "    return {\"messages\": [llm.invoke(state[\"messages\"])]}\n",
    "\n",
    "# Build graph\n",
    "builder = StateGraph(MessagesState)\n",
    "builder.add_node(\"filter\", filter_messages)\n",
    "builder.add_node(\"chat_model\", chat_model_node)\n",
    "builder.add_edge(START, \"filter\")\n",
    "builder.add_edge(\"filter\", \"chat_model\")\n",
    "builder.add_edge(\"chat_model\", END)\n",
    "graph = builder.compile()\n",
    "\n",
    "# View\n",
    "display(Image(graph.get_graph().draw_mermaid_png()))"
   ]
  },
  {
   "cell_type": "code",
   "execution_count": 21,
   "id": "1fdb2e85",
   "metadata": {},
   "outputs": [
    {
     "name": "stdout",
     "output_type": "stream",
     "text": [
      "Deleting: [RemoveMessage(content='', additional_kwargs={}, response_metadata={}, id='0'), RemoveMessage(content='', additional_kwargs={}, response_metadata={}, id='1'), RemoveMessage(content='', additional_kwargs={}, response_metadata={}, id='2'), RemoveMessage(content='', additional_kwargs={}, response_metadata={}, id='3')]\n",
      "================================\u001b[1m Human Message \u001b[0m=================================\n",
      "Name: Lance\n",
      "\n",
      "Yes, I know about whales. But what others should I learn about?\n",
      "==================================\u001b[1m Ai Message \u001b[0m==================================\n",
      "\n",
      "Here are some other fascinating animals you could learn more about:\n",
      "\n",
      "1. Octopus - Highly intelligent marine creatures with unique traits like changing color, using tools, and having three hearts.\n",
      "\n",
      "2. Platypus - The unique egg-laying, duck-billed, beaver-tailed, otter-footed mammal found only in Australia.\n",
      "\n",
      "3. Mantis Shrimp - One of the most fascinating and violent creatures in the ocean, with incredible vision and lightning fast claws.\n",
      "\n",
      "4. Tardigrade - Also known as water bears, these microscopic creatures can survive extreme environments like the vacuum of space.\n",
      "\n",
      "5. Pangolin - Scaled, ant-eating mammals found in Asia and Africa, they are the most trafficked animals in the world.\n",
      "\n",
      "6. Axolotl - This adorable Mexican salamander can regenerate lost limbs and organs.\n",
      "\n",
      "7. Cuttlefish - Masters of camouflage, these marine creatures have incredible color-changing abilities.\n",
      "\n",
      "8. Honey Badger - Fearless, tough, and highly intelligent, this small mammal is one of the toughest animals in the world.\n",
      "\n",
      "9. Cassowary - A large, flightless bird found in Australia and New Guinea, with a striking appearance and dangerous claws.\n",
      "\n",
      "10. Wombat - The stocky, burrowing marsupial native to Australia known for its cube-shaped poop.\n",
      "\n",
      "The natural world is full of amazing and unique lifeforms - exploring different animals can be a fascinating journey of discovery!\n"
     ]
    }
   ],
   "source": [
    "# Message list with a preamble\n",
    "messages = [HumanMessage(\"Hello\", name=\"dummy\", id=\"0\"), AIMessage(\"Hi.\", name=\"Bot\", id=\"1\")]\n",
    "messages.append(HumanMessage(\"Hi.\", name=\"Lance\", id=\"2\"))\n",
    "messages.append(AIMessage(\"So you said you were researching ocean mammals?\", name=\"Bot\", id=\"3\"))\n",
    "messages.append(HumanMessage(\"Yes, I know about whales. But what others should I learn about?\", name=\"Lance\", id=\"4\"))\n",
    "\n",
    "# Invoke\n",
    "output = graph.invoke({'messages': messages})\n",
    "for m in output['messages']:\n",
    "    m.pretty_print()"
   ]
  },
  {
   "cell_type": "markdown",
   "id": "48dd4140",
   "metadata": {},
   "source": [
    "### Filtering messages\n",
    "If you don't need or want to modify the graph state, you can just filter the messages you pass to the chat model.\n",
    "\n",
    "For example, just pass in a filtered list: llm.invoke(messages[-1:]) to the model."
   ]
  },
  {
   "cell_type": "code",
   "execution_count": 22,
   "id": "288fc559",
   "metadata": {},
   "outputs": [
    {
     "data": {
      "image/png": "[encoded data removed]",
      "text/plain": [
       "<IPython.core.display.Image object>"
      ]
     },
     "metadata": {},
     "output_type": "display_data"
    }
   ],
   "source": [
    "# Node\n",
    "def chat_model_node(state: MessagesState):\n",
    "    return {\"messages\": [llm.invoke(state[\"messages\"][-1:])]}\n",
    "\n",
    "# Build graph\n",
    "builder = StateGraph(MessagesState)\n",
    "builder.add_node(\"chat_model\", chat_model_node)\n",
    "builder.add_edge(START, \"chat_model\")\n",
    "builder.add_edge(\"chat_model\", END)\n",
    "graph = builder.compile()\n",
    "\n",
    "# View\n",
    "display(Image(graph.get_graph().draw_mermaid_png()))"
   ]
  },
  {
   "cell_type": "code",
   "execution_count": 25,
   "id": "63ae8185",
   "metadata": {},
   "outputs": [],
   "source": [
    "messages.append(output['messages'][-1])\n",
    "messages.append(HumanMessage(f\"Tell me more about Narwhals!\", name=\"Lance\"))"
   ]
  },
  {
   "cell_type": "code",
   "execution_count": 26,
   "id": "140e9e3c",
   "metadata": {},
   "outputs": [
    {
     "name": "stdout",
     "output_type": "stream",
     "text": [
      "================================\u001b[1m Human Message \u001b[0m=================================\n",
      "Name: dummy\n",
      "\n",
      "Hello\n",
      "==================================\u001b[1m Ai Message \u001b[0m==================================\n",
      "Name: Bot\n",
      "\n",
      "Hi.\n",
      "================================\u001b[1m Human Message \u001b[0m=================================\n",
      "Name: Lance\n",
      "\n",
      "Hi.\n",
      "==================================\u001b[1m Ai Message \u001b[0m==================================\n",
      "Name: Bot\n",
      "\n",
      "So you said you were researching ocean mammals?\n",
      "================================\u001b[1m Human Message \u001b[0m=================================\n",
      "Name: Lance\n",
      "\n",
      "Yes, I know about whales. But what others should I learn about?\n",
      "==================================\u001b[1m Ai Message \u001b[0m==================================\n",
      "\n",
      "Here are some other fascinating animals you could learn more about:\n",
      "\n",
      "1. Octopus - Highly intelligent marine creatures with unique traits like changing color, using tools, and having three hearts.\n",
      "\n",
      "2. Platypus - The unique egg-laying, duck-billed, beaver-tailed, otter-footed mammal found only in Australia.\n",
      "\n",
      "3. Mantis Shrimp - One of the most fascinating and violent creatures in the ocean, with incredible vision and lightning fast claws.\n",
      "\n",
      "4. Tardigrade - Also known as water bears, these microscopic creatures can survive extreme environments like the vacuum of space.\n",
      "\n",
      "5. Pangolin - Scaled, ant-eating mammals found in Asia and Africa, they are the most trafficked animals in the world.\n",
      "\n",
      "6. Axolotl - This adorable Mexican salamander can regenerate lost limbs and organs.\n",
      "\n",
      "7. Cuttlefish - Masters of camouflage, these marine creatures have incredible color-changing abilities.\n",
      "\n",
      "8. Honey Badger - Fearless, tough, and highly intelligent, this small mammal is one of the toughest animals in the world.\n",
      "\n",
      "9. Cassowary - A large, flightless bird found in Australia and New Guinea, with a striking appearance and dangerous claws.\n",
      "\n",
      "10. Wombat - The stocky, burrowing marsupial native to Australia known for its cube-shaped poop.\n",
      "\n",
      "The natural world is full of amazing and unique lifeforms - exploring different animals can be a fascinating journey of discovery!\n",
      "================================\u001b[1m Human Message \u001b[0m=================================\n",
      "Name: Lance\n",
      "\n",
      "Tell me more about Narwhals!\n",
      "==================================\u001b[1m Ai Message \u001b[0m==================================\n",
      "\n",
      "Here are some other fascinating animals you could learn more about:\n",
      "\n",
      "1. Octopus - Highly intelligent marine creatures with unique traits like changing color, using tools, and having three hearts.\n",
      "\n",
      "2. Platypus - The unique egg-laying, duck-billed, beaver-tailed, otter-footed mammal found only in Australia.\n",
      "\n",
      "3. Mantis Shrimp - One of the most fascinating and violent creatures in the ocean, with incredible vision and lightning fast claws.\n",
      "\n",
      "4. Tardigrade - Also known as water bears, these microscopic creatures can survive extreme environments like the vacuum of space.\n",
      "\n",
      "5. Pangolin - Scaled, ant-eating mammals found in Asia and Africa, they are the most trafficked animals in the world.\n",
      "\n",
      "6. Axolotl - This adorable Mexican salamander can regenerate lost limbs and organs.\n",
      "\n",
      "7. Cuttlefish - Masters of camouflage, these marine creatures have incredible color-changing abilities.\n",
      "\n",
      "8. Honey Badger - Fearless, tough, and highly intelligent, this small mammal is one of the toughest animals in the world.\n",
      "\n",
      "9. Cassowary - A large, flightless bird found in Australia and New Guinea, with a striking appearance and dangerous claws.\n",
      "\n",
      "10. Wombat - The stocky, burrowing marsupial native to Australia known for its cube-shaped poop.\n",
      "\n",
      "The natural world is full of amazing and unique lifeforms - exploring different animals can be a fascinating journey of discovery!\n",
      "================================\u001b[1m Human Message \u001b[0m=================================\n",
      "Name: Lance\n",
      "\n",
      "Tell me more about Narwhals!\n",
      "==================================\u001b[1m Ai Message \u001b[0m==================================\n",
      "\n",
      "Here are some other fascinating animals you could learn more about:\n",
      "\n",
      "1. Octopus - Highly intelligent marine creatures with unique traits like changing color, using tools, and having three hearts.\n",
      "\n",
      "2. Platypus - The unique egg-laying, duck-billed, beaver-tailed, otter-footed mammal found only in Australia.\n",
      "\n",
      "3. Mantis Shrimp - One of the most fascinating and violent creatures in the ocean, with incredible vision and lightning fast claws.\n",
      "\n",
      "4. Tardigrade - Also known as water bears, these microscopic creatures can survive extreme environments like the vacuum of space.\n",
      "\n",
      "5. Pangolin - Scaled, ant-eating mammals found in Asia and Africa, they are the most trafficked animals in the world.\n",
      "\n",
      "6. Axolotl - This adorable Mexican salamander can regenerate lost limbs and organs.\n",
      "\n",
      "7. Cuttlefish - Masters of camouflage, these marine creatures have incredible color-changing abilities.\n",
      "\n",
      "8. Honey Badger - Fearless, tough, and highly intelligent, this small mammal is one of the toughest animals in the world.\n",
      "\n",
      "9. Cassowary - A large, flightless bird found in Australia and New Guinea, with a striking appearance and dangerous claws.\n",
      "\n",
      "10. Wombat - The stocky, burrowing marsupial native to Australia known for its cube-shaped poop.\n",
      "\n",
      "The natural world is full of amazing and unique lifeforms - exploring different animals can be a fascinating journey of discovery!\n",
      "================================\u001b[1m Human Message \u001b[0m=================================\n",
      "Name: Lance\n",
      "\n",
      "Tell me more about Narwhals!\n"
     ]
    }
   ],
   "source": [
    "for m in messages:\n",
    "    m.pretty_print()"
   ]
  },
  {
   "cell_type": "code",
   "execution_count": 27,
   "id": "652cb34e",
   "metadata": {},
   "outputs": [
    {
     "name": "stdout",
     "output_type": "stream",
     "text": [
      "================================\u001b[1m Human Message \u001b[0m=================================\n",
      "Name: dummy\n",
      "\n",
      "Hello\n",
      "==================================\u001b[1m Ai Message \u001b[0m==================================\n",
      "Name: Bot\n",
      "\n",
      "Hi.\n",
      "================================\u001b[1m Human Message \u001b[0m=================================\n",
      "Name: Lance\n",
      "\n",
      "Hi.\n",
      "==================================\u001b[1m Ai Message \u001b[0m==================================\n",
      "Name: Bot\n",
      "\n",
      "So you said you were researching ocean mammals?\n",
      "================================\u001b[1m Human Message \u001b[0m=================================\n",
      "Name: Lance\n",
      "\n",
      "Yes, I know about whales. But what others should I learn about?\n",
      "==================================\u001b[1m Ai Message \u001b[0m==================================\n",
      "\n",
      "Here are some other fascinating animals you could learn more about:\n",
      "\n",
      "1. Octopus - Highly intelligent marine creatures with unique traits like changing color, using tools, and having three hearts.\n",
      "\n",
      "2. Platypus - The unique egg-laying, duck-billed, beaver-tailed, otter-footed mammal found only in Australia.\n",
      "\n",
      "3. Mantis Shrimp - One of the most fascinating and violent creatures in the ocean, with incredible vision and lightning fast claws.\n",
      "\n",
      "4. Tardigrade - Also known as water bears, these microscopic creatures can survive extreme environments like the vacuum of space.\n",
      "\n",
      "5. Pangolin - Scaled, ant-eating mammals found in Asia and Africa, they are the most trafficked animals in the world.\n",
      "\n",
      "6. Axolotl - This adorable Mexican salamander can regenerate lost limbs and organs.\n",
      "\n",
      "7. Cuttlefish - Masters of camouflage, these marine creatures have incredible color-changing abilities.\n",
      "\n",
      "8. Honey Badger - Fearless, tough, and highly intelligent, this small mammal is one of the toughest animals in the world.\n",
      "\n",
      "9. Cassowary - A large, flightless bird found in Australia and New Guinea, with a striking appearance and dangerous claws.\n",
      "\n",
      "10. Wombat - The stocky, burrowing marsupial native to Australia known for its cube-shaped poop.\n",
      "\n",
      "The natural world is full of amazing and unique lifeforms - exploring different animals can be a fascinating journey of discovery!\n",
      "================================\u001b[1m Human Message \u001b[0m=================================\n",
      "Name: Lance\n",
      "\n",
      "Tell me more about Narwhals!\n",
      "================================\u001b[1m Human Message \u001b[0m=================================\n",
      "Name: Lance\n",
      "\n",
      "Tell me more about Narwhals!\n",
      "================================\u001b[1m Human Message \u001b[0m=================================\n",
      "Name: Lance\n",
      "\n",
      "Tell me more about Narwhals!\n",
      "==================================\u001b[1m Ai Message \u001b[0m==================================\n",
      "\n",
      "Here are some key facts about narwhals:\n",
      "\n",
      "- Narwhals are medium-sized whales that are found in the Arctic waters around Greenland, Canada, and Russia. They are known for their distinctive spiral tusk, which is actually an elongated tooth.\n",
      "\n",
      "- The tusk can grow up to 10 feet long and is unique to male narwhals. Females and some males do not have a tusk. The tusk is sensitive and is thought to play a role in social interactions and mating.\n",
      "\n",
      "- Narwhals are sometimes referred to as the \"unicorns of the sea\" due to their distinctive tusk. They are dark gray in color and can grow up to 18 feet long and weigh around 3,500 pounds.\n",
      "\n",
      "- They are excellent divers, able to reach depths of over 1 mile while hunting for food. Their diet consists mainly of arctic cod, halibut, and shrimp.\n",
      "\n",
      "- Narwhals migrate long distances seasonally, moving from open water in the summer to areas with heavy sea ice in the winter. This migration pattern allows them to take advantage of the changing food sources.\n",
      "\n",
      "- Narwhals are considered vulnerable as a species due to threats like climate change, oil and gas development, and subsistence hunting. Their population is estimated to be around 170,000 individuals.\n",
      "\n",
      "- They are an important part of the culture and diet of indigenous Arctic peoples, who have hunted narwhals for centuries. Their tusks are also sought after as rare collectibles.\n"
     ]
    }
   ],
   "source": [
    "# Invoke, using message filtering\n",
    "output = graph.invoke({'messages': messages})\n",
    "for m in output['messages']:\n",
    "    m.pretty_print()"
   ]
  },
  {
   "cell_type": "markdown",
   "id": "a406784d",
   "metadata": {},
   "source": [
    "The state has all of the mesages.\n",
    "\n",
    "But, the model invocation only uses the last message:"
   ]
  },
  {
   "cell_type": "markdown",
   "id": "4eeb99ef",
   "metadata": {},
   "source": [
    "### Trim messages\n",
    "Another approach is to trim messages, based upon a set number of tokens.\n",
    "\n",
    "This restricts the message history to a specified number of tokens."
   ]
  },
  {
   "cell_type": "code",
   "execution_count": 37,
   "id": "387d90d1",
   "metadata": {},
   "outputs": [
    {
     "data": {
      "image/png": "[encoded data removed]",
      "text/plain": [
       "<IPython.core.display.Image object>"
      ]
     },
     "metadata": {},
     "output_type": "display_data"
    }
   ],
   "source": [
    "from langchain_core.messages import trim_messages\n",
    "\n",
    "# Node\n",
    "def chat_model_node(state: MessagesState):\n",
    "    messages = trim_messages(\n",
    "            state[\"messages\"],\n",
    "            max_tokens=100,\n",
    "            strategy=\"last\",\n",
    "            token_counter=ChatOpenAI(model=\"gpt-4o\"),\n",
    "            allow_partial=False,\n",
    "        )\n",
    "    return {\"messages\": [llm.invoke(messages)]}\n",
    "\n",
    "# Build graph\n",
    "builder = StateGraph(MessagesState)\n",
    "builder.add_node(\"chat_model\", chat_model_node)\n",
    "builder.add_edge(START, \"chat_model\")\n",
    "builder.add_edge(\"chat_model\", END)\n",
    "graph = builder.compile()\n",
    "\n",
    "# View\n",
    "display(Image(graph.get_graph().draw_mermaid_png()))"
   ]
  },
  {
   "cell_type": "code",
   "execution_count": 38,
   "id": "d1cbfc6c",
   "metadata": {},
   "outputs": [],
   "source": [
    "messages.append(output['messages'][-1])\n",
    "messages.append(HumanMessage(f\"Tell me where Orcas live!\", name=\"Lance\"))"
   ]
  },
  {
   "cell_type": "code",
   "execution_count": null,
   "id": "5cd16744",
   "metadata": {},
   "outputs": [],
   "source": [
    "# Example of trimming messages\n",
    "#  Since it is using openai I was not able to run but it only keeps the last message \n",
    "# [HumanMessage(content='Tell me where Orcas live!', name='Lance')]\n",
    "trim_messages(\n",
    "            messages,\n",
    "            max_tokens=100,\n",
    "            strategy=\"last\",\n",
    "            token_counter=ChatOpenAI(model=\"gpt-4o\"),\n",
    "            allow_partial=False\n",
    "        )"
   ]
  },
  {
   "cell_type": "code",
   "execution_count": null,
   "id": "4368fa3b",
   "metadata": {},
   "outputs": [],
   "source": [
    "# Invoke, using message trimming in the chat_model_node \n",
    "messages_out_trim = graph.invoke({'messages': messages})"
   ]
  }
 ],
 "metadata": {
  "kernelspec": {
   "display_name": "langchain-academy-langgraph",
   "language": "python",
   "name": "python3"
  },
  "language_info": {
   "codemirror_mode": {
    "name": "ipython",
    "version": 3
   },
   "file_extension": ".py",
   "mimetype": "text/x-python",
   "name": "python",
   "nbconvert_exporter": "python",
   "pygments_lexer": "ipython3",
   "version": "3.13.5"
  }
 },
 "nbformat": 4,
 "nbformat_minor": 5
}
