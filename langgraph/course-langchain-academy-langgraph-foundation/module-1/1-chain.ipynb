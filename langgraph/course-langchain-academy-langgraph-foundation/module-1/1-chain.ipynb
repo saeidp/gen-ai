{
 "cells": [
  {
   "cell_type": "code",
   "execution_count": 5,
   "id": "c6481cb2",
   "metadata": {},
   "outputs": [
    {
     "name": "stdout",
     "output_type": "stream",
     "text": [
      "================================\u001b[1m Human Message \u001b[0m=================================\n",
      "Name: Lance\n",
      "\n",
      "I am researching ocan mammals\n",
      "==================================\u001b[1m Ai Message \u001b[0m==================================\n",
      "Name: Model\n",
      "\n",
      "So you said you were researching ocean mammals?\n",
      "================================\u001b[1m Human Message \u001b[0m=================================\n",
      "Name: Lance\n",
      "\n",
      "Yes, that's right.\n",
      "==================================\u001b[1m Ai Message \u001b[0m==================================\n",
      "Name: Model\n",
      "\n",
      "Great, what would you like to learn about.\n",
      "================================\u001b[1m Human Message \u001b[0m=================================\n",
      "Name: Lance\n",
      "\n",
      "I want to learn about the best place to see Orcas in the US.\n"
     ]
    }
   ],
   "source": [
    "from pprint import pprint\n",
    "from langchain_core.messages import AIMessage, HumanMessage\n",
    "\n",
    "messages = [HumanMessage(content=\"I am researching ocan mammals\", name=\"Lance\")]\n",
    "messages.append(AIMessage(content=f\"So you said you were researching ocean mammals?\", name=\"Model\"))\n",
    "messages.append(HumanMessage(content=f\"Yes, that's right.\",name=\"Lance\"))\n",
    "messages.append(AIMessage(content=f\"Great, what would you like to learn about.\", name=\"Model\"))\n",
    "messages.append(HumanMessage(content=f\"I want to learn about the best place to see Orcas in the US.\", name=\"Lance\"))\n",
    "\n",
    "for m in messages:\n",
    "    m.pretty_print()"
   ]
  },
  {
   "cell_type": "code",
   "execution_count": 6,
   "id": "0e51eccf",
   "metadata": {},
   "outputs": [
    {
     "data": {
      "text/plain": [
       "langchain_core.messages.ai.AIMessage"
      ]
     },
     "execution_count": 6,
     "metadata": {},
     "output_type": "execute_result"
    }
   ],
   "source": [
    "from langchain.chat_models import init_chat_model\n",
    "llm = init_chat_model(\n",
    "    \"anthropic.claude-3-haiku-20240307-v1:0\",\n",
    "    model_provider=\"bedrock_converse\",\n",
    ")\n",
    "result = llm.invoke(messages)\n",
    "type(result)"
   ]
  },
  {
   "cell_type": "code",
   "execution_count": 7,
   "id": "dcab4978",
   "metadata": {},
   "outputs": [
    {
     "data": {
      "text/plain": [
       "AIMessage(content=\"Here are some of the best places in the United States to see killer whales (orcas):\\n\\n1. San Juan Islands, Washington: The San Juan Islands in the Puget Sound are one of the most famous orca watching destinations in the US. The resident Southern Resident killer whales can be seen here, especially during the spring, summer, and fall.\\n\\n2. Vancouver Island, British Columbia: While not in the US, the waters around Vancouver Island, just across the border from Washington, are also excellent for orca watching. Many tour companies operate out of Victoria and other coastal towns.\\n\\n3. Monterey Bay, California: Orcas can sometimes be spotted in the productive waters of Monterey Bay, especially during the migration seasons in spring and fall.\\n\\n4. Juneau, Alaska: Alaska's Inside Passage near Juneau is home to several different orca populations that can be seen on whale watching tours, especially in the summer months.\\n\\n5. The Florida Keys: While not as common as on the west coast, orcas are occasionally spotted in the waters around the Florida Keys, especially near Key West.\\n\\nThe best time to see orcas in these locations is generally from late spring through early fall when the whales are more actively feeding in coastal waters. I'd recommend researching local whale watching tour operators in the areas you're interested in visiting.\", additional_kwargs={}, response_metadata={'ResponseMetadata': {'RequestId': 'c7ff2ff5-0346-4c9a-bc91-c489ff842dae', 'HTTPStatusCode': 200, 'HTTPHeaders': {'date': 'Wed, 02 Jul 2025 22:59:29 GMT', 'content-type': 'application/json', 'content-length': '1536', 'connection': 'keep-alive', 'x-amzn-requestid': 'c7ff2ff5-0346-4c9a-bc91-c489ff842dae'}, 'RetryAttempts': 0}, 'stopReason': 'end_turn', 'metrics': {'latencyMs': [4089]}, 'model_name': 'anthropic.claude-3-haiku-20240307-v1:0'}, id='run--66d3a0f2-7869-49c8-ad08-4c9264649ab8-0', usage_metadata={'input_tokens': 70, 'output_tokens': 294, 'total_tokens': 364, 'input_token_details': {'cache_creation': 0, 'cache_read': 0}})"
      ]
     },
     "execution_count": 7,
     "metadata": {},
     "output_type": "execute_result"
    }
   ],
   "source": [
    "result"
   ]
  },
  {
   "cell_type": "code",
   "execution_count": 8,
   "id": "8e6449f5",
   "metadata": {},
   "outputs": [],
   "source": [
    "def multiply(a: int, b: int) -> int:\n",
    "    \"\"\"Multiply a and b.\n",
    "\n",
    "    Args:\n",
    "        a: first int\n",
    "        b: second int\n",
    "    \"\"\"\n",
    "    return a * b\n",
    "\n",
    "llm_with_tools = llm.bind_tools([multiply])"
   ]
  },
  {
   "cell_type": "code",
   "execution_count": 9,
   "id": "d91cf56e",
   "metadata": {},
   "outputs": [],
   "source": [
    "tool_call = llm_with_tools.invoke([HumanMessage(content=f\"What is 2 multiplied by 3\", name=\"Lance\")])"
   ]
  },
  {
   "cell_type": "code",
   "execution_count": 10,
   "id": "5e32e083",
   "metadata": {},
   "outputs": [
    {
     "data": {
      "text/plain": [
       "[{'name': 'multiply',\n",
       "  'args': {'a': 2, 'b': 3},\n",
       "  'id': 'tooluse_cv33NRv2QV6CvLFkLz-BkA',\n",
       "  'type': 'tool_call'}]"
      ]
     },
     "execution_count": 10,
     "metadata": {},
     "output_type": "execute_result"
    }
   ],
   "source": [
    "tool_call.tool_calls"
   ]
  },
  {
   "cell_type": "code",
   "execution_count": 14,
   "id": "ca9bf50c",
   "metadata": {},
   "outputs": [],
   "source": [
    "# from typing_extensions import TypedDict\n",
    "# from langchain_core.messages import AnyMessage\n",
    "# from typing import Annotated\n",
    "# from langgraph.graph.message import add_messages\n",
    "# class MessagesState(TypedDict):\n",
    "#     messages: Annotated[list[AnyMessage], add_messages]"
   ]
  },
  {
   "cell_type": "markdown",
   "id": "7cae44f1",
   "metadata": {},
   "source": [
    "Since having a list of messages in graph state is so common, LangGraph has a pre-built MessagesState!\n",
    "\n",
    "MessagesState is defined:\n",
    "\n",
    "With a pre-build single messages key\n",
    "This is a list of AnyMessage objects\n",
    "It uses the add_messages reducer\n",
    "We'll usually use MessagesState because it is less verbose than defining a custom TypedDict, as shown above."
   ]
  },
  {
   "cell_type": "code",
   "execution_count": 15,
   "id": "2880db35",
   "metadata": {},
   "outputs": [],
   "source": [
    "# A prebuilt MessagesState class is available in langgraph.graph.MessagesState\n",
    "# This does exactly do the above, so you can use it directly without defining your own.\n",
    "from langgraph.graph import MessagesState\n",
    "\n",
    "class MessagesState(MessagesState):\n",
    "    # Add any keys needed beyond messages, which is pre-built \n",
    "    pass"
   ]
  },
  {
   "cell_type": "code",
   "execution_count": 16,
   "id": "431a497c",
   "metadata": {},
   "outputs": [
    {
     "data": {
      "text/plain": [
       "[AIMessage(content='Hello! How can I assist you?', additional_kwargs={}, response_metadata={}, name='Model', id='38bd548a-edf8-44ee-9f72-d588834a3f8d'),\n",
       " HumanMessage(content=\"I'm looking for information on marine biology.\", additional_kwargs={}, response_metadata={}, name='Lance', id='88c8b17e-0350-470d-bcde-9e585e4fea27'),\n",
       " AIMessage(content='Sure, I can help with that. What specifically are you interested in?', additional_kwargs={}, response_metadata={}, name='Model', id='48fa2278-164e-4021-bda6-fdfef969eeb1')]"
      ]
     },
     "execution_count": 16,
     "metadata": {},
     "output_type": "execute_result"
    }
   ],
   "source": [
    "# Initial state\n",
    "initial_messages = [AIMessage(content=\"Hello! How can I assist you?\", name=\"Model\"),\n",
    "                    HumanMessage(content=\"I'm looking for information on marine biology.\", name=\"Lance\")\n",
    "                   ]\n",
    "\n",
    "# New message to add\n",
    "new_message = AIMessage(content=\"Sure, I can help with that. What specifically are you interested in?\", name=\"Model\")\n",
    "\n",
    "# Test\n",
    "add_messages(initial_messages , new_message)"
   ]
  },
  {
   "cell_type": "code",
   "execution_count": 17,
   "id": "8a276521",
   "metadata": {},
   "outputs": [
    {
     "data": {
      "image/png": "[encoded data removed]",
      "text/plain": [
       "<IPython.core.display.Image object>"
      ]
     },
     "metadata": {},
     "output_type": "display_data"
    }
   ],
   "source": [
    "from IPython.display import Image, display\n",
    "from langgraph.graph import StateGraph, START, END\n",
    "    \n",
    "# Node\n",
    "def tool_calling_llm(state: MessagesState):\n",
    "    return {\"messages\": [llm_with_tools.invoke(state[\"messages\"])]}\n",
    "\n",
    "# Build graph\n",
    "builder = StateGraph(MessagesState)\n",
    "builder.add_node(\"tool_calling_llm\", tool_calling_llm)\n",
    "builder.add_edge(START, \"tool_calling_llm\")\n",
    "builder.add_edge(\"tool_calling_llm\", END)\n",
    "graph = builder.compile()\n",
    "\n",
    "# View\n",
    "display(Image(graph.get_graph().draw_mermaid_png()))"
   ]
  },
  {
   "cell_type": "code",
   "execution_count": 18,
   "id": "4fb407bc",
   "metadata": {},
   "outputs": [
    {
     "name": "stdout",
     "output_type": "stream",
     "text": [
      "================================\u001b[1m Human Message \u001b[0m=================================\n",
      "\n",
      "Hello!\n",
      "==================================\u001b[1m Ai Message \u001b[0m==================================\n",
      "\n",
      "Hello! How can I assist you today?\n"
     ]
    }
   ],
   "source": [
    "messages = graph.invoke({\"messages\": HumanMessage(content=\"Hello!\")})\n",
    "for m in messages['messages']:\n",
    "    m.pretty_print()"
   ]
  },
  {
   "cell_type": "code",
   "execution_count": 19,
   "id": "c6e5f1e4",
   "metadata": {},
   "outputs": [
    {
     "name": "stdout",
     "output_type": "stream",
     "text": [
      "================================\u001b[1m Human Message \u001b[0m=================================\n",
      "\n",
      "Multiply 2 and 3\n",
      "==================================\u001b[1m Ai Message \u001b[0m==================================\n",
      "\n",
      "[{'type': 'text', 'text': 'Here is the result of multiplying 2 and 3:'}, {'type': 'tool_use', 'name': 'multiply', 'input': {'a': 2, 'b': 3}, 'id': 'tooluse_xUFBjEOuRxCUWwawDYHAkA'}]\n",
      "Tool Calls:\n",
      "  multiply (tooluse_xUFBjEOuRxCUWwawDYHAkA)\n",
      " Call ID: tooluse_xUFBjEOuRxCUWwawDYHAkA\n",
      "  Args:\n",
      "    a: 2\n",
      "    b: 3\n"
     ]
    }
   ],
   "source": [
    "messages = graph.invoke({\"messages\": HumanMessage(content=\"Multiply 2 and 3\")})\n",
    "for m in messages['messages']:\n",
    "    m.pretty_print()"
   ]
  }
 ],
 "metadata": {
  "kernelspec": {
   "display_name": "langchain-academy-langgraph",
   "language": "python",
   "name": "python3"
  },
  "language_info": {
   "codemirror_mode": {
    "name": "ipython",
    "version": 3
   },
   "file_extension": ".py",
   "mimetype": "text/x-python",
   "name": "python",
   "nbconvert_exporter": "python",
   "pygments_lexer": "ipython3",
   "version": "3.13.5"
  }
 },
 "nbformat": 4,
 "nbformat_minor": 5
}
