{
 "cells": [
  {
   "cell_type": "code",
   "execution_count": null,
   "id": "63b7cce5",
   "metadata": {},
   "outputs": [],
   "source": [
    "%env PIP_INDEX_URL=https://pypi.org/simple\n",
    "%pip install -U langgraph langsmith\n",
    "%pip install -U \"langchain[aws]\""
   ]
  }
 ],
 "metadata": {
  "language_info": {
   "name": "python"
  }
 },
 "nbformat": 4,
 "nbformat_minor": 5
}
