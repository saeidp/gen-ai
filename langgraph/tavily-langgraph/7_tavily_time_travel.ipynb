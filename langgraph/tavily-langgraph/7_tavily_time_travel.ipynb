{
 "cells": [
  {
   "cell_type": "markdown",
   "id": "45a77bb9",
   "metadata": {},
   "source": [
    "## Time travel"
   ]
  },
  {
   "cell_type": "markdown",
   "id": "447e1e5c",
   "metadata": {},
   "source": [
    "In a typical chatbot workflow, the user interacts with the bot one or more times to accomplish a task. Memory and a human-in-the-loop enable checkpoints in the graph state and control future responses.\n",
    "What if you want a user to be able to start from a previous response and explore a different outcome? Or what if you want users to be able to rewind your chatbot's work to fix mistakes or try a different strategy, something that is common in applications like autonomous software engineers?"
   ]
  },
  {
   "cell_type": "code",
   "execution_count": 1,
   "id": "10fc597f",
   "metadata": {},
   "outputs": [
    {
     "name": "stdout",
     "output_type": "stream",
     "text": [
      "API key loaded: tvly...\n"
     ]
    }
   ],
   "source": [
    "import os\n",
    "from dotenv import load_dotenv\n",
    "\n",
    "load_dotenv()  # Load from .env file\n",
    "\n",
    "api_key = os.getenv(\"TAVILY_API_KEY\")\n",
    "\n",
    "print(\"API key loaded:\", api_key[:4] + \"...\" if api_key else \"Not found\")"
   ]
  },
  {
   "cell_type": "code",
   "execution_count": 2,
   "id": "478941d0",
   "metadata": {},
   "outputs": [],
   "source": [
    "from langchain.chat_models import init_chat_model # type: ignore\n",
    "\n",
    "# Follow the steps here to configure your credentials:\n",
    "# https://docs.aws.amazon.com/bedrock/latest/userguide/getting-started.html\n",
    "\n",
    "llm = init_chat_model(\n",
    "    \"anthropic.claude-3-haiku-20240307-v1:0\",\n",
    "    model_provider=\"bedrock_converse\",\n",
    ")"
   ]
  },
  {
   "cell_type": "markdown",
   "id": "f0a4f903",
   "metadata": {},
   "source": []
  },
  {
   "cell_type": "markdown",
   "id": "833fd8c4",
   "metadata": {},
   "source": []
  },
  {
   "cell_type": "markdown",
   "id": "63453446",
   "metadata": {},
   "source": [
    "#### 1- Rewind your graph\n",
    "Rewind your graph by fetching a checkpoint using the graph's get_state_history method. You can then resume execution at this previous point in time."
   ]
  },
  {
   "cell_type": "code",
   "execution_count": 3,
   "id": "6485179d",
   "metadata": {},
   "outputs": [],
   "source": [
    "from typing import Annotated\n",
    "\n",
    "from langchain_tavily import TavilySearch\n",
    "from langchain_core.messages import BaseMessage\n",
    "from typing_extensions import TypedDict\n",
    "\n",
    "from langgraph.checkpoint.memory import MemorySaver\n",
    "from langgraph.graph import StateGraph, START, END\n",
    "from langgraph.graph.message import add_messages\n",
    "from langgraph.prebuilt import ToolNode, tools_condition\n",
    "\n",
    "class State(TypedDict):\n",
    "    messages: Annotated[list, add_messages]\n",
    "\n",
    "graph_builder = StateGraph(State)\n",
    "\n",
    "tool = TavilySearch(max_results=2)\n",
    "tools = [tool]\n",
    "llm_with_tools = llm.bind_tools(tools)\n",
    "\n",
    "def chatbot(state: State):\n",
    "    return {\"messages\": [llm_with_tools.invoke(state[\"messages\"])]}\n",
    "\n",
    "graph_builder.add_node(\"chatbot\", chatbot)\n",
    "\n",
    "tool_node = ToolNode(tools=[tool])\n",
    "graph_builder.add_node(\"tools\", tool_node)\n",
    "\n",
    "graph_builder.add_conditional_edges(\n",
    "    \"chatbot\",\n",
    "    tools_condition,\n",
    ")\n",
    "graph_builder.add_edge(\"tools\", \"chatbot\")\n",
    "graph_builder.add_edge(START, \"chatbot\")\n",
    "\n",
    "memory = MemorySaver()\n",
    "graph = graph_builder.compile(checkpointer=memory)"
   ]
  },
  {
   "cell_type": "markdown",
   "id": "50ab0435",
   "metadata": {},
   "source": []
  },
  {
   "cell_type": "markdown",
   "id": "5e97f6bd",
   "metadata": {},
   "source": [
    "#### 2- Add steps\n",
    "Add steps to your graph. Every step will be checkpointed in its state history:"
   ]
  },
  {
   "cell_type": "code",
   "execution_count": 4,
   "id": "0a822f74",
   "metadata": {},
   "outputs": [
    {
     "name": "stdout",
     "output_type": "stream",
     "text": [
      "================================\u001b[1m Human Message \u001b[0m=================================\n",
      "\n",
      "I'm learning LangGraph. Could you do some research on it for me?\n",
      "==================================\u001b[1m Ai Message \u001b[0m==================================\n",
      "\n",
      "[{'type': 'tool_use', 'name': 'tavily_search', 'input': {'query': 'LangGraph', 'search_depth': 'advanced'}, 'id': 'tooluse_RC3JTJIFTXCAUkwA-XS6bA'}]\n",
      "Tool Calls:\n",
      "  tavily_search (tooluse_RC3JTJIFTXCAUkwA-XS6bA)\n",
      " Call ID: tooluse_RC3JTJIFTXCAUkwA-XS6bA\n",
      "  Args:\n",
      "    query: LangGraph\n",
      "    search_depth: advanced\n",
      "=================================\u001b[1m Tool Message \u001b[0m=================================\n",
      "Name: tavily_search\n",
      "\n",
      "{\"query\": \"LangGraph\", \"follow_up_questions\": null, \"answer\": null, \"images\": [], \"results\": [{\"url\": \"https://www.ibm.com/think/topics/langgraph\", \"title\": \"What is LangGraph? - IBM\", \"content\": \"LangGraph, created by LangChain, is an open source AI agent framework designed to build, deploy and manage complex generative AI agent workflows. It provides a set of tools and libraries that enable users to create, run and optimize large language models (LLMs) in a scalable and efficient manner. At its core, LangGraph uses the power of graph-based architectures to model and manage the intricate relationships between various components of an AI agent workflow. [...] Agent systems: LangGraph provides a framework for building agent-based systems, which can be used in applications such as robotics, autonomous vehicles or video games.\\nLLM applications: By using LangGraph’s capabilities, developers can build more sophisticated AI models that learn and improve over time. Norwegian Cruise Line uses LangGraph to compile, construct and refine guest-facing AI solutions. This capability allows for improved and personalized guest experiences. [...] By using a graph-based architecture, LangGraph enables users to scale artificial intelligence workflows without slowing down or sacrificing efficiency. LangGraph uses enhanced decision-making by modeling complex relationships between nodes, which means it uses AI agents to analyze their past actions and feedback. In the world of LLMs, this process is referred to as reflection.\", \"score\": 0.9353998, \"raw_content\": null}, {\"url\": \"https://www.langchain.com/langgraph\", \"title\": \"LangGraph - LangChain\", \"content\": \"LangGraph is a stateful, orchestration framework that brings added control to agent workflows. LangGraph Platform is a service for deploying and scaling LangGraph applications, with an opinionated API for building agent UXs, plus an integrated developer studio.\\nLangGraph (open source)\\nLangGraph Platform\\nFeatures\\nDescription\\nStateful orchestration framework for agentic applications\\nScalable infrastructure for deploying LangGraph applications\\nSDKs\\nPython and JavaScript\\nPython and JavaScript\", \"score\": 0.921591, \"raw_content\": null}], \"response_time\": 0.76}\n",
      "==================================\u001b[1m Ai Message \u001b[0m==================================\n",
      "\n",
      "Based on the search results, here's what I've learned about LangGraph:\n",
      "\n",
      "LangGraph is an open-source AI agent framework created by LangChain. It is designed to help developers build, deploy, and manage complex generative AI agent workflows. \n",
      "\n",
      "Some key features of LangGraph:\n",
      "\n",
      "- Provides a graph-based architecture to model and manage the relationships between various components of an AI agent workflow. This allows for more scalable and efficient AI systems.\n",
      "\n",
      "- Enables the creation of more sophisticated AI models that can learn and improve over time through reflection on their past actions and feedback.\n",
      "\n",
      "- Supports building agent-based systems for applications like robotics, autonomous vehicles, and video games.\n",
      "\n",
      "- Offers a platform service called LangGraph Platform for deploying and scaling LangGraph applications with an API for building agent user experiences and an integrated developer studio.\n",
      "\n",
      "- Provides SDKs in both Python and JavaScript for developing LangGraph applications.\n",
      "\n",
      "Overall, LangGraph seems to be a useful framework for developers looking to build complex, scalable, and stateful AI agent systems. The graph-based architecture and focus on reflection and learning appear to be key differentiators from other AI development tools.\n"
     ]
    }
   ],
   "source": [
    "config = {\"configurable\": {\"thread_id\": \"1\"}}\n",
    "events = graph.stream(\n",
    "    {\n",
    "        \"messages\": [\n",
    "            {\n",
    "                \"role\": \"user\",\n",
    "                \"content\": (\n",
    "                    \"I'm learning LangGraph. \"\n",
    "                    \"Could you do some research on it for me?\"\n",
    "                ),\n",
    "            },\n",
    "        ],\n",
    "    },\n",
    "    config,\n",
    "    stream_mode=\"values\",\n",
    ")\n",
    "for event in events:\n",
    "    if \"messages\" in event:\n",
    "        event[\"messages\"][-1].pretty_print()"
   ]
  },
  {
   "cell_type": "code",
   "execution_count": 5,
   "id": "48536b05",
   "metadata": {},
   "outputs": [
    {
     "name": "stdout",
     "output_type": "stream",
     "text": [
      "================================\u001b[1m Human Message \u001b[0m=================================\n",
      "\n",
      "Ya that's helpful. Maybe I'll build an autonomous agent with it!. could you do some research on building autonomous agents with LangGraph?\n",
      "==================================\u001b[1m Ai Message \u001b[0m==================================\n",
      "\n",
      "[{'type': 'text', 'text': \"Okay, let's dive deeper into how to build autonomous agents using LangGraph.\"}, {'type': 'tool_use', 'name': 'tavily_search', 'input': {'search_depth': 'advanced', 'query': 'building autonomous agents with langgraph'}, 'id': 'tooluse_SyGOMYuCRauGHRG_nG8xlw'}]\n",
      "Tool Calls:\n",
      "  tavily_search (tooluse_SyGOMYuCRauGHRG_nG8xlw)\n",
      " Call ID: tooluse_SyGOMYuCRauGHRG_nG8xlw\n",
      "  Args:\n",
      "    search_depth: advanced\n",
      "    query: building autonomous agents with langgraph\n",
      "=================================\u001b[1m Tool Message \u001b[0m=================================\n",
      "Name: tavily_search\n",
      "\n",
      "{\"query\": \"building autonomous agents with langgraph\", \"follow_up_questions\": null, \"answer\": null, \"images\": [], \"results\": [{\"url\": \"https://www.coursera.org/learn/packt-building-autonomous-ai-agents-with-langgraph-oyjym\", \"title\": \"Building Autonomous AI Agents with LangGraph | Coursera\", \"content\": \"What you'll learn. Build autonomous AI agents with advanced query handling and state management. Integrate LangGraph to design scalable, interactive AI systems.\", \"score\": 0.86080295, \"raw_content\": null}, {\"url\": \"https://medium.com/data-science-collective/the-complete-guide-to-building-your-first-ai-agent-its-easier-than-you-think-c87f376c84b2\", \"title\": \"How to Build AI Agents Step-by-Step with LangGraph - Medium\", \"content\": \"Building AI Agents with LangGraph\\nNow that you understand what AI agents are and why they matter, let’s build one using LangGraph — a LangChain’s framework for building robust AI agents.\\nWhat I really like about LangGraph is that it lets you map your agent’s thinking and actions as a graph. Each node represent a capability (like searching the web or writing code), and connections between nodes (edges) control information flows.\", \"score\": 0.834852, \"raw_content\": null}], \"response_time\": 2.06}\n",
      "==================================\u001b[1m Ai Message \u001b[0m==================================\n",
      "\n",
      "The search results provide some helpful insights on building autonomous agents with LangGraph:\n",
      "\n",
      "1. Integrating LangGraph allows developers to design scalable, interactive AI systems for autonomous agents. LangGraph's graph-based architecture is well-suited for modeling the complex relationships and workflows involved in autonomous agent systems.\n",
      "\n",
      "2. The key aspects of building autonomous agents with LangGraph seem to be:\n",
      "\n",
      "- Mapping the agent's capabilities as nodes in a graph\n",
      "- Defining the connections (edges) between nodes to control information flows and decision-making\n",
      "- Leveraging LangGraph's state management and query handling capabilities to create agents that can learn and evolve over time\n",
      "\n",
      "3. One tutorial on Coursera covers building autonomous AI agents with advanced query handling and state management using LangGraph. This suggests there are structured learning resources available for developers to get started.\n",
      "\n",
      "4. A Medium article provides a more general \"first principles\" guide on building AI agents, highlighting how LangGraph's graph-based architecture can be used to model agent workflows and decision-making.\n",
      "\n",
      "Overall, the search results indicate that LangGraph is a well-suited framework for developing autonomous agent systems, providing the necessary tools and architectural patterns to create scalable, interactive, and self-improving AI agents. The graph-based modeling approach seems to be a key differentiator that simplifies the complexity of autonomous agent design and implementation.\n"
     ]
    }
   ],
   "source": [
    "events = graph.stream(\n",
    "    {\n",
    "        \"messages\": [\n",
    "            {\n",
    "                \"role\": \"user\",\n",
    "                \"content\": (\n",
    "                    \"Ya that's helpful. Maybe I'll \"\n",
    "                    \"build an autonomous agent with it!. could you do some research on building autonomous agents with LangGraph?\"\n",
    "                ),\n",
    "            },\n",
    "        ],\n",
    "    },\n",
    "    config,\n",
    "    stream_mode=\"values\",\n",
    ")\n",
    "for event in events:\n",
    "    if \"messages\" in event:\n",
    "        event[\"messages\"][-1].pretty_print()"
   ]
  },
  {
   "cell_type": "markdown",
   "id": "1a5b4f33",
   "metadata": {},
   "source": [
    "#### 3- Replay the fullstate history"
   ]
  },
  {
   "cell_type": "code",
   "execution_count": 6,
   "id": "4635d3de",
   "metadata": {},
   "outputs": [
    {
     "name": "stdout",
     "output_type": "stream",
     "text": [
      "Num Messages:  8 Next:  ()\n",
      "--------------------------------------------------------------------------------\n",
      "Num Messages:  7 Next:  ('chatbot',)\n",
      "--------------------------------------------------------------------------------\n",
      "Num Messages:  6 Next:  ('tools',)\n",
      "--------------------------------------------------------------------------------\n",
      "Num Messages:  5 Next:  ('chatbot',)\n",
      "--------------------------------------------------------------------------------\n",
      "Num Messages:  4 Next:  ('__start__',)\n",
      "--------------------------------------------------------------------------------\n",
      "Num Messages:  4 Next:  ()\n",
      "--------------------------------------------------------------------------------\n",
      "Num Messages:  3 Next:  ('chatbot',)\n",
      "--------------------------------------------------------------------------------\n",
      "Num Messages:  2 Next:  ('tools',)\n",
      "--------------------------------------------------------------------------------\n",
      "Num Messages:  1 Next:  ('chatbot',)\n",
      "--------------------------------------------------------------------------------\n",
      "Num Messages:  0 Next:  ('__start__',)\n",
      "--------------------------------------------------------------------------------\n"
     ]
    }
   ],
   "source": [
    "to_replay = None\n",
    "for state in graph.get_state_history(config):\n",
    "    print(\"Num Messages: \", len(state.values[\"messages\"]), \"Next: \", state.next)\n",
    "    print(\"-\" * 80)\n",
    "    if len(state.values[\"messages\"]) == 6:\n",
    "        # We are somewhat arbitrarily selecting a specific state based on the number of chat messages in the state.\n",
    "        to_replay = state"
   ]
  },
  {
   "cell_type": "markdown",
   "id": "889c1ef5",
   "metadata": {},
   "source": [
    "Checkpoints are saved for every step of the graph. This spans invocations so you can rewind across a full thread's history."
   ]
  },
  {
   "cell_type": "markdown",
   "id": "78a25983",
   "metadata": {},
   "source": [
    "#### Resume from a checkpoint\n",
    "Resume from the to_replay state, which is after the chatbot node in the second graph invocation. Resuming from this point will call the action node next."
   ]
  },
  {
   "cell_type": "code",
   "execution_count": null,
   "id": "2301c9b5",
   "metadata": {},
   "outputs": [
    {
     "name": "stdout",
     "output_type": "stream",
     "text": [
      "('tools',)\n",
      "{'configurable': {'thread_id': '1', 'checkpoint_ns': '', 'checkpoint_id': '1f03b4d9-8f76-6b86-8006-44d12b75bc21'}}\n"
     ]
    }
   ],
   "source": [
    "# Print the state we want to replay. Thsi will be 6 in above\n",
    "print(to_replay.next)\n",
    "print(to_replay.config)"
   ]
  },
  {
   "cell_type": "markdown",
   "id": "9d59374e",
   "metadata": {},
   "source": [
    "#### 4- Load a state from a moment-in-time\n",
    "The checkpoint's to_replay.config contains a checkpoint_id timestamp. Providing this checkpoint_id value tells LangGraph's checkpointer to load the state from that moment in time."
   ]
  },
  {
   "cell_type": "code",
   "execution_count": 8,
   "id": "3d763969",
   "metadata": {},
   "outputs": [
    {
     "name": "stdout",
     "output_type": "stream",
     "text": [
      "==================================\u001b[1m Ai Message \u001b[0m==================================\n",
      "\n",
      "[{'type': 'text', 'text': \"Okay, let's dive deeper into how to build autonomous agents using LangGraph.\"}, {'type': 'tool_use', 'name': 'tavily_search', 'input': {'search_depth': 'advanced', 'query': 'building autonomous agents with langgraph'}, 'id': 'tooluse_SyGOMYuCRauGHRG_nG8xlw'}]\n",
      "Tool Calls:\n",
      "  tavily_search (tooluse_SyGOMYuCRauGHRG_nG8xlw)\n",
      " Call ID: tooluse_SyGOMYuCRauGHRG_nG8xlw\n",
      "  Args:\n",
      "    search_depth: advanced\n",
      "    query: building autonomous agents with langgraph\n",
      "=================================\u001b[1m Tool Message \u001b[0m=================================\n",
      "Name: tavily_search\n",
      "\n",
      "{\"query\": \"building autonomous agents with langgraph\", \"follow_up_questions\": null, \"answer\": null, \"images\": [], \"results\": [{\"url\": \"https://www.coursera.org/learn/packt-building-autonomous-ai-agents-with-langgraph-oyjym\", \"title\": \"Building Autonomous AI Agents with LangGraph | Coursera\", \"content\": \"What you'll learn. Build autonomous AI agents with advanced query handling and state management. Integrate LangGraph to design scalable, interactive AI systems.\", \"score\": 0.86080295, \"raw_content\": null}, {\"url\": \"https://medium.com/data-science-collective/the-complete-guide-to-building-your-first-ai-agent-its-easier-than-you-think-c87f376c84b2\", \"title\": \"How to Build AI Agents Step-by-Step with LangGraph - Medium\", \"content\": \"Building AI Agents with LangGraph\\nNow that you understand what AI agents are and why they matter, let’s build one using LangGraph — a LangChain’s framework for building robust AI agents.\\nWhat I really like about LangGraph is that it lets you map your agent’s thinking and actions as a graph. Each node represent a capability (like searching the web or writing code), and connections between nodes (edges) control information flows.\", \"score\": 0.834852, \"raw_content\": null}], \"response_time\": 1.38}\n",
      "==================================\u001b[1m Ai Message \u001b[0m==================================\n",
      "\n",
      "Based on the additional search results, here's what I've learned about building autonomous agents using LangGraph:\n",
      "\n",
      "1. LangGraph provides a framework for designing and building scalable, interactive AI systems that can function as autonomous agents. The graph-based architecture allows you to model the relationships between different components and capabilities of the agent.\n",
      "\n",
      "2. Each node in the LangGraph represents a specific capability or function that the agent can perform, such as searching the web, answering questions, or generating text. The connections (edges) between these nodes dictate how information and control flows between the different components.\n",
      "\n",
      "3. This graph-based approach to modeling the agent's \"thinking\" and decision-making process enables more sophisticated and flexible autonomous behaviors. Agents can dynamically choose which capabilities to use and how to combine them based on the current context and goals.\n",
      "\n",
      "4. LangGraph also provides functionality for managing the state and memory of the agent, allowing it to learn and improve its performance over time through reflection on past actions and feedback.\n",
      "\n",
      "5. There are LangGraph-specific tutorials and courses available, such as the Coursera course \"Building Autonomous AI Agents with LangGraph\", that go into more depth on the process of designing and implementing autonomous agents using this framework.\n",
      "\n",
      "So in summary, LangGraph seems well-suited for building complex, scalable, and stateful autonomous agents by leveraging its graph-based architecture and related tooling. The ability to model agent workflows as a connected set of capabilities is a key differentiator compared to more traditional AI agent approaches.\n"
     ]
    }
   ],
   "source": [
    "# The `checkpoint_id` in the `to_replay.config` corresponds to a state we've persisted to our checkpointer.\n",
    "for event in graph.stream(None, to_replay.config, stream_mode=\"values\"):\n",
    "    if \"messages\" in event:\n",
    "        event[\"messages\"][-1].pretty_print()"
   ]
  },
  {
   "cell_type": "markdown",
   "id": "59776b94",
   "metadata": {},
   "source": []
  }
 ],
 "metadata": {
  "kernelspec": {
   "display_name": "langgraph-2",
   "language": "python",
   "name": "python3"
  },
  "language_info": {
   "codemirror_mode": {
    "name": "ipython",
    "version": 3
   },
   "file_extension": ".py",
   "mimetype": "text/x-python",
   "name": "python",
   "nbconvert_exporter": "python",
   "pygments_lexer": "ipython3",
   "version": "3.13.2"
  }
 },
 "nbformat": 4,
 "nbformat_minor": 5
}
