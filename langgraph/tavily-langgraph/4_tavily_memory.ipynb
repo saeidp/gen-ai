{
 "cells": [
  {
   "cell_type": "markdown",
   "id": "925830a8",
   "metadata": {},
   "source": [
    "The chatbot cannot remember past interactions on its own,  \n",
    "which limits its ability to have coherent,  \n",
    "multi-turn conversations. you will add memory to address this"
   ]
  },
  {
   "cell_type": "markdown",
   "id": "0ee1ff99",
   "metadata": {},
   "source": [
    "If you provide a checkpointer when compiling the graph and a thread_id when calling your graph, LangGraph automatically saves the state after each step. When you invoke the graph again using the same thread_id, the graph loads its saved state, allowing the chatbot to pick up where it left off."
   ]
  },
  {
   "cell_type": "code",
   "execution_count": 1,
   "id": "f1b9cc88",
   "metadata": {},
   "outputs": [
    {
     "name": "stdout",
     "output_type": "stream",
     "text": [
      "API key loaded: tvly...\n"
     ]
    }
   ],
   "source": [
    "import os\n",
    "from dotenv import load_dotenv\n",
    "\n",
    "load_dotenv()  # Load from .env file\n",
    "\n",
    "api_key = os.getenv(\"TAVILY_API_KEY\")\n",
    "\n",
    "print(\"API key loaded:\", api_key[:4] + \"...\" if api_key else \"Not found\")"
   ]
  },
  {
   "cell_type": "code",
   "execution_count": 2,
   "id": "f7764a85",
   "metadata": {},
   "outputs": [],
   "source": [
    "from langchain.chat_models import init_chat_model # type: ignore\n",
    "\n",
    "# Follow the steps here to configure your credentials:\n",
    "# https://docs.aws.amazon.com/bedrock/latest/userguide/getting-started.html\n",
    "\n",
    "llm = init_chat_model(\n",
    "    \"anthropic.claude-3-haiku-20240307-v1:0\",\n",
    "    model_provider=\"bedrock_converse\",\n",
    ")"
   ]
  },
  {
   "cell_type": "code",
   "execution_count": 4,
   "id": "0396d32d",
   "metadata": {},
   "outputs": [],
   "source": [
    "from typing import Annotated\n",
    "\n",
    "from langchain_tavily import TavilySearch\n",
    "from langchain_core.messages import BaseMessage\n",
    "from typing_extensions import TypedDict\n",
    "\n",
    "from langgraph.graph import StateGraph, START, END\n",
    "from langgraph.graph.message import add_messages\n",
    "from langgraph.prebuilt import ToolNode, tools_condition\n",
    "\n",
    "from langgraph.checkpoint.memory import MemorySaver\n",
    "\n",
    "\n",
    "class State(TypedDict):\n",
    "    messages: Annotated[list, add_messages]\n",
    "\n",
    "graph_builder = StateGraph(State)\n",
    "\n",
    "tool = TavilySearch(max_results=2)\n",
    "tools = [tool]\n",
    "llm_with_tools = llm.bind_tools(tools)\n",
    "\n",
    "def chatbot(state: State):\n",
    "    return {\"messages\": [llm_with_tools.invoke(state[\"messages\"])]}\n",
    "\n",
    "graph_builder.add_node(\"chatbot\", chatbot)\n",
    "\n",
    "tool_node = ToolNode(tools=[tool])\n",
    "graph_builder.add_node(\"tools\", tool_node)\n",
    "\n",
    "graph_builder.add_conditional_edges(\n",
    "    \"chatbot\",\n",
    "    tools_condition,\n",
    ")\n",
    "# Any time a tool is called, we return to the chatbot to decide the next step\n",
    "graph_builder.add_edge(\"tools\", \"chatbot\")\n",
    "graph_builder.add_edge(START, \"chatbot\")\n",
    "\n",
    "memory = MemorySaver()\n",
    "graph = graph_builder.compile(checkpointer=memory)"
   ]
  },
  {
   "cell_type": "code",
   "execution_count": 5,
   "id": "b5350f01",
   "metadata": {},
   "outputs": [
    {
     "data": {
      "image/png": "[encoded data removed]",
      "text/plain": [
       "<IPython.core.display.Image object>"
      ]
     },
     "metadata": {},
     "output_type": "display_data"
    }
   ],
   "source": [
    "from IPython.display import Image, display\n",
    "\n",
    "try:\n",
    "    display(Image(graph.get_graph().draw_mermaid_png()))\n",
    "except Exception:\n",
    "    # This requires some extra dependencies and is optional\n",
    "    pass"
   ]
  },
  {
   "cell_type": "code",
   "execution_count": 6,
   "id": "9a640c21",
   "metadata": {},
   "outputs": [
    {
     "name": "stdout",
     "output_type": "stream",
     "text": [
      "================================\u001b[1m Human Message \u001b[0m=================================\n",
      "\n",
      "Hi there! My name is Will.\n",
      "==================================\u001b[1m Ai Message \u001b[0m==================================\n",
      "\n",
      "It's nice to meet you, Will! I'm an AI assistant created by Anthropic. I'm here to help with any questions or tasks you may have. Please feel free to ask me about anything, and I'll do my best to provide helpful information or assistance.\n"
     ]
    }
   ],
   "source": [
    "user_input = \"Hi there! My name is Will.\"\n",
    "\n",
    "config = {\"configurable\": {\"thread_id\": \"1\"}}\n",
    "\n",
    "# The config is the **second positional argument** to stream() or invoke()!\n",
    "events = graph.stream(\n",
    "    {\"messages\": [{\"role\": \"user\", \"content\": user_input}]},\n",
    "    config,\n",
    "    stream_mode=\"values\",\n",
    ")\n",
    "for event in events:\n",
    "    event[\"messages\"][-1].pretty_print()"
   ]
  },
  {
   "cell_type": "code",
   "execution_count": 7,
   "id": "1f12105e",
   "metadata": {},
   "outputs": [
    {
     "name": "stdout",
     "output_type": "stream",
     "text": [
      "================================\u001b[1m Human Message \u001b[0m=================================\n",
      "\n",
      "Remember my name?\n",
      "==================================\u001b[1m Ai Message \u001b[0m==================================\n",
      "\n",
      "Yes, I remember your name is Will. It's nice to meet you!\n"
     ]
    }
   ],
   "source": [
    "user_input = \"Remember my name?\"\n",
    "\n",
    "# The config is the **second positional argument** to stream() or invoke()!\n",
    "events = graph.stream(\n",
    "    {\"messages\": [{\"role\": \"user\", \"content\": user_input}]},\n",
    "    config,\n",
    "    stream_mode=\"values\",\n",
    ")\n",
    "for event in events:\n",
    "    event[\"messages\"][-1].pretty_print()"
   ]
  },
  {
   "cell_type": "code",
   "execution_count": 8,
   "id": "743cddac",
   "metadata": {},
   "outputs": [
    {
     "name": "stdout",
     "output_type": "stream",
     "text": [
      "================================\u001b[1m Human Message \u001b[0m=================================\n",
      "\n",
      "Remember my name?\n",
      "==================================\u001b[1m Ai Message \u001b[0m==================================\n",
      "\n",
      "I'm afraid I don't actually remember your name, as I don't have a persistent memory of our previous interactions. I'm Claude, an AI assistant created by Anthropic to be helpful, harmless, and honest. Could you please tell me your name so I can address you properly?\n"
     ]
    }
   ],
   "source": [
    "# The only difference is we change the `thread_id` here to \"2\" instead of \"1\"\n",
    "events = graph.stream(\n",
    "    {\"messages\": [{\"role\": \"user\", \"content\": user_input}]},\n",
    "    {\"configurable\": {\"thread_id\": \"2\"}},\n",
    "    stream_mode=\"values\",\n",
    ")\n",
    "for event in events:\n",
    "    event[\"messages\"][-1].pretty_print()"
   ]
  },
  {
   "cell_type": "markdown",
   "id": "0df41a40",
   "metadata": {},
   "source": [
    "Inspect the state  \n",
    "What goes into a checkpoint?   \n",
    "We are using the thread_id: 1"
   ]
  },
  {
   "cell_type": "code",
   "execution_count": 9,
   "id": "4433f71e",
   "metadata": {},
   "outputs": [
    {
     "data": {
      "text/plain": [
       "StateSnapshot(values={'messages': [HumanMessage(content='Hi there! My name is Will.', additional_kwargs={}, response_metadata={}, id='36041002-b030-47d6-8144-ab9f397dfffd'), AIMessage(content=\"It's nice to meet you, Will! I'm an AI assistant created by Anthropic. I'm here to help with any questions or tasks you may have. Please feel free to ask me about anything, and I'll do my best to provide helpful information or assistance.\", additional_kwargs={}, response_metadata={'ResponseMetadata': {'RequestId': 'eef0fda8-8701-4a0f-8fc5-a52561d0cf9d', 'HTTPStatusCode': 200, 'HTTPHeaders': {'date': 'Thu, 22 May 2025 22:39:20 GMT', 'content-type': 'application/json', 'content-length': '423', 'connection': 'keep-alive', 'x-amzn-requestid': 'eef0fda8-8701-4a0f-8fc5-a52561d0cf9d'}, 'RetryAttempts': 0}, 'stopReason': 'end_turn', 'metrics': {'latencyMs': [947]}, 'model_name': 'anthropic.claude-3-haiku-20240307-v1:0'}, id='run--66ab5dbe-bc0d-4415-943d-8dc1d581a74f-0', usage_metadata={'input_tokens': 1380, 'output_tokens': 59, 'total_tokens': 1439, 'input_token_details': {'cache_creation': 0, 'cache_read': 0}}), HumanMessage(content='Remember my name?', additional_kwargs={}, response_metadata={}, id='054fbd6b-3927-4930-adce-aa4ee2055e9c'), AIMessage(content=\"Yes, I remember your name is Will. It's nice to meet you!\", additional_kwargs={}, response_metadata={'ResponseMetadata': {'RequestId': '6804203e-4b50-4ffe-bc1a-d4a425c5d301', 'HTTPStatusCode': 200, 'HTTPHeaders': {'date': 'Thu, 22 May 2025 22:40:23 GMT', 'content-type': 'application/json', 'content-length': '242', 'connection': 'keep-alive', 'x-amzn-requestid': '6804203e-4b50-4ffe-bc1a-d4a425c5d301'}, 'RetryAttempts': 0}, 'stopReason': 'end_turn', 'metrics': {'latencyMs': [394]}, 'model_name': 'anthropic.claude-3-haiku-20240307-v1:0'}, id='run--06b91cfa-183a-40b7-a08c-7122dd0c3544-0', usage_metadata={'input_tokens': 1446, 'output_tokens': 19, 'total_tokens': 1465, 'input_token_details': {'cache_creation': 0, 'cache_read': 0}})]}, next=(), config={'configurable': {'thread_id': '1', 'checkpoint_ns': '', 'checkpoint_id': '1f0375db-ff47-65eb-8004-028aab34a493'}}, metadata={'source': 'loop', 'writes': {'chatbot': {'messages': [AIMessage(content=\"Yes, I remember your name is Will. It's nice to meet you!\", additional_kwargs={}, response_metadata={'ResponseMetadata': {'RequestId': '6804203e-4b50-4ffe-bc1a-d4a425c5d301', 'HTTPStatusCode': 200, 'HTTPHeaders': {'date': 'Thu, 22 May 2025 22:40:23 GMT', 'content-type': 'application/json', 'content-length': '242', 'connection': 'keep-alive', 'x-amzn-requestid': '6804203e-4b50-4ffe-bc1a-d4a425c5d301'}, 'RetryAttempts': 0}, 'stopReason': 'end_turn', 'metrics': {'latencyMs': [394]}, 'model_name': 'anthropic.claude-3-haiku-20240307-v1:0'}, id='run--06b91cfa-183a-40b7-a08c-7122dd0c3544-0', usage_metadata={'input_tokens': 1446, 'output_tokens': 19, 'total_tokens': 1465, 'input_token_details': {'cache_creation': 0, 'cache_read': 0}})]}}, 'step': 4, 'parents': {}, 'thread_id': '1'}, created_at='2025-05-22T22:40:24.044062+00:00', parent_config={'configurable': {'thread_id': '1', 'checkpoint_ns': '', 'checkpoint_id': '1f0375db-faf7-682f-8003-f9a799441dd8'}}, tasks=(), interrupts=())"
      ]
     },
     "execution_count": 9,
     "metadata": {},
     "output_type": "execute_result"
    }
   ],
   "source": [
    "snapshot = graph.get_state(config)\n",
    "snapshot"
   ]
  },
  {
   "cell_type": "markdown",
   "id": "00934303",
   "metadata": {},
   "source": [
    "The snapshot above contains the current state values, corresponding config, and the next node to process. In our case, the graph has reached an END state, so next is empty."
   ]
  },
  {
   "cell_type": "code",
   "execution_count": null,
   "id": "26179d77",
   "metadata": {},
   "outputs": [],
   "source": []
  }
 ],
 "metadata": {
  "kernelspec": {
   "display_name": "langgraph-2",
   "language": "python",
   "name": "python3"
  },
  "language_info": {
   "codemirror_mode": {
    "name": "ipython",
    "version": 3
   },
   "file_extension": ".py",
   "mimetype": "text/x-python",
   "name": "python",
   "nbconvert_exporter": "python",
   "pygments_lexer": "ipython3",
   "version": "3.13.2"
  }
 },
 "nbformat": 4,
 "nbformat_minor": 5
}
