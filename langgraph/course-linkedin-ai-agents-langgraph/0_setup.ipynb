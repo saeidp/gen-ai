{
 "cells": [
  {
   "cell_type": "markdown",
   "id": "03a50916-766f-408f-a99a-ab63acbb8daa",
   "metadata": {},
   "source": [
    "Installing langchain_Chroma needs to have the following commands (Install a C/C++ compiler in your environment)\n",
    "sudo apt update\n",
    "sudo apt install build-essential"
   ]
  },
  {
   "cell_type": "code",
   "execution_count": null,
   "id": "27b05b40-fe8d-41ec-b772-f3669bef7f6e",
   "metadata": {},
   "outputs": [],
   "source": [
    "%env PIP_INDEX_URL=https://pypi.org/simple"
   ]
  },
  {
   "cell_type": "code",
   "execution_count": null,
   "id": "1f9d0b3d-b9af-4d48-afcb-dfe261e43cbe",
   "metadata": {},
   "outputs": [],
   "source": [
    "%pip install --no-build-isolation --force-reinstall \\\n",
    "                \"boto3>=1.28.57\" \\\n",
    "                \"awscli>=1.29.57\" \\\n",
    "                \"botocore>=1.31.57\" \n",
    "!pip install tenacity==9.0.0\n",
    "!pip install langchain==0.3.12\n",
    "!pip install \"langchain-core>=0.3,<0.4\"\n",
    "!pip install langchain-aws>=0.2\n",
    "!pip install langchain_community==0.3.12\n",
    "!pip install langchain-aws>=0.2\n",
    "!pip install langgraph==0.2.59\n",
    "!pip install pysqlite3-binary==0.5.4\n",
    "!pip install langchain_chroma==0.1.4\n",
    "!pip install pandas==2.2.3\n",
    "!pip install pypdf==5.1.0\n",
    "!pip install nbformat==5.10.4"
   ]
  }
 ],
 "metadata": {
  "kernelspec": {
   "display_name": "Python (linkedin-1)",
   "language": "python",
   "name": "linkedin-1"
  },
  "language_info": {
   "codemirror_mode": {
    "name": "ipython",
    "version": 3
   },
   "file_extension": ".py",
   "mimetype": "text/x-python",
   "name": "python",
   "nbconvert_exporter": "python",
   "pygments_lexer": "ipython3",
   "version": "3.13.2"
  }
 },
 "nbformat": 4,
 "nbformat_minor": 5
}
