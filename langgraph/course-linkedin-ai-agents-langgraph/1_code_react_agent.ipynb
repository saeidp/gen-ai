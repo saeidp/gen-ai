{
 "cells": [
  {
   "cell_type": "code",
   "execution_count": 19,
   "id": "e11ed248-eb4a-4dbc-82ee-1cac65ebde99",
   "metadata": {},
   "outputs": [],
   "source": [
    "from langchain_core.tools import tool\n",
    "\n",
    "#Tool annotation identifies a function as a tool automatically\n",
    "@tool\n",
    "def find_sum(x:int, y:int) -> int :\n",
    "    #The docstring comment describes the capabilities of the function\n",
    "    #It is used by the agent to discover the function's inputs, outputs and capabilities\n",
    "    \"\"\"\n",
    "    This function is used to add two numbers and return their sum.\n",
    "    It takes two integers as inputs and returns an integer as output.\n",
    "    \"\"\"\n",
    "    return x + y\n",
    "\n",
    "@tool\n",
    "def find_product(x:int, y:int) -> int :\n",
    "    \"\"\"\n",
    "    This function is used to multiply two numbers and return their product.\n",
    "    It takes two integers as inputs and returns an integer as ouput.\n",
    "    \"\"\"\n",
    "    return x * y"
   ]
  },
  {
   "cell_type": "code",
   "execution_count": 21,
   "id": "728a9b9f-94d2-414a-a2ef-2aca67231e4c",
   "metadata": {},
   "outputs": [
    {
     "name": "stdout",
     "output_type": "stream",
     "text": [
      "Hello! As an AI language model, I don't have feelings or a physical form, but I'm functioning properly and ready to assist you with any questions or tasks you may have. How can I help you today?\n"
     ]
    }
   ],
   "source": [
    "from langchain_aws import ChatBedrock\n",
    "import boto3\n",
    "\n",
    "session = boto3.Session(profile_name=\"default\")\n",
    "bedrock_client = session.client('bedrock-runtime')\n",
    "\n",
    "model_id = 'anthropic.claude-3-haiku-20240307-v1:0'\n",
    "# model_id = \"meta.llama3-8b-instruct-v1:0\"\n",
    "model_kwargs =  { \n",
    "        \"max_tokens\": 512,\n",
    "        \"temperature\": 0,\n",
    "        \"top_p\": 1,\n",
    "}\n",
    "\n",
    "# LangChain class for chat\n",
    "model = ChatBedrock(\n",
    "    client=bedrock_client,\n",
    "    model_id=model_id,\n",
    "    model_kwargs=model_kwargs,\n",
    ")\n",
    "\n",
    "#Test the model\n",
    "# response = model.invoke(\"Hello, how are you?\")\n",
    "# print(response.content)"
   ]
  },
  {
   "cell_type": "code",
   "execution_count": 26,
   "id": "3aa92351-af66-469f-b447-af2fdb69e46e",
   "metadata": {},
   "outputs": [],
   "source": [
    "from langgraph.prebuilt import create_react_agent\n",
    "from langchain_core.messages import AIMessage,HumanMessage,SystemMessage\n",
    "\n",
    "#Create list of tools available to the agent\n",
    "agent_tools=[find_sum, find_product]\n",
    "\n",
    "#System prompt\n",
    "system_prompt = SystemMessage(\n",
    "    \"\"\"You are a Math genius who can solve math problems. Solve the\n",
    "    problems provided by the user, by using only tools available. \n",
    "    Do not solve the problem yourself\"\"\"\n",
    ")\n",
    "\n",
    "agent_graph=create_react_agent(\n",
    "    model=model, \n",
    "    state_modifier=system_prompt,\n",
    "    tools=agent_tools)"
   ]
  },
  {
   "cell_type": "code",
   "execution_count": 27,
   "id": "8b089cb5-14d4-4937-8dc8-94b696a68eb4",
   "metadata": {},
   "outputs": [
    {
     "name": "stdout",
     "output_type": "stream",
     "text": [
      "Agent returned : The sum of 2 and 3 is 5. \n",
      "\n",
      "Step by Step execution : \n",
      "================================ Human Message =================================\n",
      "\n",
      "what is the sum of 2 and 3 ?\n",
      "================================== Ai Message ==================================\n",
      "Tool Calls:\n",
      "  find_sum (toolu_bdrk_01FCq6y5D1N5j8uZQDDM77HB)\n",
      " Call ID: toolu_bdrk_01FCq6y5D1N5j8uZQDDM77HB\n",
      "  Args:\n",
      "    x: 2\n",
      "    y: 3\n",
      "================================= Tool Message =================================\n",
      "Name: find_sum\n",
      "\n",
      "5\n",
      "================================== Ai Message ==================================\n",
      "\n",
      "The sum of 2 and 3 is 5.\n"
     ]
    }
   ],
   "source": [
    "#Example 1\n",
    "inputs = {\"messages\":[(\"user\",\"what is the sum of 2 and 3 ?\")]}\n",
    "\n",
    "result = agent_graph.invoke(inputs)\n",
    "\n",
    "#Get the final answer\n",
    "print(f\"Agent returned : {result['messages'][-1].content} \\n\")\n",
    "\n",
    "print(\"Step by Step execution : \")\n",
    "for message in result['messages']:\n",
    "    print(message.pretty_repr())"
   ]
  },
  {
   "cell_type": "code",
   "execution_count": 32,
   "id": "2479947f-e623-4a12-b3ea-e89f6f4ce334",
   "metadata": {},
   "outputs": [
    {
     "name": "stdout",
     "output_type": "stream",
     "text": [
      "Agent returned : Okay, so 5 + 2 is 7.\n",
      "\n",
      "Therefore, the final result is 6 (3 multiplied by 2) plus 7 (5 + 2), which is 13. \n",
      "\n",
      "Step by Step execution : \n",
      "================================ Human Message =================================\n",
      "\n",
      "What is 3 multipled by 2 and 5 + 2 ?\n",
      "================================== Ai Message ==================================\n",
      "\n",
      "Okay, let's solve this step-by-step using the available tools:\n",
      "Tool Calls:\n",
      "  find_product (toolu_bdrk_01A5AtYEAMSJMGqChUfcsqqA)\n",
      " Call ID: toolu_bdrk_01A5AtYEAMSJMGqChUfcsqqA\n",
      "  Args:\n",
      "    x: 3\n",
      "    y: 2\n",
      "================================= Tool Message =================================\n",
      "Name: find_product\n",
      "\n",
      "6\n",
      "================================== Ai Message ==================================\n",
      "\n",
      "Alright, so 3 multiplied by 2 is 6.\n",
      "\n",
      "Now let's calculate 5 + 2:\n",
      "Tool Calls:\n",
      "  find_sum (toolu_bdrk_013VastrqA6oVF5YjzbfC1ke)\n",
      " Call ID: toolu_bdrk_013VastrqA6oVF5YjzbfC1ke\n",
      "  Args:\n",
      "    x: 5\n",
      "    y: 2\n",
      "================================= Tool Message =================================\n",
      "Name: find_sum\n",
      "\n",
      "7\n",
      "================================== Ai Message ==================================\n",
      "\n",
      "Okay, so 5 + 2 is 7.\n",
      "\n",
      "Therefore, the final result is 6 (3 multiplied by 2) plus 7 (5 + 2), which is 13.\n"
     ]
    }
   ],
   "source": [
    "#Example 2\n",
    "inputs = {\"messages\":[(\"user\",\"What is 3 multipled by 2 and 5 + 2 ?\")]}\n",
    "\n",
    "result = agent_graph.invoke(inputs)\n",
    "\n",
    "#Get the final answer\n",
    "print(f\"Agent returned : {result['messages'][-1].content} \\n\")\n",
    "\n",
    "print(\"Step by Step execution : \")\n",
    "for message in result['messages']:\n",
    "    print(message.pretty_repr())"
   ]
  },
  {
   "cell_type": "code",
   "execution_count": 33,
   "id": "7a3c5feb-50d6-41b9-89a5-0a6cc8ecf581",
   "metadata": {},
   "outputs": [
    {
     "name": "stdout",
     "output_type": "stream",
     "text": [
      "\u001b[36;1m\u001b[1;3m[-1:checkpoint]\u001b[0m \u001b[1mState at the end of step -1:\n",
      "\u001b[0m{'messages': []}\n",
      "\u001b[36;1m\u001b[1;3m[0:tasks]\u001b[0m \u001b[1mStarting 1 task for step 0:\n",
      "\u001b[0m- \u001b[32;1m\u001b[1;3m__start__\u001b[0m -> {'messages': [('user', 'what is the sum of 2 and 3 ?')]}\n",
      "\u001b[36;1m\u001b[1;3m[0:writes]\u001b[0m \u001b[1mFinished step 0 with writes to 1 channel:\n",
      "\u001b[0m- \u001b[33;1m\u001b[1;3mmessages\u001b[0m -> [('user', 'what is the sum of 2 and 3 ?')]\n",
      "\u001b[36;1m\u001b[1;3m[0:checkpoint]\u001b[0m \u001b[1mState at the end of step 0:\n",
      "\u001b[0m{'messages': [HumanMessage(content='what is the sum of 2 and 3 ?', additional_kwargs={}, response_metadata={}, id='ca06eaa5-38fe-4e0e-be63-5f86ac7f74cd')]}\n",
      "\u001b[36;1m\u001b[1;3m[1:tasks]\u001b[0m \u001b[1mStarting 1 task for step 1:\n",
      "\u001b[0m- \u001b[32;1m\u001b[1;3magent\u001b[0m -> {'is_last_step': False,\n",
      " 'messages': [HumanMessage(content='what is the sum of 2 and 3 ?', additional_kwargs={}, response_metadata={}, id='ca06eaa5-38fe-4e0e-be63-5f86ac7f74cd')],\n",
      " 'remaining_steps': 24}\n",
      "\u001b[36;1m\u001b[1;3m[1:writes]\u001b[0m \u001b[1mFinished step 1 with writes to 1 channel:\n",
      "\u001b[0m- \u001b[33;1m\u001b[1;3mmessages\u001b[0m -> [AIMessage(content='', additional_kwargs={'usage': {'prompt_tokens': 497, 'completion_tokens': 70, 'cache_read_input_tokens': 0, 'cache_write_input_tokens': 0, 'total_tokens': 567}, 'stop_reason': 'tool_use', 'thinking': {}, 'model_id': 'anthropic.claude-3-haiku-20240307-v1:0', 'model_name': 'anthropic.claude-3-haiku-20240307-v1:0'}, response_metadata={'usage': {'prompt_tokens': 497, 'completion_tokens': 70, 'cache_read_input_tokens': 0, 'cache_write_input_tokens': 0, 'total_tokens': 567}, 'stop_reason': 'tool_use', 'thinking': {}, 'model_id': 'anthropic.claude-3-haiku-20240307-v1:0', 'model_name': 'anthropic.claude-3-haiku-20240307-v1:0'}, id='run--6ea2de08-faeb-4b6a-9c93-a7de33011403-0', tool_calls=[{'name': 'find_sum', 'args': {'x': 2, 'y': 3}, 'id': 'toolu_bdrk_016K4uCJuSsMnwctWNkzJv9S', 'type': 'tool_call'}], usage_metadata={'input_tokens': 497, 'output_tokens': 70, 'total_tokens': 567, 'input_token_details': {'cache_creation': 0, 'cache_read': 0}})]\n",
      "\u001b[36;1m\u001b[1;3m[1:checkpoint]\u001b[0m \u001b[1mState at the end of step 1:\n",
      "\u001b[0m{'messages': [HumanMessage(content='what is the sum of 2 and 3 ?', additional_kwargs={}, response_metadata={}, id='ca06eaa5-38fe-4e0e-be63-5f86ac7f74cd'),\n",
      "              AIMessage(content='', additional_kwargs={'usage': {'prompt_tokens': 497, 'completion_tokens': 70, 'cache_read_input_tokens': 0, 'cache_write_input_tokens': 0, 'total_tokens': 567}, 'stop_reason': 'tool_use', 'thinking': {}, 'model_id': 'anthropic.claude-3-haiku-20240307-v1:0', 'model_name': 'anthropic.claude-3-haiku-20240307-v1:0'}, response_metadata={'usage': {'prompt_tokens': 497, 'completion_tokens': 70, 'cache_read_input_tokens': 0, 'cache_write_input_tokens': 0, 'total_tokens': 567}, 'stop_reason': 'tool_use', 'thinking': {}, 'model_id': 'anthropic.claude-3-haiku-20240307-v1:0', 'model_name': 'anthropic.claude-3-haiku-20240307-v1:0'}, id='run--6ea2de08-faeb-4b6a-9c93-a7de33011403-0', tool_calls=[{'name': 'find_sum', 'args': {'x': 2, 'y': 3}, 'id': 'toolu_bdrk_016K4uCJuSsMnwctWNkzJv9S', 'type': 'tool_call'}], usage_metadata={'input_tokens': 497, 'output_tokens': 70, 'total_tokens': 567, 'input_token_details': {'cache_creation': 0, 'cache_read': 0}})]}\n",
      "\u001b[36;1m\u001b[1;3m[2:tasks]\u001b[0m \u001b[1mStarting 1 task for step 2:\n",
      "\u001b[0m- \u001b[32;1m\u001b[1;3mtools\u001b[0m -> {'is_last_step': False,\n",
      " 'messages': [HumanMessage(content='what is the sum of 2 and 3 ?', additional_kwargs={}, response_metadata={}, id='ca06eaa5-38fe-4e0e-be63-5f86ac7f74cd'),\n",
      "              AIMessage(content='', additional_kwargs={'usage': {'prompt_tokens': 497, 'completion_tokens': 70, 'cache_read_input_tokens': 0, 'cache_write_input_tokens': 0, 'total_tokens': 567}, 'stop_reason': 'tool_use', 'thinking': {}, 'model_id': 'anthropic.claude-3-haiku-20240307-v1:0', 'model_name': 'anthropic.claude-3-haiku-20240307-v1:0'}, response_metadata={'usage': {'prompt_tokens': 497, 'completion_tokens': 70, 'cache_read_input_tokens': 0, 'cache_write_input_tokens': 0, 'total_tokens': 567}, 'stop_reason': 'tool_use', 'thinking': {}, 'model_id': 'anthropic.claude-3-haiku-20240307-v1:0', 'model_name': 'anthropic.claude-3-haiku-20240307-v1:0'}, id='run--6ea2de08-faeb-4b6a-9c93-a7de33011403-0', tool_calls=[{'name': 'find_sum', 'args': {'x': 2, 'y': 3}, 'id': 'toolu_bdrk_016K4uCJuSsMnwctWNkzJv9S', 'type': 'tool_call'}], usage_metadata={'input_tokens': 497, 'output_tokens': 70, 'total_tokens': 567, 'input_token_details': {'cache_creation': 0, 'cache_read': 0}})],\n",
      " 'remaining_steps': 23}\n",
      "\u001b[36;1m\u001b[1;3m[2:writes]\u001b[0m \u001b[1mFinished step 2 with writes to 1 channel:\n",
      "\u001b[0m- \u001b[33;1m\u001b[1;3mmessages\u001b[0m -> [ToolMessage(content='5', name='find_sum', tool_call_id='toolu_bdrk_016K4uCJuSsMnwctWNkzJv9S')]\n",
      "\u001b[36;1m\u001b[1;3m[2:checkpoint]\u001b[0m \u001b[1mState at the end of step 2:\n",
      "\u001b[0m{'messages': [HumanMessage(content='what is the sum of 2 and 3 ?', additional_kwargs={}, response_metadata={}, id='ca06eaa5-38fe-4e0e-be63-5f86ac7f74cd'),\n",
      "              AIMessage(content='', additional_kwargs={'usage': {'prompt_tokens': 497, 'completion_tokens': 70, 'cache_read_input_tokens': 0, 'cache_write_input_tokens': 0, 'total_tokens': 567}, 'stop_reason': 'tool_use', 'thinking': {}, 'model_id': 'anthropic.claude-3-haiku-20240307-v1:0', 'model_name': 'anthropic.claude-3-haiku-20240307-v1:0'}, response_metadata={'usage': {'prompt_tokens': 497, 'completion_tokens': 70, 'cache_read_input_tokens': 0, 'cache_write_input_tokens': 0, 'total_tokens': 567}, 'stop_reason': 'tool_use', 'thinking': {}, 'model_id': 'anthropic.claude-3-haiku-20240307-v1:0', 'model_name': 'anthropic.claude-3-haiku-20240307-v1:0'}, id='run--6ea2de08-faeb-4b6a-9c93-a7de33011403-0', tool_calls=[{'name': 'find_sum', 'args': {'x': 2, 'y': 3}, 'id': 'toolu_bdrk_016K4uCJuSsMnwctWNkzJv9S', 'type': 'tool_call'}], usage_metadata={'input_tokens': 497, 'output_tokens': 70, 'total_tokens': 567, 'input_token_details': {'cache_creation': 0, 'cache_read': 0}}),\n",
      "              ToolMessage(content='5', name='find_sum', id='23c456cc-9586-414d-985a-5c86931985a0', tool_call_id='toolu_bdrk_016K4uCJuSsMnwctWNkzJv9S')]}\n",
      "\u001b[36;1m\u001b[1;3m[3:tasks]\u001b[0m \u001b[1mStarting 1 task for step 3:\n",
      "\u001b[0m- \u001b[32;1m\u001b[1;3magent\u001b[0m -> {'is_last_step': False,\n",
      " 'messages': [HumanMessage(content='what is the sum of 2 and 3 ?', additional_kwargs={}, response_metadata={}, id='ca06eaa5-38fe-4e0e-be63-5f86ac7f74cd'),\n",
      "              AIMessage(content='', additional_kwargs={'usage': {'prompt_tokens': 497, 'completion_tokens': 70, 'cache_read_input_tokens': 0, 'cache_write_input_tokens': 0, 'total_tokens': 567}, 'stop_reason': 'tool_use', 'thinking': {}, 'model_id': 'anthropic.claude-3-haiku-20240307-v1:0', 'model_name': 'anthropic.claude-3-haiku-20240307-v1:0'}, response_metadata={'usage': {'prompt_tokens': 497, 'completion_tokens': 70, 'cache_read_input_tokens': 0, 'cache_write_input_tokens': 0, 'total_tokens': 567}, 'stop_reason': 'tool_use', 'thinking': {}, 'model_id': 'anthropic.claude-3-haiku-20240307-v1:0', 'model_name': 'anthropic.claude-3-haiku-20240307-v1:0'}, id='run--6ea2de08-faeb-4b6a-9c93-a7de33011403-0', tool_calls=[{'name': 'find_sum', 'args': {'x': 2, 'y': 3}, 'id': 'toolu_bdrk_016K4uCJuSsMnwctWNkzJv9S', 'type': 'tool_call'}], usage_metadata={'input_tokens': 497, 'output_tokens': 70, 'total_tokens': 567, 'input_token_details': {'cache_creation': 0, 'cache_read': 0}}),\n",
      "              ToolMessage(content='5', name='find_sum', id='23c456cc-9586-414d-985a-5c86931985a0', tool_call_id='toolu_bdrk_016K4uCJuSsMnwctWNkzJv9S')],\n",
      " 'remaining_steps': 22}\n",
      "\u001b[36;1m\u001b[1;3m[3:writes]\u001b[0m \u001b[1mFinished step 3 with writes to 1 channel:\n",
      "\u001b[0m- \u001b[33;1m\u001b[1;3mmessages\u001b[0m -> [AIMessage(content='The sum of 2 and 3 is 5.', additional_kwargs={'usage': {'prompt_tokens': 584, 'completion_tokens': 17, 'cache_read_input_tokens': 0, 'cache_write_input_tokens': 0, 'total_tokens': 601}, 'stop_reason': 'end_turn', 'thinking': {}, 'model_id': 'anthropic.claude-3-haiku-20240307-v1:0', 'model_name': 'anthropic.claude-3-haiku-20240307-v1:0'}, response_metadata={'usage': {'prompt_tokens': 584, 'completion_tokens': 17, 'cache_read_input_tokens': 0, 'cache_write_input_tokens': 0, 'total_tokens': 601}, 'stop_reason': 'end_turn', 'thinking': {}, 'model_id': 'anthropic.claude-3-haiku-20240307-v1:0', 'model_name': 'anthropic.claude-3-haiku-20240307-v1:0'}, id='run--d4956b60-eaa2-4790-9ee0-1c8700aec378-0', usage_metadata={'input_tokens': 584, 'output_tokens': 17, 'total_tokens': 601, 'input_token_details': {'cache_creation': 0, 'cache_read': 0}})]\n",
      "\u001b[36;1m\u001b[1;3m[3:checkpoint]\u001b[0m \u001b[1mState at the end of step 3:\n",
      "\u001b[0m{'messages': [HumanMessage(content='what is the sum of 2 and 3 ?', additional_kwargs={}, response_metadata={}, id='ca06eaa5-38fe-4e0e-be63-5f86ac7f74cd'),\n",
      "              AIMessage(content='', additional_kwargs={'usage': {'prompt_tokens': 497, 'completion_tokens': 70, 'cache_read_input_tokens': 0, 'cache_write_input_tokens': 0, 'total_tokens': 567}, 'stop_reason': 'tool_use', 'thinking': {}, 'model_id': 'anthropic.claude-3-haiku-20240307-v1:0', 'model_name': 'anthropic.claude-3-haiku-20240307-v1:0'}, response_metadata={'usage': {'prompt_tokens': 497, 'completion_tokens': 70, 'cache_read_input_tokens': 0, 'cache_write_input_tokens': 0, 'total_tokens': 567}, 'stop_reason': 'tool_use', 'thinking': {}, 'model_id': 'anthropic.claude-3-haiku-20240307-v1:0', 'model_name': 'anthropic.claude-3-haiku-20240307-v1:0'}, id='run--6ea2de08-faeb-4b6a-9c93-a7de33011403-0', tool_calls=[{'name': 'find_sum', 'args': {'x': 2, 'y': 3}, 'id': 'toolu_bdrk_016K4uCJuSsMnwctWNkzJv9S', 'type': 'tool_call'}], usage_metadata={'input_tokens': 497, 'output_tokens': 70, 'total_tokens': 567, 'input_token_details': {'cache_creation': 0, 'cache_read': 0}}),\n",
      "              ToolMessage(content='5', name='find_sum', id='23c456cc-9586-414d-985a-5c86931985a0', tool_call_id='toolu_bdrk_016K4uCJuSsMnwctWNkzJv9S'),\n",
      "              AIMessage(content='The sum of 2 and 3 is 5.', additional_kwargs={'usage': {'prompt_tokens': 584, 'completion_tokens': 17, 'cache_read_input_tokens': 0, 'cache_write_input_tokens': 0, 'total_tokens': 601}, 'stop_reason': 'end_turn', 'thinking': {}, 'model_id': 'anthropic.claude-3-haiku-20240307-v1:0', 'model_name': 'anthropic.claude-3-haiku-20240307-v1:0'}, response_metadata={'usage': {'prompt_tokens': 584, 'completion_tokens': 17, 'cache_read_input_tokens': 0, 'cache_write_input_tokens': 0, 'total_tokens': 601}, 'stop_reason': 'end_turn', 'thinking': {}, 'model_id': 'anthropic.claude-3-haiku-20240307-v1:0', 'model_name': 'anthropic.claude-3-haiku-20240307-v1:0'}, id='run--d4956b60-eaa2-4790-9ee0-1c8700aec378-0', usage_metadata={'input_tokens': 584, 'output_tokens': 17, 'total_tokens': 601, 'input_token_details': {'cache_creation': 0, 'cache_read': 0}})]}\n"
     ]
    }
   ],
   "source": [
    "agent_graph=create_react_agent(\n",
    "    model=model, \n",
    "    state_modifier=system_prompt,\n",
    "    tools=agent_tools,\n",
    "    debug=True)\n",
    "\n",
    "inputs = {\"messages\":[(\"user\",\"what is the sum of 2 and 3 ?\")]}\n",
    "\n",
    "result = agent_graph.invoke(inputs)"
   ]
  },
  {
   "cell_type": "code",
   "execution_count": null,
   "id": "7ce19958-9cf2-4e44-be68-d99e448c3178",
   "metadata": {},
   "outputs": [],
   "source": []
  }
 ],
 "metadata": {
  "kernelspec": {
   "display_name": "Python (linkedin-1)",
   "language": "python",
   "name": "linkedin-1"
  },
  "language_info": {
   "codemirror_mode": {
    "name": "ipython",
    "version": 3
   },
   "file_extension": ".py",
   "mimetype": "text/x-python",
   "name": "python",
   "nbconvert_exporter": "python",
   "pygments_lexer": "ipython3",
   "version": "3.13.2"
  }
 },
 "nbformat": 4,
 "nbformat_minor": 5
}
