{
 "cells": [
  {
   "cell_type": "code",
   "execution_count": null,
   "id": "eadf3911",
   "metadata": {},
   "outputs": [],
   "source": [
    "%env PIP_INDEX_URL=https://pypi.org/simple"
   ]
  },
  {
   "cell_type": "code",
   "execution_count": null,
   "id": "7970370c",
   "metadata": {},
   "outputs": [],
   "source": [
    "%pip install pypdf\n",
    "%pip install chromadb\n",
    "%pip install langchain\n",
    "%pip install -U \"langchain[aws]\"\n",
    "%pip install langchain_community\n",
    "%pip install langgraph\n",
    "%pip install langchain_chroma"
   ]
  }
 ],
 "metadata": {
  "kernelspec": {
   "display_name": "freecodecamp-langgraph",
   "language": "python",
   "name": "freecodecamp-langgraph"
  },
  "language_info": {
   "codemirror_mode": {
    "name": "ipython",
    "version": 3
   },
   "file_extension": ".py",
   "mimetype": "text/x-python",
   "name": "python",
   "nbconvert_exporter": "python",
   "pygments_lexer": "ipython3",
   "version": "3.13.4"
  }
 },
 "nbformat": 4,
 "nbformat_minor": 5
}
