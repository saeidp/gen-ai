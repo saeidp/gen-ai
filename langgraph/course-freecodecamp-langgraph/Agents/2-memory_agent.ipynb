{
 "cells": [
  {
   "cell_type": "code",
   "execution_count": 1,
   "id": "d645df03",
   "metadata": {},
   "outputs": [],
   "source": [
    "import os\n",
    "from typing import TypedDict, List, Union\n",
    "from langchain_core.messages import HumanMessage, AIMessage\n",
    "from langchain.chat_models import init_chat_model\n",
    "from langgraph.graph import StateGraph, START, END"
   ]
  },
  {
   "cell_type": "code",
   "execution_count": 2,
   "id": "ad124337",
   "metadata": {},
   "outputs": [],
   "source": [
    "class AgentState(TypedDict):\n",
    "    messages: List[Union[HumanMessage, AIMessage]]"
   ]
  },
  {
   "cell_type": "code",
   "execution_count": 3,
   "id": "1c53df5d",
   "metadata": {},
   "outputs": [],
   "source": [
    "llm = init_chat_model(\n",
    "    \"anthropic.claude-3-haiku-20240307-v1:0\",\n",
    "    model_provider=\"bedrock_converse\",\n",
    ")"
   ]
  },
  {
   "cell_type": "code",
   "execution_count": 7,
   "id": "aa1e8c70",
   "metadata": {},
   "outputs": [],
   "source": [
    "def process(state: AgentState) -> AgentState:\n",
    "    \"\"\"This node will solve the request you input\"\"\"\n",
    "    response = llm.invoke(state[\"messages\"])\n",
    "\n",
    "    state[\"messages\"].append(AIMessage(content=response.content)) \n",
    "    print(f\"\\nAI: {response.content}\")\n",
    "    print(\"CURRENT STATE: \", state[\"messages\"])\n",
    "\n",
    "    return state"
   ]
  },
  {
   "cell_type": "code",
   "execution_count": 5,
   "id": "5d46f2ee",
   "metadata": {},
   "outputs": [],
   "source": [
    "graph = StateGraph(AgentState)\n",
    "graph.add_node(\"process\", process)\n",
    "graph.add_edge(START, \"process\")\n",
    "graph.add_edge(\"process\", END) \n",
    "agent = graph.compile()"
   ]
  },
  {
   "cell_type": "code",
   "execution_count": 11,
   "id": "a1d2c3ec",
   "metadata": {},
   "outputs": [],
   "source": [
    "conversation_history = []"
   ]
  },
  {
   "cell_type": "code",
   "execution_count": 12,
   "id": "93bc4c43",
   "metadata": {},
   "outputs": [
    {
     "name": "stdout",
     "output_type": "stream",
     "text": [
      "Human: Hi\n",
      "\n",
      "AI: Hello! How can I assist you today?\n",
      "CURRENT STATE:  [HumanMessage(content='Hi', additional_kwargs={}, response_metadata={}), AIMessage(content='Hello! How can I assist you today?', additional_kwargs={}, response_metadata={})]\n",
      "\n",
      "Human: My name is John\n",
      "\n",
      "AI: It's nice to meet you, John! I'm glad we've had the chance to introduce ourselves. As an AI assistant, my role is to try my best to help you with any questions or tasks you may have. Please feel free to let me know if there is anything I can assist you with.\n",
      "CURRENT STATE:  [HumanMessage(content='Hi', additional_kwargs={}, response_metadata={}), AIMessage(content='Hello! How can I assist you today?', additional_kwargs={}, response_metadata={}), HumanMessage(content='My name is John', additional_kwargs={}, response_metadata={}), AIMessage(content=\"It's nice to meet you, John! I'm glad we've had the chance to introduce ourselves. As an AI assistant, my role is to try my best to help you with any questions or tasks you may have. Please feel free to let me know if there is anything I can assist you with.\", additional_kwargs={}, response_metadata={})]\n",
      "\n",
      "Human: What is my name?\n",
      "\n",
      "AI: Your name is John, as you introduced yourself to me earlier.\n",
      "CURRENT STATE:  [HumanMessage(content='Hi', additional_kwargs={}, response_metadata={}), AIMessage(content='Hello! How can I assist you today?', additional_kwargs={}, response_metadata={}), HumanMessage(content='My name is John', additional_kwargs={}, response_metadata={}), AIMessage(content=\"It's nice to meet you, John! I'm glad we've had the chance to introduce ourselves. As an AI assistant, my role is to try my best to help you with any questions or tasks you may have. Please feel free to let me know if there is anything I can assist you with.\", additional_kwargs={}, response_metadata={}), HumanMessage(content='What is my name?', additional_kwargs={}, response_metadata={}), AIMessage(content='Your name is John, as you introduced yourself to me earlier.', additional_kwargs={}, response_metadata={})]\n",
      "\n",
      "Human: exit\n"
     ]
    }
   ],
   "source": [
    "user_input = input(\"Enter: \")\n",
    "print(f\"Human: {user_input}\")\n",
    "while user_input != \"exit\":\n",
    "    conversation_history.append(HumanMessage(content=user_input))\n",
    "    result = agent.invoke({\"messages\": conversation_history})\n",
    "    conversation_history = result[\"messages\"]\n",
    "    user_input = input(\"Enter: \")\n",
    "    print(f\"\\nHuman: {user_input}\")\n"
   ]
  },
  {
   "cell_type": "code",
   "execution_count": 15,
   "id": "9f9a7689",
   "metadata": {},
   "outputs": [
    {
     "name": "stdout",
     "output_type": "stream",
     "text": [
      "Conversation saved to logging.txt\n"
     ]
    }
   ],
   "source": [
    "with open(\"logging.txt\", \"w\") as file:\n",
    "    file.write(\"Your Conversation Log:\\n\")\n",
    "    \n",
    "    for message in conversation_history:\n",
    "        if isinstance(message, HumanMessage):\n",
    "            file.write(f\"You: {message.content}\\n\")\n",
    "        elif isinstance(message, AIMessage):\n",
    "            file.write(f\"AI: {message.content}\\n\\n\")\n",
    "    file.write(\"End of Conversation\")\n",
    "\n",
    "print(\"Conversation saved to logging.txt\")"
   ]
  }
 ],
 "metadata": {
  "kernelspec": {
   "display_name": "freecodecamp-langgraph",
   "language": "python",
   "name": "freecodecamp-langgraph"
  },
  "language_info": {
   "codemirror_mode": {
    "name": "ipython",
    "version": 3
   },
   "file_extension": ".py",
   "mimetype": "text/x-python",
   "name": "python",
   "nbconvert_exporter": "python",
   "pygments_lexer": "ipython3",
   "version": "3.13.4"
  }
 },
 "nbformat": 4,
 "nbformat_minor": 5
}
