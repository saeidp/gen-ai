{
 "cells": [
  {
   "cell_type": "code",
   "execution_count": null,
   "id": "78d33408",
   "metadata": {},
   "outputs": [],
   "source": [
    "from typing import TypedDict, List\n",
    "from langchain_core.messages import HumanMessage\n",
    "from langchain.chat_models import init_chat_model\n",
    "from langgraph.graph import StateGraph, START, END"
   ]
  },
  {
   "cell_type": "code",
   "execution_count": 2,
   "id": "6917ac50",
   "metadata": {},
   "outputs": [],
   "source": [
    "class AgentState(TypedDict):\n",
    "    messages: List[HumanMessage]\n"
   ]
  },
  {
   "cell_type": "code",
   "execution_count": 3,
   "id": "c3aff145",
   "metadata": {},
   "outputs": [],
   "source": [
    "llm = init_chat_model(\n",
    "    \"anthropic.claude-3-haiku-20240307-v1:0\",\n",
    "    model_provider=\"bedrock_converse\",\n",
    ")"
   ]
  },
  {
   "cell_type": "code",
   "execution_count": 4,
   "id": "b946ea20",
   "metadata": {},
   "outputs": [],
   "source": [
    "def process(state: AgentState) -> AgentState:\n",
    "    response = llm.invoke(state[\"messages\"])\n",
    "    print(f\"\\nAI: {response.content}\")\n",
    "    return state"
   ]
  },
  {
   "cell_type": "code",
   "execution_count": 5,
   "id": "40c308d1",
   "metadata": {},
   "outputs": [],
   "source": [
    "graph = StateGraph(AgentState)\n",
    "graph.add_node(\"process\", process)\n",
    "graph.add_edge(START, \"process\")\n",
    "graph.add_edge(\"process\", END) \n",
    "agent = graph.compile()\n"
   ]
  },
  {
   "cell_type": "code",
   "execution_count": 12,
   "id": "32502b9f",
   "metadata": {},
   "outputs": [
    {
     "name": "stdout",
     "output_type": "stream",
     "text": [
      "Human: hello\n",
      "\n",
      "AI: Hello! How can I assist you today?\n",
      "\n",
      "Human: what is 5 minus 2\n",
      "\n",
      "AI: 5 minus 2 is 3.\n",
      "\n",
      "Human: my name is john\n",
      "\n",
      "AI: It's nice to meet you, John! I'm an AI assistant created by Anthropic. I'm here to help with any questions or tasks you might have. Please let me know if there's anything I can assist you with.\n",
      "\n",
      "Human: what was my name?\n",
      "\n",
      "AI: I'm afraid I don't actually know your name. As an AI assistant, I don't have personal information about you unless you provide it to me directly. Could you please tell me your name?\n",
      "\n",
      "Human: exit\n"
     ]
    }
   ],
   "source": [
    "user_input = input(\"Enter: \")\n",
    "print(f\"Human: {user_input}\")\n",
    "while user_input != \"exit\":\n",
    "    agent.invoke({\"messages\": [HumanMessage(content=user_input)]})\n",
    "    user_input = input(\"Enter: \")\n",
    "    print(f\"\\nHuman: {user_input}\")\n"
   ]
  }
 ],
 "metadata": {
  "kernelspec": {
   "display_name": "freecodecamp-langgraph",
   "language": "python",
   "name": "freecodecamp-langgraph"
  },
  "language_info": {
   "codemirror_mode": {
    "name": "ipython",
    "version": 3
   },
   "file_extension": ".py",
   "mimetype": "text/x-python",
   "name": "python",
   "nbconvert_exporter": "python",
   "pygments_lexer": "ipython3",
   "version": "3.13.4"
  }
 },
 "nbformat": 4,
 "nbformat_minor": 5
}
