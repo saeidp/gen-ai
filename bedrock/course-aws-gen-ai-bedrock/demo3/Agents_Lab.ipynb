{
 "cells": [
  {
   "cell_type": "markdown",
   "id": "40990fac",
   "metadata": {},
   "source": [
    "## Task 3.1: Run the Agents Notebook\n",
    "\n",
    "In this notebook, you use a shopping assistant agent to answer questions about lawn maintenance products from two companies - AnyCompany Outdoor Power Equipment and AnyCompany LawnCare Solutions. Execute the cells in this notebook to simulate a chat conversation with the agent, to test the prebuilt knowledge base, guardrails, and the agent application. \n",
    "\n",
    "The knowledge base includes product details such as manufacturer, description, and rating. The agent can access functions that support simple calculations and price lookup. \n",
    "\n",
    "In the following steps, you list the agents and invoke the shopping assistant agent with session and memory parameters to understand the impact of short-term and the longer-term memory on the agent’s behavior. You also capture and study the trace to understand the functioning of the agent including the use of a shopping assistant with guardrails.\n",
    "\n",
    "Advance through each cell of the notebook, running each code cell and viewing its output. "
   ]
  },
  {
   "cell_type": "markdown",
   "id": "b47b6c6a",
   "metadata": {},
   "source": [
    "### Task 3.1.1: Install Boto3 and import required Python libraries"
   ]
  },
  {
   "cell_type": "markdown",
   "id": "c31a6388",
   "metadata": {},
   "source": [
    "In this task, you import Boto3 as well as supporting Python libraries. You also import the Boto3 Client error-handling library, configure the Session, AWS Region and Bedrock clients and helper Agent functions."
   ]
  },
  {
   "cell_type": "markdown",
   "id": "805b07d7",
   "metadata": {},
   "source": [
    "The next cell imports the Python Boto3 library. \n",
    "The AWS SDK for Python (Boto3) provides a Python API for AWS infrastructure services. Using the SDK for Python, you can build applications on top of AWS Services. Boto3 library to interact with Amazon Bedrock Agents and Foundation Models."
   ]
  },
  {
   "cell_type": "code",
   "execution_count": 1,
   "id": "b2093e8e-f440-4d34-a5fb-1d431c1c0093",
   "metadata": {},
   "outputs": [],
   "source": [
    "import boto3\n",
    "import json\n",
    "import gzip\n",
    "import shutil\n",
    "import time\n",
    "import logging\n",
    "import pprint\n",
    "import json\n",
    "import uuid"
   ]
  },
  {
   "cell_type": "markdown",
   "id": "c85d270a",
   "metadata": {},
   "source": [
    "Import the Boto3 Client error-handling library."
   ]
  },
  {
   "cell_type": "code",
   "execution_count": 2,
   "id": "e27bfdf8-dfc8-4b76-8eda-42085f47c5e3",
   "metadata": {},
   "outputs": [],
   "source": [
    "from botocore.exceptions import ClientError"
   ]
  },
  {
   "cell_type": "markdown",
   "id": "a5956c34",
   "metadata": {},
   "source": [
    "### Task 3.1.2: Configure Boto3 objects and helper functions "
   ]
  },
  {
   "cell_type": "markdown",
   "id": "8bf5b867-59f7-4dc2-b3dd-cfbf7e981b1d",
   "metadata": {},
   "source": [
    "Configure the Session, AWS Region and Bedrock clients."
   ]
  },
  {
   "cell_type": "code",
   "execution_count": 3,
   "id": "aca6276d-9061-4f09-bd81-4ee61a013308",
   "metadata": {},
   "outputs": [],
   "source": [
    "s3_client = boto3.client('s3')\n",
    "sts_client = boto3.client('sts')\n",
    "session = boto3.session.Session()\n",
    "region = session.region_name\n",
    "account_id = sts_client.get_caller_identity()[\"Account\"]\n",
    "bedrock_agent_client = boto3.client('bedrock-agent')\n",
    "bedrock_agent_runtime_client = boto3.client('bedrock-agent-runtime')\n",
    "logging.basicConfig(format='[%(asctime)s] p%(process)s {%(filename)s:%(lineno)d} %(levelname)s - %(message)s', level=logging.INFO)\n",
    "logger = logging.getLogger(__name__)"
   ]
  },
  {
   "cell_type": "markdown",
   "id": "9bb1724c-f715-4227-95a3-9f0313f9f973",
   "metadata": {},
   "source": [
    "Setup a helper function to find agent id by agent name."
   ]
  },
  {
   "cell_type": "code",
   "execution_count": 4,
   "id": "1e459796-5319-499a-b5ed-7d69812c98fd",
   "metadata": {},
   "outputs": [],
   "source": [
    "def find_agent_id_by_agent_name(client, agent_name):\n",
    "    try:\n",
    "        response = client.list_agents()\n",
    "        agents = response.get('agentSummaries', [])\n",
    "    except ClientError as e:\n",
    "        print(f\"Error listing agents: {e}\")\n",
    "        return []\n",
    "    agent_id = ''\n",
    "    for agent in agents:\n",
    "        if agent['agentName'] == agent_name:\n",
    "            agent_id = agent['agentId']\n",
    "    return agent_id"
   ]
  },
  {
   "cell_type": "markdown",
   "id": "ba2c20bb-f4bf-4edb-a5db-b4d906c6f1ea",
   "metadata": {},
   "source": [
    "Invoke the helper function find_agent_id_by_agent_name to get the agent id associated with the shopping-assistant agent. In the below cell, you will see that an **alias_id** is defined. This **alias_id** will be used in later steps when the Session Summary is requested. "
   ]
  },
  {
   "cell_type": "code",
   "execution_count": 16,
   "id": "91acff5f-0426-4f0c-bf69-2903cf587979",
   "metadata": {},
   "outputs": [],
   "source": [
    "# Invoke the helper function to find agent IDs\n",
    "agent_id = find_agent_id_by_agent_name(bedrock_agent_client, 'shopping-assistant')\n",
    "agent_id_with_guardrail = find_agent_id_by_agent_name(bedrock_agent_client, 'shopping-assistant-with-guardrails')\n",
    "alias_id=\"TSTALIASID\" \n",
    "\n",
    "# the below s3 bucket will be used internally to store logs for bedrock\n",
    "# bedrock_logging_bucket=\"bedrock-logging-\"+region+\"-\"+account_id\n",
    "bedrock_logging_bucket=\"bedrock-logging-1258\"\n",
    "\n",
    "recent_bedrock_log_file_copy='recent_bedrock_log_file_copy'"
   ]
  },
  {
   "cell_type": "code",
   "execution_count": 17,
   "id": "3df9ad93-fa0f-44c5-bb6c-5f993270628c",
   "metadata": {},
   "outputs": [
    {
     "name": "stdout",
     "output_type": "stream",
     "text": [
      "M3HJCXJHFQ WYXXSZLVUF ap-southeast-2 702209111549\n"
     ]
    }
   ],
   "source": [
    "print(agent_id, agent_id_with_guardrail, region, account_id)"
   ]
  },
  {
   "cell_type": "markdown",
   "id": "80703e51",
   "metadata": {},
   "source": [
    "Create a helper function to invoke the Bedrock Agent and capture memory."
   ]
  },
  {
   "cell_type": "code",
   "execution_count": 18,
   "id": "157b8560-cc6d-4e0a-b0fb-e424a67e22cb",
   "metadata": {
    "pycharm": {
     "name": "#%%\n"
    },
    "tags": []
   },
   "outputs": [],
   "source": [
    "def invokeAgent(query, session_id, memory_id, agent_id, enable_trace=False, session_state=dict(), end_session=False):\n",
    "    \n",
    "    if memory_id == \"\":\n",
    "        agentResponse = bedrock_agent_runtime_client.invoke_agent(\n",
    "            inputText=query,\n",
    "            agentId=agent_id,\n",
    "            agentAliasId=alias_id, \n",
    "            sessionId=session_id,\n",
    "            enableTrace=enable_trace, \n",
    "            endSession= end_session,\n",
    "            sessionState=session_state\n",
    "        )\n",
    "    else:\n",
    "    # invoke the agent API\n",
    "        agentResponse = bedrock_agent_runtime_client.invoke_agent(\n",
    "            inputText=query,\n",
    "            agentId=agent_id,\n",
    "            agentAliasId=alias_id, \n",
    "            memoryId=memory_id,\n",
    "            sessionId=session_id,\n",
    "            enableTrace=enable_trace, \n",
    "            endSession= end_session,\n",
    "            sessionState=session_state\n",
    "        )\n",
    "    \n",
    "    if enable_trace:\n",
    "        logger.info(pprint.pprint(agentResponse))\n",
    "    \n",
    "    event_stream = agentResponse['completion']\n",
    "    try:\n",
    "        for event in event_stream:        \n",
    "            if 'chunk' in event:\n",
    "                data = event['chunk']['bytes']\n",
    "                if enable_trace:\n",
    "                    logger.info(f\"Final answer ->\\n{data.decode('utf8')}\")\n",
    "                agent_answer = data.decode('utf8')\n",
    "                end_event_received = True\n",
    "                return agent_answer\n",
    "                # End event indicates that the request finished successfully\n",
    "            elif 'trace' in event:\n",
    "                if enable_trace:\n",
    "                    logger.info(json.dumps(event['trace'], indent=2))\n",
    "            else:\n",
    "                raise Exception(\"unexpected event.\", event)\n",
    "    except Exception as e:\n",
    "        if str(e).find(\"throttlingException\"): \n",
    "            print(\"\\033[1mThrottlingException:\\033[;7m\\nA throttling error ocurred when calling the InvokeAgent operation. Please wait up to 60 seconds and retry this cell.\\n\\033[0m\")"
   ]
  },
  {
   "cell_type": "markdown",
   "id": "3766b3b2",
   "metadata": {},
   "source": [
    "### Task 3.1.3: Interact with the Bedrock agent without guardrails  "
   ]
  },
  {
   "cell_type": "markdown",
   "id": "7fd20005",
   "metadata": {},
   "source": [
    "When interacting and chatting with Bedrock agents, there are two components that help maintain the state:\n",
    "\n",
    "**session_id** represents a conversation with an agent across multiple questions. To continue the same conversation with an agent, use the same session_id value in the request.  \n",
    "\n",
    "**memory_id** is where each user’s conversation history and context are securely stored, ensuring complete separation between users.  \n",
    "\n",
    "Setup the **session_id** and **memory_id**. "
   ]
  },
  {
   "cell_type": "code",
   "execution_count": 19,
   "id": "164cd4c6",
   "metadata": {},
   "outputs": [
    {
     "name": "stdout",
     "output_type": "stream",
     "text": [
      "Session id=8e2025d0-c2e1-4a32-b35b-0c6a68cb592f\n",
      "Memory id=560b1bec-03c5-4068-93f4-14a1d7a007c7\n"
     ]
    }
   ],
   "source": [
    "session_id:str = str(uuid.uuid4())\n",
    "print(\"Session id=\"+session_id)\n",
    "memory_id_1:str = str(uuid.uuid4())\n",
    "print(\"Memory id=\"+memory_id_1)"
   ]
  },
  {
   "cell_type": "markdown",
   "id": "744a3c69-c94f-488d-b488-7903c5f6b507",
   "metadata": {},
   "source": [
    "Simulate a dialog with the agent. Ask an initial question to the agent to get the conversation started. Some of the questions to the agent will be answered from information stored in the Knowledge Base. Since logging is active, you will notice latency. Notice that the **shopping-assistant** agent is being invoked. This agent does not have any associated Guardrails."
   ]
  },
  {
   "cell_type": "markdown",
   "id": "296c6b85-7a83-4593-b9a2-6935151c3508",
   "metadata": {},
   "source": [
    "<i aria-hidden=\"true\" class=\"fas fa-sticky-note\" style=\"color:#563377\"></i> **Note:** This lab uses a non-production AWS account with a model invocation rate limit. If any of the subsequent cells that post questions to the agent returns a **Throttling Error**, wait up to 60 seconds and rerun that cell. "
   ]
  },
  {
   "cell_type": "code",
   "execution_count": 20,
   "id": "8b3ab1c5",
   "metadata": {},
   "outputs": [
    {
     "name": "stdout",
     "output_type": "stream",
     "text": [
      "\u001b[1mQuestion:\u001b[0m Hello, I am interested in your products. Who manufactures the products you sell?\n",
      "\n",
      "\u001b[1mResponse:\u001b[0m I'm sorry, but I do not have any information about the manufacturers of the products I sell. As an AI assistant, I do not actually sell any products directly. I am an AI created by Anthropic to be helpful, harmless, and honest. I do not have access to information about specific product manufacturers. I apologize that I cannot provide a more complete answer to your question.\n",
      "\n"
     ]
    }
   ],
   "source": [
    "q=\"Hello, I am interested in your products. Who manufactures the products you sell?\"\n",
    "print(\"\\033[1mQuestion:\\033[0m \"+q+\"\\n\")\n",
    "try: \n",
    "    response = invokeAgent(q, session_id,memory_id_1, agent_id)\n",
    "    print(\"\\033[1mResponse:\\033[0m \"+response+\"\\n\")\n",
    "except Exception as e:\n",
    "    pass"
   ]
  },
  {
   "cell_type": "markdown",
   "id": "657088f3",
   "metadata": {},
   "source": [
    "Continue asking questions about products. Execute each question and review the response. "
   ]
  },
  {
   "cell_type": "code",
   "execution_count": 21,
   "id": "1744924a",
   "metadata": {},
   "outputs": [
    {
     "name": "stdout",
     "output_type": "stream",
     "text": [
      "\u001b[1mQuestion:\u001b[0m What do customers say about these products?\n",
      "\n",
      "\u001b[1mResponse:\u001b[0m \n",
      "\n",
      "I'm afraid I don't have any specific information about customer feedback on the products I sell, as I don't actually sell any products directly. As an AI assistant, I don't have access to that kind of detailed product information. However, based on a more general search, customers tend to report positive experiences with products from reputable brands, citing factors like quality, durability, and customer service. But customer satisfaction can vary depending on the specific product, price, and individual needs and expectations.\n",
      "\n",
      "\n",
      "\n",
      "\n"
     ]
    }
   ],
   "source": [
    "q=\"What do customers say about these products?\"\n",
    "print(\"\\033[1mQuestion:\\033[0m \"+q+\"\\n\")\n",
    "try: \n",
    "    response = invokeAgent(q, session_id,memory_id_1, agent_id)\n",
    "    print(\"\\033[1mResponse:\\033[0m \"+response+\"\\n\")\n",
    "except Exception as e:\n",
    "    pass"
   ]
  },
  {
   "cell_type": "code",
   "execution_count": 22,
   "id": "fad480d5",
   "metadata": {},
   "outputs": [
    {
     "name": "stdout",
     "output_type": "stream",
     "text": [
      "\u001b[1mQuestion:\u001b[0m How much do they cost?\n",
      "\n",
      "\u001b[1mResponse:\u001b[0m \n",
      "\n",
      "I'm afraid I don't have access to the specific pricing information for the products I sell, as I don't actually sell any products directly. As an AI assistant, I don't have detailed data on product prices. However, based on a more general search, prices for similar types of products can range quite widely, from under $50 for more budget-friendly options up to hundreds of dollars or more for premium products. The exact pricing would depend on factors like the brand, features, materials, and where the product is sold.\n",
      "\n",
      "\n",
      "\n",
      "\n"
     ]
    }
   ],
   "source": [
    "q=\"How much do they cost?\"\n",
    "print(\"\\033[1mQuestion:\\033[0m \"+q+\"\\n\")\n",
    "try: \n",
    "    response = invokeAgent(q, session_id,memory_id_1, agent_id)\n",
    "    print(\"\\033[1mResponse:\\033[0m \"+response+\"\\n\")\n",
    "except Exception as e:\n",
    "    pass"
   ]
  },
  {
   "cell_type": "markdown",
   "id": "bb54bdc3",
   "metadata": {},
   "source": [
    "Ask another question, that will prompt the agent to use a math calculation."
   ]
  },
  {
   "cell_type": "code",
   "execution_count": 23,
   "id": "2ab08cf9",
   "metadata": {},
   "outputs": [
    {
     "name": "stdout",
     "output_type": "stream",
     "text": [
      "\u001b[1mQuestion:\u001b[0m How much will it cost to buy 2 string trimmers?\n",
      "\n",
      "\u001b[1mResponse:\u001b[0m \n",
      "\n",
      "I'm afraid I don't have access to the specific pricing information for the string trimmers I sell, as I don't actually sell any products directly. As an AI assistant, I don't have detailed data on the prices of individual products. \n",
      "\n",
      "However, based on a more general search, string trimmers can range in price from around $50 for basic models up to $300 or more for professional-grade or feature-rich options. On average, a good quality string trimmer tends to cost between $100-$200.\n",
      "\n",
      "So if I had to estimate the cost for 2 string trimmers, it would likely be in the range of $200-$400, depending on the specific models. But I don't have the exact pricing details to provide a more precise answer.\n",
      "\n",
      "\n",
      "\n",
      "\n"
     ]
    }
   ],
   "source": [
    "q=\"How much will it cost to buy 2 string trimmers?\"\n",
    "print(\"\\033[1mQuestion:\\033[0m \"+q+\"\\n\")\n",
    "try: \n",
    "    response = invokeAgent(q, session_id,memory_id_1, agent_id)\n",
    "    print(\"\\033[1mResponse:\\033[0m \"+response+\"\\n\")\n",
    "except Exception as e:\n",
    "    pass"
   ]
  },
  {
   "cell_type": "markdown",
   "id": "7a7f7627",
   "metadata": {},
   "source": [
    "Ask a final question in this session. Since you are calling the **shopping-assistant** agent without Guardrails, ask a question that will not be blocked."
   ]
  },
  {
   "cell_type": "code",
   "execution_count": 24,
   "id": "5866c3bf-b802-4082-b548-79bfbf0be1d6",
   "metadata": {},
   "outputs": [
    {
     "name": "stdout",
     "output_type": "stream",
     "text": [
      "\u001b[1mQuestion:\u001b[0m Can I use a string trimmer to control weeds?\n",
      "\n",
      "\u001b[1mResponse:\u001b[0m \n",
      "\n",
      "Yes, string trimmers can be an effective tool for controlling weeds. The spinning nylon line or metal blade on a string trimmer can cut down and remove weeds, especially in areas that are difficult to access with other lawn care equipment. String trimmers are particularly useful for cutting down tall weeds, weeds growing around obstacles, and weeds in hard-to-reach areas.\n",
      "\n",
      "When using a string trimmer for weed control, it's important to be careful and avoid damaging desirable plants. The trimmer should be held at an angle and kept moving to avoid scalping the ground. It's also best to trim weeds when they are young and the soil is moist, as this makes them easier to remove.\n",
      "\n",
      "\n",
      "\n",
      "\n"
     ]
    }
   ],
   "source": [
    "q=\"Can I use a string trimmer to control weeds?\"\n",
    "print(\"\\033[1mQuestion:\\033[0m \"+q+\"\\n\")\n",
    "try: \n",
    "    response = invokeAgent(q, session_id,memory_id_1, agent_id)\n",
    "    print(\"\\033[1mResponse:\\033[0m \"+response+\"\\n\")\n",
    "except Exception as e:\n",
    "    pass"
   ]
  },
  {
   "cell_type": "markdown",
   "id": "c7193b27-4d8a-4911-bf97-df3a89c9faeb",
   "metadata": {},
   "source": [
    "The code below closes the session by setting **end_session=True** so that you can access the session summary later from the memory store.  "
   ]
  },
  {
   "cell_type": "code",
   "execution_count": 25,
   "id": "0e581822-24af-4c94-a0ce-8d4ae22955ed",
   "metadata": {},
   "outputs": [
    {
     "name": "stdout",
     "output_type": "stream",
     "text": [
      "\u001b[1mResponse:\u001b[0m Session is terminated as 'endSession' flag is set in request.\n",
      "\n"
     ]
    }
   ],
   "source": [
    "response = invokeAgent(\"end session\", session_id,memory_id_1, agent_id, end_session=True)\n",
    "print(\"\\033[1mResponse:\\033[0m \"+response+\"\\n\")"
   ]
  },
  {
   "cell_type": "markdown",
   "id": "08a8023b",
   "metadata": {},
   "source": [
    "### Task 3.1.4: Interact with the Bedrock agent's invocation logs\n"
   ]
  },
  {
   "cell_type": "markdown",
   "id": "e6c77cb6-1e60-4c52-b163-869fec4260bc",
   "metadata": {},
   "source": [
    "Define a set of helper functions to locate, download and save the recent Bedrock invocation log and print the json content in the downloaded gzipped file. This approach reduces the amout of output on the screen. The other option to get the invocation log is to enable trace while asking the agent a question. You will enable trace when using the agent with guardrail.  "
   ]
  },
  {
   "cell_type": "code",
   "execution_count": 26,
   "id": "0a3e5394-e4de-4ba2-833e-d88c91182d54",
   "metadata": {},
   "outputs": [],
   "source": [
    "def find_the_recent_bedrock_log():\n",
    "    # List the objects in the bucket\n",
    "    response = s3_client.list_objects_v2(Bucket=bedrock_logging_bucket)\n",
    "\n",
    "    # Sort the objects by their LastModified attribute in descending order\n",
    "    sorted_objects = sorted(response['Contents'], key=lambda obj: obj['LastModified'], reverse=True)\n",
    "\n",
    "    # The first object in the sorted list is the most recent one\n",
    "    latest_object = sorted_objects[0]\n",
    "\n",
    "    # return the key (name) of the latest object\n",
    "    print(latest_object['Key'])\n",
    "    return latest_object['Key']"
   ]
  },
  {
   "cell_type": "code",
   "execution_count": 27,
   "id": "af65d204-53de-4f3b-b0a8-3817521fd5d4",
   "metadata": {},
   "outputs": [],
   "source": [
    "def download_recent_bedrock_log():\n",
    "    # wait one minute for bedrock log to show up\n",
    "    time.sleep(60)\n",
    "\n",
    "    #set up file names\n",
    "    recent_log_file_gz=recent_bedrock_log_file_copy+\".gz\"\n",
    "    recent_log_file_json=recent_bedrock_log_file_copy+\".json\"\n",
    "\n",
    "    # download the log to local directory\n",
    "    s3_client.download_file(bedrock_logging_bucket, find_the_recent_bedrock_log(), recent_log_file_gz)\n",
    "\n",
    "    #unzip the .gz file\n",
    "    with gzip.open(recent_log_file_gz, 'rb') as f_in:\n",
    "        with open(recent_log_file_json, 'wb') as f_out:\n",
    "            shutil.copyfileobj(f_in, f_out)\n",
    "    return recent_log_file_json"
   ]
  },
  {
   "cell_type": "code",
   "execution_count": 28,
   "id": "266fda01-41ce-4ebb-a672-76505ecb2dbc",
   "metadata": {},
   "outputs": [],
   "source": [
    "def download_and_print_json_log(output_file:str):\n",
    "    log_name=download_recent_bedrock_log()\n",
    "    with open(log_name, 'r') as file:\n",
    "        lines = file.readlines()\n",
    "        with open(output_file, 'w') as f_out:\n",
    "            for line in lines:\n",
    "                json.dump(json.loads(line.strip()), f_out, indent=2)"
   ]
  },
  {
   "cell_type": "markdown",
   "id": "5536e05c-29f2-45dc-a513-3b29a12aa494",
   "metadata": {},
   "source": [
    "Print the trace for the recent agent invocation. The code sleeps for one minute to ensure that the latest logs are fetched. "
   ]
  },
  {
   "cell_type": "code",
   "execution_count": 29,
   "id": "dec99693-b360-4bee-8d50-88f128d37861",
   "metadata": {},
   "outputs": [
    {
     "name": "stdout",
     "output_type": "stream",
     "text": [
      "AWSLogs/702209111549/bedrock/knowledgebases/ap-southeast-2/7AR8RTVFYR/2025/04/01/01/bedrock_knowledgebases_7AR8RTVFYR_2025-04-01-01_13bb17d9.log.gz\n"
     ]
    }
   ],
   "source": [
    "download_and_print_json_log(\"log_output_without_guardrails.txt\")"
   ]
  },
  {
   "cell_type": "markdown",
   "id": "da072520-0318-4446-93b1-610041cdf1ef",
   "metadata": {},
   "source": [
    "The log output shows the reasoning used by the agent to answer user's questions. Take a few minutes to study the log."
   ]
  },
  {
   "cell_type": "markdown",
   "id": "e1149aba",
   "metadata": {},
   "source": [
    "### Task 3.1.5: Interact with the Bedrock agent with guardrails  "
   ]
  },
  {
   "cell_type": "markdown",
   "id": "735250f7-c3b8-482e-ad7f-ceb950a89da8",
   "metadata": {},
   "source": [
    "Pose the last question seeking weed advice to the **shopping-assistant-with-guardrails** agent. Notice the agent refuses to provide lawn maintenance advice for the last question in the list above. Since enable_trace is set to true, you can see the trace output on the screen. The trace output is available in the log file as well. "
   ]
  },
  {
   "cell_type": "code",
   "execution_count": 34,
   "id": "96440b04-c171-4d34-a8b1-470383e33be4",
   "metadata": {},
   "outputs": [
    {
     "name": "stdout",
     "output_type": "stream",
     "text": [
      "\u001b[1mQuestion:\u001b[0m Can I use a string trimmer to control weeds?\n",
      "\n"
     ]
    },
    {
     "name": "stderr",
     "output_type": "stream",
     "text": [
      "[2025-04-01 11:25:41,119] p192622 {3117193364.py:27} INFO - None\n"
     ]
    },
    {
     "name": "stdout",
     "output_type": "stream",
     "text": [
      "{'ResponseMetadata': {'HTTPHeaders': {'connection': 'keep-alive',\n",
      "                                      'content-type': 'application/vnd.amazon.eventstream',\n",
      "                                      'date': 'Tue, 01 Apr 2025 03:25:41 GMT',\n",
      "                                      'transfer-encoding': 'chunked',\n",
      "                                      'x-amz-bedrock-agent-session-id': '2df4a9f1-fab3-4c2b-ae12-537dbbb920f4',\n",
      "                                      'x-amzn-bedrock-agent-content-type': 'application/json',\n",
      "                                      'x-amzn-requestid': 'a5f98a08-caae-4ec3-a592-a25b14c75e00'},\n",
      "                      'HTTPStatusCode': 200,\n",
      "                      'RequestId': 'a5f98a08-caae-4ec3-a592-a25b14c75e00',\n",
      "                      'RetryAttempts': 0},\n",
      " 'completion': <botocore.eventstream.EventStream object at 0x7f72f8cfbf50>,\n",
      " 'contentType': 'application/json',\n",
      " 'sessionId': '2df4a9f1-fab3-4c2b-ae12-537dbbb920f4'}\n",
      "\u001b[1mThrottlingException:\u001b[;7m\n",
      "A throttling error ocurred when calling the InvokeAgent operation. Please wait up to 60 seconds and retry this cell.\n",
      "\u001b[0m\n"
     ]
    }
   ],
   "source": [
    "session_id:str = str(uuid.uuid4())\n",
    "memory_id=\"\"\n",
    "q=\"Can I use a string trimmer to control weeds?\"\n",
    "\n",
    "print(\"\\033[1mQuestion:\\033[0m \"+q+\"\\n\")\n",
    "try: \n",
    "    response = invokeAgent(q, session_id,memory_id, agent_id_with_guardrail, enable_trace=True)\n",
    "    print(\"\\033[1mResponse:\\033[0m \"+response+\"\\n\")\n",
    "except Exception as e:\n",
    "    pass"
   ]
  },
  {
   "cell_type": "markdown",
   "id": "3391a770-0291-47f3-acef-21c831ace046",
   "metadata": {},
   "source": [
    "Print the log for the recent agent invocation. The code sleeps for one minute to ensure that the latest logs are fetched. "
   ]
  },
  {
   "cell_type": "code",
   "execution_count": null,
   "id": "b4212869-1263-4648-8f7a-1a99c9512b1c",
   "metadata": {},
   "outputs": [],
   "source": [
    "download_and_print_json_log(\"log_output_with_guardrails.txt\")"
   ]
  },
  {
   "cell_type": "markdown",
   "id": "233a191f",
   "metadata": {},
   "source": [
    "### Task 3.1.5: Interact with the agent's session memory"
   ]
  },
  {
   "cell_type": "markdown",
   "id": "336cb9b0-e2b6-4ae2-817d-813527ec60b9",
   "metadata": {},
   "source": [
    "More than two minutes have elapsed since closing the first session. The memory store with a summary of the first session should be ready by now. This can be useful for auditing, debugging, or understanding the agent's reasoning across multiple conversations. The below function checks if the Session Summary is finalized, printing the Session Summary. If the Summary is not yet available, the code below will wait 30 seconds and retry up to 5 times. After running this cell, if the Summary is still not available, you can wait one more minute and rerun this cell. "
   ]
  },
  {
   "cell_type": "code",
   "execution_count": 31,
   "id": "44a887e6-e76d-45a1-af9e-45128d211f03",
   "metadata": {},
   "outputs": [
    {
     "name": "stdout",
     "output_type": "stream",
     "text": [
      "Summary found!\n",
      "\n",
      "Session Summary:\n",
      " The user is interested in the products sold by the assistant and wants to know information about them, such as who manufactures them, what customers say about them, how much they cost, and whether a string trimmer can be used to control weeds. The assistant explains that as an AI, they do not have access to detailed information about the products they sell, such as the manufacturers, customer feedback, or pricing. However, the assistant provides some general information based on a broader search, such as that customers tend to report positive experiences with quality products, and that string trimmers can be effective for controlling weeds when used properly.\n"
     ]
    }
   ],
   "source": [
    "import time\n",
    "\n",
    "def check_session_summary(bedrock_agent_runtime_client, agent_id, alias_id, memory_id, max_retries=5, wait_time=30):\n",
    "    for attempt in range(max_retries):\n",
    "        try:\n",
    "            response = bedrock_agent_runtime_client.get_agent_memory(\n",
    "                agentId=agent_id,\n",
    "                agentAliasId=alias_id,\n",
    "                memoryId=memory_id,\n",
    "                memoryType='SESSION_SUMMARY'\n",
    "            )\n",
    "            \n",
    "            if 'memoryContents' in response and response['memoryContents']:\n",
    "                print(\"Summary found!\")\n",
    "                return response['memoryContents'][0]['sessionSummary']['summaryText']\n",
    "            \n",
    "            print(f\"Attempt {attempt + 1}/{max_retries}: Summary not yet generated. Waiting {wait_time} seconds...\")\n",
    "            time.sleep(wait_time)\n",
    "            \n",
    "        except Exception as e:\n",
    "            print(f\"Error checking summary: {str(e)}\")\n",
    "            return None\n",
    "    \n",
    "    print(\"Summary not found after all retries. The summary might take longer to generate.\")\n",
    "    print(\"Please wait 60 seconds and rerun this cell.\")\n",
    "    return None\n",
    "\n",
    "# Usage example\n",
    "summary = check_session_summary(\n",
    "    bedrock_agent_runtime_client,\n",
    "    agent_id=agent_id,\n",
    "    alias_id=alias_id,\n",
    "    memory_id=memory_id_1\n",
    ")\n",
    "\n",
    "if summary:\n",
    "    print(\"\\nSession Summary:\")\n",
    "    print(summary)"
   ]
  },
  {
   "cell_type": "markdown",
   "id": "8fa1db8f-7866-4f92-addf-5c5fb3ed591b",
   "metadata": {},
   "source": [
    "Finish this conversation with the agent by asking it to recall what was discussed. "
   ]
  },
  {
   "cell_type": "code",
   "execution_count": 32,
   "id": "43c66a83-ab6b-4769-b49a-06e0fe89fc60",
   "metadata": {},
   "outputs": [
    {
     "name": "stdout",
     "output_type": "stream",
     "text": [
      "\u001b[1mQuestion:\u001b[0m What was I interested in buying?\n",
      "\n",
      "\u001b[1mResponse:\u001b[0m According to the memory synopsis, you were interested in learning more about the products sold by the assistant, including information about the manufacturers, what customers say about the products, how much the products cost, and whether a string trimmer can be used to control weeds.\n",
      "\n"
     ]
    }
   ],
   "source": [
    "q='What was I interested in buying?'\n",
    "print(\"\\033[1mQuestion:\\033[0m \"+q+\"\\n\")\n",
    "try: \n",
    "    response = invokeAgent(q, session_id,memory_id_1, agent_id)\n",
    "    print(\"\\033[1mResponse:\\033[0m \"+response+\"\\n\")\n",
    "except Exception as e:\n",
    "    pass"
   ]
  },
  {
   "cell_type": "markdown",
   "id": "eb25c527-9b7b-4f66-a0c7-dea05934f688",
   "metadata": {},
   "source": [
    "### Cleanup\n",
    "\n",
    "You have completed this notebook. To move to the next part of the lab, do the following:\n",
    "- Close this notebook file.\n",
    "- Return to the lab session and continue with the **Conclusion**."
   ]
  }
 ],
 "metadata": {
  "kernelspec": {
   "display_name": "Python (bedrock-2)",
   "language": "python",
   "name": "bedrock-2"
  },
  "language_info": {
   "codemirror_mode": {
    "name": "ipython",
    "version": 3
   },
   "file_extension": ".py",
   "mimetype": "text/x-python",
   "name": "python",
   "nbconvert_exporter": "python",
   "pygments_lexer": "ipython3",
   "version": "3.13.2"
  }
 },
 "nbformat": 4,
 "nbformat_minor": 5
}
