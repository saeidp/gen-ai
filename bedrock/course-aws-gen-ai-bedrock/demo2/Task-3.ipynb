{
 "cells": [
  {
   "cell_type": "markdown",
   "id": "ccd8ae92a248be2d",
   "metadata": {
    "tags": []
   },
   "source": [
    "# Task 3: Test the Query Reformulation process supported by Amazon Bedrock Knowledge Bases\n",
    "\n",
    "In this task you understand and test the Query Reformulation process supported by Amazon Bedrock Knowledge Bases. With query reformulation, you take a complex input prompt and break it down into multiple sub-queries. These sub-queries separately go through their own retrieval steps for relevant chunks. The resulting chunks are then pooled and ranked together before passing them to the Foundational Model to generate a response. Query reformulation is another tool that helps in increasing the accuracy for complex queries that your application may face in production."
   ]
  },
  {
   "cell_type": "markdown",
   "id": "c2e87cd081d14b9c",
   "metadata": {
    "tags": []
   },
   "source": [
    "## Task 3.1: Setup the environment\n",
    "\n",
    "In this task, you setup the notebook environment by import the necessary packages.\n",
    "\n",
    "1. Run the following two code cells to import the necessary packages and setup your environment:"
   ]
  },
  {
   "cell_type": "code",
   "execution_count": 1,
   "id": "d8f6d98a43720ff5",
   "metadata": {
    "ExecuteTime": {
     "end_time": "2024-07-01T21:24:31.744740Z",
     "start_time": "2024-07-01T21:24:29.547869Z"
    },
    "tags": []
   },
   "outputs": [
    {
     "name": "stdout",
     "output_type": "stream",
     "text": [
      "1.37.19\n"
     ]
    }
   ],
   "source": [
    "import boto3\n",
    "import botocore\n",
    "import os\n",
    "import json\n",
    "import logging\n",
    "import os\n",
    "\n",
    "# confirm we are at boto3 version 1.34.143 or above\n",
    "print(boto3.__version__)"
   ]
  },
  {
   "cell_type": "code",
   "execution_count": 2,
   "id": "6739ded2",
   "metadata": {},
   "outputs": [
    {
     "data": {
      "text/plain": [
       "('ap-southeast-2', '702209111549')"
      ]
     },
     "execution_count": 2,
     "metadata": {},
     "output_type": "execute_result"
    }
   ],
   "source": [
    "#Clients\n",
    "s3_client = boto3.client('s3')\n",
    "sts_client = boto3.client('sts')\n",
    "session = boto3.session.Session()\n",
    "region =  session.region_name\n",
    "account_id = sts_client.get_caller_identity()[\"Account\"]\n",
    "bedrock_agent_client = boto3.client('bedrock-agent')\n",
    "bedrock_agent_runtime_client = boto3.client('bedrock-agent-runtime') \n",
    "logging.basicConfig(format='[%(asctime)s] p%(process)s {%(filename)s:%(lineno)d} %(levelname)s - %(message)s', level=logging.INFO)\n",
    "logger = logging.getLogger(__name__)\n",
    "region, account_id"
   ]
  },
  {
   "cell_type": "markdown",
   "id": "55de6606",
   "metadata": {},
   "source": [
    "2. Run the following code cell to verify the ID for the existing Knowledge Base in Amazon Bedrock:"
   ]
  },
  {
   "cell_type": "code",
   "execution_count": 3,
   "id": "042e2fd9",
   "metadata": {},
   "outputs": [
    {
     "name": "stderr",
     "output_type": "stream",
     "text": [
      "[2025-03-28 06:18:19,328] p94846 {credentials.py:1352} INFO - Found credentials in shared credentials file: ~/.aws/credentials\n"
     ]
    },
    {
     "name": "stdout",
     "output_type": "stream",
     "text": [
      "Knowledge Base ID: XJ7XKBLKGZ\n"
     ]
    }
   ],
   "source": [
    "import botocore\n",
    "\n",
    "session = boto3.Session()\n",
    "bedrock_client = session.client('bedrock-agent')\n",
    "\n",
    "try:\n",
    "    response = bedrock_client.list_knowledge_bases(\n",
    "        maxResults=1  # We only need to retrieve the first Knowledge Base\n",
    "    )\n",
    "    knowledge_base_summaries = response.get('knowledgeBaseSummaries', [])\n",
    "\n",
    "    if knowledge_base_summaries:\n",
    "        kb_id = knowledge_base_summaries[0]['knowledgeBaseId']\n",
    "        print(f\"Knowledge Base ID: {kb_id}\")\n",
    "    else:\n",
    "        print(\"No Knowledge Base summaries found.\")\n",
    "        \n",
    "except botocore.exceptions.ClientError as e:\n",
    "    print(f\"Error: {e}\")"
   ]
  },
  {
   "cell_type": "markdown",
   "id": "9ede5d03",
   "metadata": {},
   "source": [
    "3. Run the following code cell to define the FM to be used for this notebook:"
   ]
  },
  {
   "cell_type": "code",
   "execution_count": 4,
   "id": "2e323c26",
   "metadata": {},
   "outputs": [],
   "source": [
    "# Define FM to be used for generations \n",
    "# foundation_model ='anthropic.claude-3-sonnet-20240229-v1:0'  # we will be using Anthropic Claude 3 Sonnet throughout the notebook\n",
    "foundation_model = \"anthropic.claude-3-haiku-20240307-v1:0\""
   ]
  },
  {
   "cell_type": "markdown",
   "id": "fb05c48b103ab62",
   "metadata": {},
   "source": [
    "## Task 3.2: Demonstrate Query Reformulation\n",
    "\n",
    "In this task, you investigate a simple and a more complex query that could benefit from query reformulation and see how it affects the generated responses.\n",
    "\n",
    "#### Complex prompt\n",
    "\n",
    "To demonstrate the functionality, lets take a look at a query that has a few asks being made about some information contained in the AnyCompany 10K financial document. This query contains a few asks that are not semantically related. When this query is embedded during the retrieval step, some aspects of the query may become diluted and therefore the relevant chunks returned may not address all components of this complex query.\n",
    "\n",
    "To query your Knowledge Base and generate a response, you use the *RetrieveAndGenerate* API call. To use the query reformulation feature, the following information is included in your knowledge base:\n",
    "\n",
    "```\n",
    "'orchestrationConfiguration': {\n",
    "        'queryTransformationConfiguration': {\n",
    "            'type': 'QUERY_DECOMPOSITION'\n",
    "        }\n",
    "    }\n",
    "```\n",
    "\n",
    "<i aria-hidden=\"true\" class=\"fas fa-sticky-note\" style=\"color:#563377\"></i> **Note:** The output response structure is same as the normal *retrieve_and_generate* without query reformulation."
   ]
  },
  {
   "cell_type": "markdown",
   "id": "9360c879265e8612",
   "metadata": {},
   "source": [
    "### Task 3.2.1: Generate results without Query Reformulation\n",
    "\n",
    "In this task, you see how the generated result looks like for the following query without using query reformulation. You use the following query: *Where is the AnyCompany company waterfront building located and how does the whistleblower scandal hurt the company and its image?*"
   ]
  },
  {
   "cell_type": "markdown",
   "id": "0888fcb6",
   "metadata": {},
   "source": [
    "4. Run the following three code cells to generated results without query reformulation:"
   ]
  },
  {
   "cell_type": "code",
   "execution_count": 5,
   "id": "40680d2c",
   "metadata": {},
   "outputs": [],
   "source": [
    "query = \"What is AnyCompany tower and how does the whistleblower scandal hurt the company and its image?\""
   ]
  },
  {
   "cell_type": "code",
   "execution_count": 6,
   "id": "6e17f767c1612d15",
   "metadata": {
    "ExecuteTime": {
     "end_time": "2024-07-02T00:15:47.357874Z",
     "start_time": "2024-07-02T00:15:41.533749Z"
    },
    "tags": []
   },
   "outputs": [
    {
     "name": "stdout",
     "output_type": "stream",
     "text": [
      "The search results do not contain any information about an \"AnyCompany tower\". The results focus on a whistleblower scandal involving a high-ranking executive, Person X, at AnyCompany Financial. According to the information provided, the scandal has had a significant negative impact on the company: The scandal caused AnyCompany's stock price to plummet, resulting in substantial losses for shareholders. It also severely damaged the company's reputation, with many questioning its ability to maintain ethical standards and protect investors. Additionally, the scandal had a negative impact on employee morale, creating a sense of uncertainty and unease among the workforce.\n",
      "\n"
     ]
    }
   ],
   "source": [
    "response_ret = bedrock_agent_runtime_client.retrieve_and_generate(\n",
    "    input={\n",
    "        \"text\": query\n",
    "    },\n",
    "    retrieveAndGenerateConfiguration={\n",
    "        \"type\": \"KNOWLEDGE_BASE\",\n",
    "        \"knowledgeBaseConfiguration\": {\n",
    "            'knowledgeBaseId': kb_id,\n",
    "            \"modelArn\": \"arn:aws:bedrock:{}::foundation-model/{}\".format(region, foundation_model),\n",
    "            \"retrievalConfiguration\": {\n",
    "                \"vectorSearchConfiguration\": {\n",
    "                    \"numberOfResults\":5\n",
    "                } \n",
    "            }\n",
    "        }\n",
    "    }\n",
    ")\n",
    "\n",
    "\n",
    "# generated text output\n",
    "\n",
    "print(response_ret['output']['text'],end='\\n'*2)"
   ]
  },
  {
   "cell_type": "code",
   "execution_count": 7,
   "id": "f619f389",
   "metadata": {},
   "outputs": [
    {
     "name": "stdout",
     "output_type": "stream",
     "text": [
      "# of citations or chunks used to generate the response:  3\n",
      "Chunk 1:  The company's stock price plummeted following the news of the investigation, causing substantial losses for shareholders. Additionally, the company's reputation has taken a major hit, with many questioning its ability to maintain ethical standards and protect investors.      To make matters worse, the scandal has also had a ripple effect on AnyCompany's employees. Morale has taken a hit, with many feeling demoralized and uncertain about the future of the company. Furthermore, the investigation has created a sense of unease and uncertainty, as employees worry about the potential fallout and impact on their jobs.      In response to the scandal, AnyCompany has taken swift action to address the situation. The company has launched an internal investigation and has cooperated fully with the SEC's investigation. Person X has been placed on administrative leave and has since resigned from the company.      AnyCompany has also taken steps to strengthen its corporate governance and ethical standards. The company has implemented new policies and procedures to prevent insider trading and other illegal activities. Additionally, AnyCompany has established a whistleblower hotline, encouraging employees to report any concerns or suspicions of wrongdoing.      The scandal has also highlighted the importance of whistleblowers in uncovering fraud and other illegal activities. Whistleblowers play a critical role in holding corporations accountable and protecting investors.\n",
      "\n",
      "Chunk 1 Location:  {'s3Location': {'uri': 's3://rag-1258/AnyCompany_financial_10K.pdf'}, 'type': 'S3'}\n",
      "\n",
      "Chunk 1 Metadata:  {'x-amz-bedrock-kb-source-uri': 's3://rag-1258/AnyCompany_financial_10K.pdf', 'x-amz-bedrock-kb-document-page-number': 76.0, 'x-amz-bedrock-kb-chunk-id': '1%3A0%3A2UVyz5UBNUy7X7cPvS-m', 'x-amz-bedrock-kb-data-source-id': 'FGLYWVXIR2'}\n",
      "\n",
      "Chunk 2:  She has extensive experience in the financial sector and has been a valuable contributor to the company's digital transformation and technology strategy.The BOD at AnyCompany Financial is committed to the company's success and works closely together to ensure that the company is well- positioned for growth and profitability. The diversity of experience and expertise on the BOD allows for a well-rounded and comprehensive approach to decision-making, which has been a key factor in the company's success.Whistleblower scandal with Person X, and its impact on the company In a shocking turn of events, AnyCompany Financial has recently been embroiled in a whistleblower scandal involving a high-ranking executive, Person X. The scandal has sent shockwaves through the company and the financial industry as a whole, raising serious concerns about corporate ethics and governance.      Person X, who served as AnyCompany's Chief Financial Officer (CFO), was accused of engaging in insider trading and other illegal activities. The allegations were brought to light by an anonymous whistleblower, who provided evidence of Person X's wrongdoing to the Securities and Exchange Commission (SEC).      The impact of the scandal on AnyCompany has been significant. The company's stock price plummeted following the news of the investigation, causing substantial losses for shareholders.\n",
      "\n",
      "Chunk 2 Location:  {'s3Location': {'uri': 's3://rag-1258/AnyCompany_financial_10K.pdf'}, 'type': 'S3'}\n",
      "\n",
      "Chunk 2 Metadata:  {'x-amz-bedrock-kb-source-uri': 's3://rag-1258/AnyCompany_financial_10K.pdf', 'x-amz-bedrock-kb-document-page-number': 74.0, 'x-amz-bedrock-kb-chunk-id': '1%3A0%3A2EVyz5UBNUy7X7cPvS-m', 'x-amz-bedrock-kb-data-source-id': 'FGLYWVXIR2'}\n",
      "\n",
      "Chunk 3:  Additionally, the company's reputation has taken a major hit, with many questioning its ability to maintain ethical standards and protect investors.      To make matters worse, the scandal has also had a ripple effect on AnyCompany's employees. Morale has taken a hit, with many feeling demoralized and uncertain about the future of the company. Furthermore, the investigation has created a sense of unease and uncertainty, as employees worry about the potential fallout and impact on their jobs.      In response to the scandal, AnyCompany has taken swift action to address the situation. The company has launched an internal investigation and has cooperated fully with the SEC's investigation. Person X has been placed on administrative leave and has since resigned from the company.      AnyCompany has also taken steps to strengthen its corporate governance and ethical standards. The company has implemented new policies and procedures to prevent insider trading and other illegal activities. Additionally, AnyCompany has established a whistleblower hotline, encouraging employees to report any concerns or suspicions of wrongdoing.      The scandal has also highlighted the importance of whistleblowers in uncovering fraud and other illegal activities. Whistleblowers play a critical role in holding corporations accountable and protecting investors. In fact, according to a study by the SEC, whistleblowers have helped the agency recover over $1 billion in ill-gotten gains since the program's inception in 2011.\n",
      "\n",
      "Chunk 3 Location:  {'s3Location': {'uri': 's3://rag-1258/AnyCompany_financial_10K.pdf'}, 'type': 'S3'}\n",
      "\n",
      "Chunk 3 Metadata:  {'x-amz-bedrock-kb-source-uri': 's3://rag-1258/AnyCompany_financial_10K.pdf', 'x-amz-bedrock-kb-document-page-number': 44.0, 'x-amz-bedrock-kb-chunk-id': '1%3A0%3AsYFyz5UBu3kDbhYPrM3q', 'x-amz-bedrock-kb-data-source-id': 'FGLYWVXIR2'}\n",
      "\n"
     ]
    }
   ],
   "source": [
    "response_without_qr = response_ret['citations'][0]['retrievedReferences']\n",
    "print(\"# of citations or chunks used to generate the response: \", len(response_without_qr))\n",
    "def citations_rag_print(response_ret):\n",
    "#structure 'retrievalResults': list of contents. Each list has content, location, score, metadata\n",
    "    for num,chunk in enumerate(response_ret,1):\n",
    "        print(f'Chunk {num}: ',chunk['content']['text'],end='\\n'*2)\n",
    "        print(f'Chunk {num} Location: ',chunk['location'],end='\\n'*2)\n",
    "        print(f'Chunk {num} Metadata: ',chunk['metadata'],end='\\n'*2)\n",
    "\n",
    "citations_rag_print(response_without_qr)"
   ]
  },
  {
   "cell_type": "markdown",
   "id": "7cf1f43f-2157-4e25-b7d8-e9d84030efcf",
   "metadata": {},
   "source": [
    "As seen from the above citations, your retrieval with the complex query did not return any chunks relevant to the building, instead focusing on embeddings that was most similar to the whistleblower incident.\n",
    "\n",
    "This may indicate the embedding of the query resulted in some dilution of the semantics of that part of the query."
   ]
  },
  {
   "cell_type": "markdown",
   "id": "661308d67c7b9edf",
   "metadata": {},
   "source": [
    "### Task 3.2.2: Generate results with Query Reformulation\n",
    "\n",
    "In this task, you see how query reformulation can benefit the more aligned context retrieval, which in turn, will enhance the accuracy of response generation."
   ]
  },
  {
   "cell_type": "markdown",
   "id": "ded5dd5a",
   "metadata": {},
   "source": [
    "5. Run the following two code cells to generated results with query reformulation:"
   ]
  },
  {
   "cell_type": "code",
   "execution_count": 8,
   "id": "f1e8587c",
   "metadata": {},
   "outputs": [
    {
     "name": "stdout",
     "output_type": "stream",
     "text": [
      "AnyCompany Tower is the company's iconic headquarters building, designed by renowned architect PersonA. It is a 800,000 square foot office building that houses over 3,500 employees across various departments. The building is equipped with cutting-edge technology and eco-friendly features, and has received LEED Platinum certification for its green initiatives. The whistleblower scandal involving AnyCompany's Chief Financial Officer, Person X, has significantly hurt the company. The scandal caused AnyCompany's stock price to plummet, resulting in substantial losses for shareholders. Additionally, the company's reputation has taken a major hit, with many questioning its ability to maintain ethical standards and protect investors. The scandal has also negatively impacted employee morale, creating a sense of uncertainty and unease. In response, AnyCompany has launched an internal investigation, placed Person X on leave, and taken steps to strengthen its corporate governance and ethical standards.\n",
      "\n"
     ]
    }
   ],
   "source": [
    "response_ret = bedrock_agent_runtime_client.retrieve_and_generate(\n",
    "    input={\n",
    "        \"text\": query\n",
    "    },\n",
    "    retrieveAndGenerateConfiguration={\n",
    "        \"type\": \"KNOWLEDGE_BASE\",\n",
    "        \"knowledgeBaseConfiguration\": {\n",
    "            'knowledgeBaseId': kb_id,\n",
    "            \"modelArn\": \"arn:aws:bedrock:{}::foundation-model/{}\".format(region, foundation_model),\n",
    "            \"retrievalConfiguration\": {\n",
    "                \"vectorSearchConfiguration\": {\n",
    "                    \"numberOfResults\":5\n",
    "                } \n",
    "            },\n",
    "            'orchestrationConfiguration': {\n",
    "                'queryTransformationConfiguration': {\n",
    "                    'type': 'QUERY_DECOMPOSITION'\n",
    "                }\n",
    "            }\n",
    "        }\n",
    "    }\n",
    ")\n",
    "\n",
    "\n",
    "# generated text output\n",
    "\n",
    "print(response_ret['output']['text'],end='\\n'*2)"
   ]
  },
  {
   "cell_type": "markdown",
   "id": "ce888f21-54d0-4e0f-8c54-4d0fc0a27b3b",
   "metadata": {},
   "source": [
    "Let's take a look at the retrieved chunks with query reformulation:"
   ]
  },
  {
   "cell_type": "code",
   "execution_count": 9,
   "id": "4fd6aa0c",
   "metadata": {},
   "outputs": [
    {
     "name": "stdout",
     "output_type": "stream",
     "text": [
      "# of citations or chunks used to generate the response:  2\n",
      "Chunk 1:  AnyCompany Tower boasts 800,000 square feet of office space, housing more than 3,500 employees across various departments, including research and development, marketing, finance, and human resources.      The building is equipped with cutting-edge technology, including a sophisticated building management system that optimizes energy efficiency and indoor air quality. AnyCompany Tower has received several awards for its green initiatives, including LEED Platinum certification, and features a range of eco-friendly amenities, such as solar panels, rainwater harvesting systems, and electric vehicle charging stations.      **Regional Offices: A Network of Strategic Locations**      AnyCompany Financial has a strong presence in major cities across the globe, with 15 regional offices in North America, Europe, Asia, and Oceania. These offices range from 50,000 to 200,000 square feet and accommodate between 250 and 1,000 employees, depending on the location.      Some of our key regional offices include:      1. AnyCompany West, located in San Francisco, California, is a 120,000-square-foot building that serves as our hub for software engineering and product management. This office is home to more than 600 employees, including PersonB, our Vice President of Software Engineering. 2. AnyCompany Europe, situated in London, United Kingdom, is a 150,000-square-foot facility that houses our European sales, marketing, and customer support teams.\n",
      "\n",
      "Chunk 1 Location:  {'s3Location': {'uri': 's3://rag-1258/AnyCompany_financial_10K.pdf'}, 'type': 'S3'}\n",
      "\n",
      "Chunk 1 Metadata:  {'x-amz-bedrock-kb-source-uri': 's3://rag-1258/AnyCompany_financial_10K.pdf', 'x-amz-bedrock-kb-document-page-number': 30.0, 'x-amz-bedrock-kb-chunk-id': '1%3A0%3AloFyz5UBu3kDbhYPrM3p', 'x-amz-bedrock-kb-data-source-id': 'FGLYWVXIR2'}\n",
      "\n",
      "Chunk 2:  This iconic structure, designed by renowned architect PersonA, is a symbol of our commitment to innovation and sustainability. AnyCompany Tower boasts 800,000 square feet of office space, housing more than 3,500 employees across various departments, including research and development, marketing, finance, and human resources.      The building is equipped with cutting-edge technology, including a sophisticated building management system that optimizes energy efficiency and indoor air quality. AnyCompany Tower has received several awards for its green initiatives, including LEED Platinum certification, and features a range of eco-friendly amenities, such as solar panels, rainwater harvesting systems, and electric vehicle charging stations.      **Regional Offices: A Network of Strategic Locations**      AnyCompany Financial has a strong presence in major cities across the globe, with 15 regional offices in North America, Europe, Asia, and Oceania. These offices range from 50,000 to 200,000 square feet and accommodate between 250 and 1,000 employees, depending on the location.      Some of our key regional offices include:      1. AnyCompany West, located in San Francisco, California, is a 120,000-square-foot building that serves as our hub for software engineering and product management. This office is home to more than 600 employees, including PersonB, our Vice President of Software Engineering. 2.\n",
      "\n",
      "Chunk 2 Location:  {'s3Location': {'uri': 's3://rag-1258/AnyCompany_financial_10K.pdf'}, 'type': 'S3'}\n",
      "\n",
      "Chunk 2 Metadata:  {'x-amz-bedrock-kb-source-uri': 's3://rag-1258/AnyCompany_financial_10K.pdf', 'x-amz-bedrock-kb-document-page-number': 90.0, 'x-amz-bedrock-kb-chunk-id': '1%3A0%3A80Vyz5UBNUy7X7cPvS-o', 'x-amz-bedrock-kb-data-source-id': 'FGLYWVXIR2'}\n",
      "\n"
     ]
    }
   ],
   "source": [
    "response_with_qr = response_ret['citations'][0]['retrievedReferences']\n",
    "print(\"# of citations or chunks used to generate the response: \", len(response_with_qr))\n",
    "\n",
    "\n",
    "citations_rag_print(response_with_qr)"
   ]
  },
  {
   "cell_type": "markdown",
   "id": "96e4dcba-d975-4506-a7d9-6e52f6f51019",
   "metadata": {},
   "source": [
    "As you can see, with query reformulation turned on, the chunks that have been retrieved now provide context for the whistlblower scandal and the location of the waterfront property components."
   ]
  },
  {
   "cell_type": "markdown",
   "id": "bbbb1e2d-837e-4f04-8696-6b7f31a337fd",
   "metadata": {},
   "source": [
    "<i aria-hidden=\"true\" class=\"far fa-thumbs-up\" style=\"color:#008296\"></i> **Task complete:** You have completed this notebook. To move to the next part of the lab, do the following:\n",
    "\n",
    "- Close this notebook file.\n",
    "- Return to the lab session and continue with Task 4."
   ]
  }
 ],
 "metadata": {
  "kernelspec": {
   "display_name": "Python (bedrock-2)",
   "language": "python",
   "name": "bedrock-2"
  },
  "language_info": {
   "codemirror_mode": {
    "name": "ipython",
    "version": 3
   },
   "file_extension": ".py",
   "mimetype": "text/x-python",
   "name": "python",
   "nbconvert_exporter": "python",
   "pygments_lexer": "ipython3",
   "version": "3.13.2"
  }
 },
 "nbformat": 4,
 "nbformat_minor": 5
}
