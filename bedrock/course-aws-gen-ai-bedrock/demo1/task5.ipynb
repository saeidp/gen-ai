{
 "cells": [
  {
   "cell_type": "markdown",
   "id": "70c8aeae-2380-4a4f-a2c3-e859494a1a5f",
   "metadata": {},
   "source": [
    "# Task 5: Invoke Bedrock model for code generation\n",
    "\n",
    "In this notebook, you learn how to use a large language model (LLM) to generate code based on a text prompt.\n",
    "\n",
    "The prompt used in this notebook is a zero-shot prompt, as we are not providing any examples of text other than the prompt itself.\n",
    "\n",
    "To demonstrate the code generation capability of models in Amazon Bedrock, you take the use case of code generation. You explore using the Boto3 client to communicate with the Amazon Bedrock API and provide the API with an input consisting of a task, an instruction and an input for the model under the hood to generate an output without providing any additional example. The purpose here is to demonstrate how the powerful LLMs easily understand the task at hand and generate compelling outputs."
   ]
  },
  {
   "cell_type": "markdown",
   "id": "7c9c2971-05ae-4b61-84ee-e2bd67e030c1",
   "metadata": {},
   "source": [
    "\n",
    "## Scenario\n",
    "\n",
    "You are Moe, a Data Analyst, at AnyCompany. The company wants to understand its sales performance for different products over the past year. You have been provided a dataset named sales.csv. The dataset contains the following columns:\n",
    "\n",
    "- Date (YYYY-MM-DD) format\n",
    "- Product_ID (unique identifer for each product)\n",
    "- Price (price at which each product was sold)\n",
    "\n",
    "\n",
    "In this notebook, you learn how to generate code for a given prompt. You use the Meta LLama 3 using the Amazon Bedrock API with Boto3 client."
   ]
  },
  {
   "cell_type": "markdown",
   "id": "4fe0948a-1224-442f-b0b0-14f65c2b7692",
   "metadata": {},
   "source": [
    "## Task 5.1: Environment setup\n",
    "\n",
    "In this task, you set up your environment.\n"
   ]
  },
  {
   "cell_type": "code",
   "execution_count": 1,
   "id": "a1433082-62f3-48da-9f90-1449ae2b1cae",
   "metadata": {},
   "outputs": [],
   "source": [
    "#create a service client by name using the default session.\n",
    "import json\n",
    "import os\n",
    "import sys\n",
    "\n",
    "import boto3\n",
    "\n",
    "module_path = \"..\"\n",
    "sys.path.append(os.path.abspath(module_path))\n",
    "bedrock_client = boto3.client('bedrock-runtime')\n"
   ]
  },
  {
   "cell_type": "markdown",
   "id": "d9c58475-2f11-4f41-9306-c963de3108ec",
   "metadata": {},
   "source": [
    "In this task, you prepare an input for the Amazon Bedrock service to generate python program for your use-case.\n"
   ]
  },
  {
   "cell_type": "markdown",
   "id": "d6c28acb-111d-4d2c-86c4-2e8e7ce32f62",
   "metadata": {},
   "source": [
    "#### Lab setup - create sample sales.csv data for this lab.\n",
    "\n"
   ]
  },
  {
   "cell_type": "code",
   "execution_count": 3,
   "id": "bcd35759-c173-4195-b737-b301155c55a0",
   "metadata": {},
   "outputs": [
    {
     "name": "stdout",
     "output_type": "stream",
     "text": [
      "sales.csv has been created!\n"
     ]
    }
   ],
   "source": [
    "# create sales.csv file\n",
    "import csv\n",
    "\n",
    "data = [\n",
    "    [\"date\", \"product_id\", \"price\", \"units_sold\"],\n",
    "    [\"2023-01-01\", \"P001\", 50, 20],\n",
    "    [\"2023-01-02\", \"P002\", 60, 15],\n",
    "    [\"2023-01-03\", \"P001\", 50, 18],\n",
    "    [\"2023-01-04\", \"P003\", 70, 30],\n",
    "    [\"2023-01-05\", \"P001\", 50, 25],\n",
    "    [\"2023-01-06\", \"P002\", 60, 22],\n",
    "    [\"2023-01-07\", \"P003\", 70, 24],\n",
    "    [\"2023-01-08\", \"P001\", 50, 28],\n",
    "    [\"2023-01-09\", \"P002\", 60, 17],\n",
    "    [\"2023-01-10\", \"P003\", 70, 29],\n",
    "    [\"2023-02-11\", \"P001\", 50, 23],\n",
    "    [\"2023-02-12\", \"P002\", 60, 19],\n",
    "    [\"2023-02-13\", \"P001\", 50, 21],\n",
    "    [\"2023-02-14\", \"P003\", 70, 31],\n",
    "    [\"2023-03-15\", \"P001\", 50, 26],\n",
    "    [\"2023-03-16\", \"P002\", 60, 20],\n",
    "    [\"2023-03-17\", \"P003\", 70, 33],\n",
    "    [\"2023-04-18\", \"P001\", 50, 27],\n",
    "    [\"2023-04-19\", \"P002\", 60, 18],\n",
    "    [\"2023-04-20\", \"P003\", 70, 32],\n",
    "    [\"2023-04-21\", \"P001\", 50, 22],\n",
    "    [\"2023-04-22\", \"P002\", 60, 16],\n",
    "    [\"2023-04-23\", \"P003\", 70, 34],\n",
    "    [\"2023-05-24\", \"P001\", 50, 24],\n",
    "    [\"2023-05-25\", \"P002\", 60, 21]\n",
    "]\n",
    "\n",
    "# Write data to sales.csv\n",
    "with open('sales.csv', 'w', newline='') as csvfile:\n",
    "    writer = csv.writer(csvfile)\n",
    "    writer.writerows(data)\n",
    "\n",
    "print(\"sales.csv has been created!\")"
   ]
  },
  {
   "cell_type": "markdown",
   "id": "917585ef-e41b-4a95-bb71-df13800a9099",
   "metadata": {},
   "source": [
    "## Task 5.3: Analyzing sales with Amazon Bedrock generated Python program"
   ]
  },
  {
   "cell_type": "code",
   "execution_count": 4,
   "id": "3c54f061-9238-442b-85d2-079c91051dc1",
   "metadata": {},
   "outputs": [],
   "source": [
    "# define prompt template\n",
    "from langchain_core.prompts import PromptTemplate\n",
    "\n",
    "def format_prompt(actor:str, input:str):\n",
    "    match actor:\n",
    "        case \"user\":\n",
    "            prompt_template =  \"\"\"<|begin_of_text|><|start_header_id|>{actor}<|end_header_id|>\\n\\n{input}<|eot_id|><|start_header_id|>assistant<|end_header_id|>\\n\\n\n",
    "\"\"\"\n",
    "            prompt = PromptTemplate.from_template(prompt_template)\n",
    "            return prompt.format(actor=actor,input=input)\n",
    "        case _:\n",
    "            print(\"requested actor >\" + actor + \"< is not supported\")\n",
    "            return \"\"    "
   ]
  },
  {
   "cell_type": "code",
   "execution_count": 5,
   "id": "97b59739-0af6-4eb8-a2c0-b4ca4b293ad5",
   "metadata": {},
   "outputs": [],
   "source": [
    "# Create the prompt\n",
    "# Analyzing sales\n",
    "\n",
    "prompt_data = \"\"\"\n",
    "\n",
    "You have a CSV, sales.csv, with columns:\n",
    "- date (YYYY-MM-DD)\n",
    "- product_id\n",
    "- price\n",
    "- units_sold\n",
    "\n",
    "Create a python program to analyze the sales data from a CSV file. The program should be able to read the data, and determine below:\n",
    "\n",
    "- Total revenue for the year\n",
    "- Total revenue by product \n",
    "- The product with the highest revenue \n",
    "- The date with the highest revenue and the revenue achieved on that date\n",
    "- Visualize monthly sales using a bar chart\n",
    "\n",
    "Ensure the code is syntactically correct, bug-free, optimized, not span multiple lines unnessarily, and prefer to use standard libraries. Return only python code without any surrounding text, explanation or context.\n",
    "\n",
    "\"\"\"\n",
    "prompt=format_prompt(\"user\",prompt_data)"
   ]
  },
  {
   "cell_type": "code",
   "execution_count": 6,
   "id": "e6c4b096-3000-41e7-8d81-e20b32482394",
   "metadata": {},
   "outputs": [
    {
     "name": "stdout",
     "output_type": "stream",
     "text": [
      "<|begin_of_text|><|start_header_id|>user<|end_header_id|>\n",
      "\n",
      "\n",
      "\n",
      "You have a CSV, sales.csv, with columns:\n",
      "- date (YYYY-MM-DD)\n",
      "- product_id\n",
      "- price\n",
      "- units_sold\n",
      "\n",
      "Create a python program to analyze the sales data from a CSV file. The program should be able to read the data, and determine below:\n",
      "\n",
      "- Total revenue for the year\n",
      "- Total revenue by product \n",
      "- The product with the highest revenue \n",
      "- The date with the highest revenue and the revenue achieved on that date\n",
      "- Visualize monthly sales using a bar chart\n",
      "\n",
      "Ensure the code is syntactically correct, bug-free, optimized, not span multiple lines unnessarily, and prefer to use standard libraries. Return only python code without any surrounding text, explanation or context.\n",
      "\n",
      "<|eot_id|><|start_header_id|>assistant<|end_header_id|>\n",
      "\n",
      "\n",
      "\n"
     ]
    }
   ],
   "source": [
    "print(prompt)"
   ]
  },
  {
   "cell_type": "code",
   "execution_count": 15,
   "id": "0a76bcdc-3e84-4b3c-9610-4718ab28b0d7",
   "metadata": {},
   "outputs": [],
   "source": [
    "parameters = {\n",
    "    \"maxTokenCount\":512,\n",
    "    \"stopSequences\":[],\n",
    "    \"temperature\":0,\n",
    "    \"topP\":0.9\n",
    "    }"
   ]
  },
  {
   "cell_type": "markdown",
   "id": "bcc7d15c-a8ed-48ab-9d4f-ba6ce83edeac",
   "metadata": {},
   "source": [
    "## Task 5.4: Invoke the model"
   ]
  },
  {
   "cell_type": "code",
   "execution_count": 17,
   "id": "a5a02b2c-c547-4a68-b73d-2f448b323db1",
   "metadata": {},
   "outputs": [
    {
     "name": "stdout",
     "output_type": "stream",
     "text": [
      "The provided code is a Python program that analyzes sales data from a CSV file. It calculates the total revenue for the year, revenue by product, the product with the highest revenue, the date with the highest revenue, and visualizes monthly sales using a bar chart.\n",
      "\n",
      "```Python\n",
      "import csv\n",
      "\n",
      "# Define the file path\n",
      "file_path = 'sales.csv'\n",
      "\n",
      "# Define the column names\n",
      "column_names = ['date', 'product_id', 'price', 'units_sold']\n",
      "\n",
      "# Create a dictionary to store the sales data\n",
      "sales_data = {}\n",
      "\n",
      "try:\n",
      "    # Open the CSV file\n",
      "    with open(file_path, 'r') as csvfile:\n",
      "        # Create a CSV reader object\n",
      "        csvreader = csv.reader(csvfile)\n",
      "\n",
      "        # Read the header row\n",
      "        header = next(csvreader)\n",
      "\n",
      "        # Iterate over each row in the CSV file\n",
      "        for row in csvreader:\n",
      "            # Extract the date, product ID, price, and units sold from the row\n",
      "            date = row[0]\n",
      "            product_id = row[1]\n",
      "            price = row[2]\n",
      "            units_sold = row[3]\n",
      "\n",
      "            # Add the data to the sales_data dictionary\n",
      "            sales_data[date] = {\n",
      "                'product_id': product_id,\n",
      "                'price': price,\n",
      "                'units_sold': units_sold\n",
      "            }\n",
      "\n",
      "    # Calculate the total revenue for the year\n",
      "    total_revenue = sum(sales_data[date]['price'] for date in sales_data)\n",
      "\n",
      "    # Calculate the revenue by product\n",
      "    revenue_by_product = {}\n",
      "    for product_id, data in sales_data.items():\n",
      "        revenue_by_product[product_id] = sum(data['price'] for data in sales_data[product_id].values())\n",
      "\n",
      "    # Find the product with the highest revenue\n",
      "    highest_revenue_product = max(revenue_by_product, key=revenue_by_product.get)\n",
      "\n",
      "    # Find the date with the highest revenue\n",
      "    highest_revenue_date = max(sales_data, key=sales_data.get)\n",
      "\n",
      "    # Calculate the revenue on the highest revenue date\n",
      "    highest_revenue = sales_data[highest_revenue_date]['price']\n",
      "\n",
      "    # Create a bar chart to visualize monthly sales\n"
     ]
    }
   ],
   "source": [
    "body = json.dumps({\"inputText\": prompt, \"textGenerationConfig\": parameters})\n",
    "modelId = \"amazon.titan-text-express-v1\"  # change this to use a different version from the model provider\n",
    "accept = \"application/json\"\n",
    "contentType = \"application/json\"\n",
    "response = bedrock_client.invoke_model(\n",
    "        body=body, modelId=modelId, accept=accept, contentType=contentType\n",
    "    )\n",
    "response_body = json.loads(response.get(\"body\").read())\n",
    "answer = response_body.get(\"results\")[0].get(\"outputText\")\n",
    "print(answer.strip())\n"
   ]
  },
  {
   "cell_type": "markdown",
   "id": "ad0f8e2a-3455-4301-a7d7-0d77d45572e0",
   "metadata": {},
   "source": [
    "##### <i aria-hidden=\"true\" class=\"far fa-copy\"></i> (Optional) Copy the generated code from the printed output and run the Bedrock generated code in the cell below for validation."
   ]
  },
  {
   "cell_type": "code",
   "execution_count": null,
   "id": "cffae59a-7018-47f6-9b32-76101e8e9ccb",
   "metadata": {},
   "outputs": [],
   "source": []
  },
  {
   "cell_type": "markdown",
   "id": "25beda75-fc59-48dd-b44e-a9c6ea75fbb4",
   "metadata": {},
   "source": [
    "\n",
    "You have now experimented with using `boto3` SDK which provides a vanilla exposure to Amazon Bedrock API. Using this API you generate a python program to analyze and visualize given sales data.\n",
    "\n"
   ]
  },
  {
   "cell_type": "code",
   "execution_count": null,
   "id": "6e7b99e8-a6d2-4ed7-88aa-b6456eb6361c",
   "metadata": {},
   "outputs": [],
   "source": []
  }
 ],
 "metadata": {
  "kernelspec": {
   "display_name": "Python (bedrock)",
   "language": "python",
   "name": "bedrock"
  },
  "language_info": {
   "codemirror_mode": {
    "name": "ipython",
    "version": 3
   },
   "file_extension": ".py",
   "mimetype": "text/x-python",
   "name": "python",
   "nbconvert_exporter": "python",
   "pygments_lexer": "ipython3",
   "version": "3.12.9"
  }
 },
 "nbformat": 4,
 "nbformat_minor": 5
}
