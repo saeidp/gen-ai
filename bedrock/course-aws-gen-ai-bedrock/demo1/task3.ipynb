{
 "cells": [
  {
   "cell_type": "markdown",
   "id": "fabad6d8-bc99-4933-9158-4288dd402028",
   "metadata": {},
   "source": [
    "# Task 3: Use Amazon Bedrock for Question Answering\n",
    "In this notebook, you learn how to use the Bedrock Titan model to provide information responses to queries by sending the request with the full relevant context to the model and expecting the response back, addressing the challenge of having the model return factual answers for questions without needing to prepare and index documents beforehand.\n",
    "\n",
    "This notebook simulates what **Retrieval-Augmented Generation (RAG)** would do, but not actually using RAG. This approach works with short documents or single-ton applications; it might not scale to enterprise-level question answering where large enterprise documents cannot all be fit into the prompt sent to the model.\n",
    "\n",
    "**Question Answering (QA)** is an important task that involves extracting answers to factual queries posed in natural language. Typically, a QA system processes a query against a knowledge base containing structured or unstructured data and generates a response with accurate information. Ensuring high accuracy is key to developing a useful, reliable, and trustworthy question answering system, especially for enterprise use cases."
   ]
  },
  {
   "cell_type": "markdown",
   "id": "e654c163-d320-4414-b761-fbb3db473e83",
   "metadata": {},
   "source": [
    "## Scenario\n",
    "\n",
    "You try modeling a situation at AnyCompany where you ask a question answering model to provide information about changing tires for a specific vehicle model they manufacture. You first query the model using a \"zero shot\" approach to see if it can provide relevant answers based just on its training data.\n",
    "\n",
    "However, you realize the model seems to be \"hallucinating\" more generic answers, as evidenced when you try a fake vehicle model and get similar responses. This implies the need to augment the model's training with Example Company's actual vehicle manuals to give specifics on tires for each model.\n",
    "\n",
    "In this lab, you simulate such a \"Retrieval Augmented Generation\" (RAG) approach without external data. You provide a detailed manual excerpt explaining how to change the tires on the AnyCompany Model Z vehicle. You test if the model can now give a customized, accurate answer leveraging this in-context example content."
   ]
  },
  {
   "cell_type": "markdown",
   "id": "c40cec47-3166-44ba-b0da-1d0a08a68325",
   "metadata": {},
   "source": [
    "## Task 3.1: Environment setup\n",
    "\n",
    "In this task, you set up your environment."
   ]
  },
  {
   "cell_type": "code",
   "execution_count": 2,
   "id": "baeda628-f77b-49dc-94f4-01a11d3b6204",
   "metadata": {},
   "outputs": [],
   "source": [
    "#ignore warnings and create a service client by name using the default session.\n",
    "import json\n",
    "import os\n",
    "import sys\n",
    "import warnings\n",
    "\n",
    "import boto3\n",
    "import botocore\n",
    "\n",
    "warnings.filterwarnings('ignore')\n",
    "module_path = \"..\"\n",
    "sys.path.append(os.path.abspath(module_path))\n",
    "bedrock_client = boto3.client('bedrock-runtime',region_name=\"ap-southeast-2\")\n",
    "\n"
   ]
  },
  {
   "cell_type": "markdown",
   "id": "a6aeaaff-e568-4c52-9517-842c20d341f5",
   "metadata": {},
   "source": [
    "## Task 3.2: Q&A with the knowledge of the model\n",
    "In this section we try to use a model provided by Bedrock service to answer questions based on the knowledge it gained during the training phase."
   ]
  },
  {
   "cell_type": "markdown",
   "id": "d106e900-f40d-44e1-ae27-60d04c0149b5",
   "metadata": {},
   "source": [
    "In this task, you use the invoke_model() method of the Amazon Bedrock client. The mandatory parameters required to use this method are modelId, which represents the Amazon Bedrock model ARN, and body, which is the prompt for your task.\n",
    "\n",
    "The body prompt changes depending on the foundation model provider you select. You walk through this in detail below.\n",
    "\n",
    "```json\n",
    "{\n",
    "   modelId= model_id,\n",
    "   contentType= \"application/json\",\n",
    "   accept= \"application/json\",\n",
    "   body=body\n",
    "}\n",
    "\n",
    "```\n",
    "\n",
    "You try to use models provided by the Bedrock service to answer questions based on the knowledge gained during the training phase."
   ]
  },
  {
   "cell_type": "code",
   "execution_count": 3,
   "id": "defe69b2-551c-4359-8af0-11f1f7d27cb7",
   "metadata": {},
   "outputs": [],
   "source": [
    "prompt_data = \"\"\"You are an helpful assistant. Answer questions in a concise way. If you are unsure about the\n",
    "answer say 'I am unsure'\n",
    "\n",
    "Question: How can I fix a flat tire on my AnyCompany AC8?\n",
    "Answer:\"\"\"\n",
    "parameters = {\n",
    "    \"maxTokenCount\":512,\n",
    "    \"stopSequences\":[],\n",
    "    \"temperature\":0,\n",
    "    \"topP\":0.9\n",
    "    }"
   ]
  },
  {
   "cell_type": "markdown",
   "id": "090b3580-2362-46c4-a5f2-e097a489d48d",
   "metadata": {},
   "source": [
    "## Task 3.3: Invoke the model by passing the JSON body to generate the response"
   ]
  },
  {
   "cell_type": "code",
   "execution_count": 4,
   "id": "c531cb3e-d034-4e7a-87ec-f9e3ba46024e",
   "metadata": {},
   "outputs": [
    {
     "name": "stdout",
     "output_type": "stream",
     "text": [
      "1. Find a safe place to park your car.\n",
      "2. Turn on your hazard lights.\n",
      "3. Remove the hubcap or wheel cover.\n",
      "4. Loosen the lug nuts on the flat tire.\n",
      "5. Use a jack to lift the car until the flat tire is off the ground.\n",
      "6. Remove the lug nuts and the flat tire.\n",
      "7. Put on the spare tire.\n",
      "8. Lower the car back to the ground.\n",
      "9. Tighten the lug nuts on the spare tire.\n",
      "10. Lower the car back to the ground.\n",
      "11. Remove the jack and tools.\n",
      "12. Put the hubcap or wheel cover back on.\n",
      "13. Check the tire pressure in the spare tire.\n",
      "14. Drive to a tire shop to have the flat tire repaired or replaced.\n"
     ]
    }
   ],
   "source": [
    "#model configuration\n",
    "body = json.dumps({\"inputText\": prompt_data, \"textGenerationConfig\": parameters})\n",
    "modelId = \"amazon.titan-text-express-v1\"  # change this to use a different version from the model provider\n",
    "accept = \"application/json\"\n",
    "contentType = \"application/json\"\n",
    "try:\n",
    "    \n",
    "    response = bedrock_client.invoke_model(\n",
    "        body=body, modelId=modelId, accept=accept, contentType=contentType\n",
    "    )\n",
    "    response_body = json.loads(response.get(\"body\").read())\n",
    "    answer = response_body.get(\"results\")[0].get(\"outputText\")\n",
    "    print(answer.strip())\n",
    "\n",
    "except botocore.exceptions.ClientError as error:\n",
    "    if  error.response['Error']['Code'] == 'AccessDeniedException':\n",
    "        print(f\"\\x1b[41m{error.response['Error']['Message']}\\\n",
    "        \\nTo troubeshoot this issue please refer to the following resources.\\\n",
    "         \\nhttps://docs.aws.amazon.com/IAM/latest/UserGuide/troubleshoot_access-denied.html\\\n",
    "         \\nhttps://docs.aws.amazon.com/bedrock/latest/userguide/security-iam.html\\x1b[0m\\n\")      \n",
    "        class StopExecution(ValueError):\n",
    "            def _render_traceback_(self):\n",
    "                pass\n",
    "        raise StopExecution        \n",
    "    else:\n",
    "        raise error"
   ]
  },
  {
   "cell_type": "markdown",
   "id": "51335509-a2fe-45ca-9409-dbcc69583df1",
   "metadata": {},
   "source": [
    "\n",
    "The model gives you an answer outlining the process of changing the car's flat tire, but the same explanation could be valid for any car. Unfortunately, this is not the right answer for an AnyCompany AC8, which does not have a spare tire. This occurs because the model has been trained on data containing instructions about changing tires on cars.\n",
    "\n",
    "Another example of this issue can be seen by trying to ask the same question for a completely fake car brand and model, say an Amazon Tirana."
   ]
  },
  {
   "cell_type": "code",
   "execution_count": 5,
   "id": "262a4bf3-b538-4d26-bbcd-5073abb09dee",
   "metadata": {},
   "outputs": [
    {
     "name": "stdout",
     "output_type": "stream",
     "text": [
      "1. When you have a flat tire, you should move your car to a safe place.\n",
      "2. You should put the parking brake on and turn on the hazard lights.\n",
      "3. You should remove the hubcap or wheel cover.\n",
      "4. You should loosen the lug nuts with a lug wrench.\n",
      "5. You should raise the vehicle with a jack.\n",
      "6. You should remove the lug nuts and the flat tire.\n",
      "7. You should install the spare tire.\n",
      "8. You should tighten the lug nuts with a lug wrench.\n",
      "9. You should lower the vehicle with a jack.\n",
      "10. You should tighten the lug nuts with a lug wrench.\n",
      "11. You should remove the jack and the spare tire.\n",
      "12. You should put the hubcap or wheel cover back on.\n",
      "13. You should lower the vehicle to the ground.\n",
      "14. You should tighten the lug nuts with a lug wrench.\n",
      "15. You should check the tire pressure.\n",
      "16. You should put the lug wrench and the jack back in the trunk.\n",
      "17. You should drive to a tire shop to have the flat tire repaired or replaced.\n"
     ]
    }
   ],
   "source": [
    "prompt_data = \"How can I fix a flat tire on my Amazon Tirana?\"\n",
    "body = json.dumps({\"inputText\": prompt_data, \n",
    "                   \"textGenerationConfig\": parameters})\n",
    "modelId = \"amazon.titan-text-express-v1\"  # change this to use a different version from the model provider\n",
    "accept = \"application/json\"\n",
    "contentType = \"application/json\"\n",
    "\n",
    "response = bedrock_client.invoke_model(\n",
    "    body=body, modelId=modelId, accept=accept, contentType=contentType\n",
    ")\n",
    "response_body = json.loads(response.get(\"body\").read())\n",
    "answer = response_body.get(\"results\")[0].get(\"outputText\")\n",
    "print(answer.strip())"
   ]
  },
  {
   "cell_type": "markdown",
   "id": "1ef46626-cb57-44f9-8db2-031fb15aebb3",
   "metadata": {},
   "source": [
    "Given the prompt question, the model is unable to provide a realistic answer.\n",
    "\n",
    "To fix this issue and have the model provide answers based on the specific instructions valid for your car model, you can augment the model's knowledge on-the-fly by providing an additional knowledge base as part of the prompt.\n",
    "\n",
    "Let's see how you can use this to improve your application.\n",
    "\n",
    "Assume the following is an excerpt from the manual of the AnyCompany AC8 (in reality, it is not the real manual, but treat it as such). This document is also conveniently short enough to fit entirely in the Titan Large context window.\n",
    "\n",
    "```plain\n",
    "Tires and Tire Pressure:\n",
    "\n",
    "Tires are made of black rubber and are mounted on the wheels of your vehicle. They provide the necessary grip for driving, cornering, and braking. Two important factors to consider are tire pressure and tire wear, as they can affect the performance and handling of your car.\n",
    "\n",
    "Where to Find Recommended Tire Pressure:\n",
    "\n",
    "You can find the recommended tire pressure specifications on the inflation label located on the driver's side B-pillar of your vehicle. Alternatively, you can refer to your vehicle's manual for this information. The recommended tire pressure may vary depending on the speed and the number of occupants or maximum load in the vehicle.\n",
    "\n",
    "Reinflating the Tires:\n",
    "\n",
    "When checking tire pressure, it is important to do so when the tires are cold. This means allowing the vehicle to sit for at least three hours to ensure the tires are at the same temperature as the ambient temperature.\n",
    "\n",
    "To reinflate the tires:\n",
    "\n",
    "    Check the recommended tire pressure for your vehicle.\n",
    "    Follow the instructions provided on the air pump and inflate the tire(s) to the correct pressure.\n",
    "    In the center display of your vehicle, open the \"Car status\" app.\n",
    "    Navigate to the \"Tire pressure\" tab.\n",
    "    Press the \"Calibrate pressure\" option and confirm the action.\n",
    "    Drive the car for a few minutes at a speed above 30 km/h to calibrate the tire pressure.\n",
    "\n",
    "Note: In some cases, it may be necessary to drive for more than 15 minutes to clear any warning symbols or messages related to tire pressure. If the warnings persist, allow the tires to cool down and repeat the above steps.\n",
    "\n",
    "Flat Tire:\n",
    "\n",
    "If you encounter a flat tire while driving, you can temporarily seal the puncture and reinflate the tire using a tire mobility kit. This kit is typically stored under the lining of the luggage area in your vehicle.\n",
    "\n",
    "Instructions for Using the Tire Mobility Kit:\n",
    "\n",
    "    Open the tailgate or trunk of your vehicle.\n",
    "    Lift up the lining of the luggage area to access the tire mobility kit.\n",
    "    Follow the instructions provided with the tire mobility kit to seal the puncture in the tire.\n",
    "    After using the kit, make sure to securely put it back in its original location.\n",
    "    Contact Rivesla or an appropriate service for assistance with disposing of and replacing the used sealant bottle.\n",
    "\n",
    "Please note that the tire mobility kit is a temporary solution and is designed to allow you to drive for a maximum of 10 minutes or 8 km (whichever comes first) at a maximum speed of 80 km/h. It is advisable to replace the punctured tire or have it repaired by a professional as soon as possible.\n",
    "```"
   ]
  },
  {
   "cell_type": "code",
   "execution_count": 6,
   "id": "7d3b132e-45f4-4649-b936-da4249d26a47",
   "metadata": {},
   "outputs": [],
   "source": [
    "context = \"\"\"Tires and tire pressure:\n",
    "\n",
    "Tires are made of black rubber and are mounted on the wheels of your vehicle. They provide the necessary grip for driving, cornering, and braking. Two important factors to consider are tire pressure and tire wear, as they can affect the performance and handling of your car.\n",
    "\n",
    "Where to find recommended tire pressure:\n",
    "\n",
    "You can find the recommended tire pressure specifications on the inflation label located on the driver's side B-pillar of your vehicle. Alternatively, you can refer to your vehicle's manual for this information. The recommended tire pressure may vary depending on the speed and the number of occupants or maximum load in the vehicle.\n",
    "\n",
    "Reinflating the tires:\n",
    "\n",
    "When checking tire pressure, it is important to do so when the tires are cold. This means allowing the vehicle to sit for at least three hours to ensure the tires are at the same temperature as the ambient temperature.\n",
    "\n",
    "To reinflate the tires:\n",
    "\n",
    "    Check the recommended tire pressure for your vehicle.\n",
    "    Follow the instructions provided on the air pump and inflate the tire(s) to the correct pressure.\n",
    "    In the center display of your vehicle, open the \"Car status\" app.\n",
    "    Navigate to the \"Tire pressure\" tab.\n",
    "    Press the \"Calibrate pressure\" option and confirm the action.\n",
    "    Drive the car for a few minutes at a speed above 30 km/h to calibrate the tire pressure.\n",
    "\n",
    "Note: In some cases, it may be necessary to drive for more than 15 minutes to clear any warning symbols or messages related to tire pressure. If the warnings persist, allow the tires to cool down and repeat the above steps.\n",
    "\n",
    "Flat Tire:\n",
    "\n",
    "If you encounter a flat tire while driving, you can temporarily seal the puncture and reinflate the tire using a tire mobility kit. This kit is typically stored under the lining of the luggage area in your vehicle.\n",
    "\n",
    "Instructions for using the tire mobility kit:\n",
    "\n",
    "    Open the tailgate or trunk of your vehicle.\n",
    "    Lift up the lining of the luggage area to access the tire mobility kit.\n",
    "    Follow the instructions provided with the tire mobility kit to seal the puncture in the tire.\n",
    "    After using the kit, make sure to securely put it back in its original location.\n",
    "    Contact AnyCompany or an appropriate service for assistance with disposing of and replacing the used sealant bottle.\n",
    "\n",
    "Please note that the tire mobility kit is a temporary solution and is designed to allow you to drive for a maximum of 10 minutes or 8 km (whichever comes first) at a maximum speed of 80 km/h. It is advisable to replace the punctured tire or have it repaired by a professional as soon as possible.\"\"\""
   ]
  },
  {
   "cell_type": "markdown",
   "id": "b12687d8-e63f-417f-bb09-9520bdf44a72",
   "metadata": {},
   "source": [
    "##### Now, pass the whole excerpt to the model together with the question."
   ]
  },
  {
   "cell_type": "code",
   "execution_count": 7,
   "id": "19ffc0de-d105-4c5c-bb8e-c90848ac9ed5",
   "metadata": {},
   "outputs": [],
   "source": [
    "question = \"How can I fix a flat tire on my AnyCompany AC8?\"\n",
    "prompt_data = f\"\"\"Answer the question based only on the information provided between ## and give step by step guide.\n",
    "#\n",
    "{context}\n",
    "#\n",
    "\n",
    "Question: {question}\n",
    "Answer:\"\"\""
   ]
  },
  {
   "cell_type": "markdown",
   "id": "77cc0bad-a579-4d64-8b06-fd4d67539572",
   "metadata": {},
   "source": [
    "### Task 3.4: Invoke the model via boto3 to generate the response"
   ]
  },
  {
   "cell_type": "code",
   "execution_count": 8,
   "id": "53ca3a23-0555-4094-a612-e626b2a8c64d",
   "metadata": {},
   "outputs": [
    {
     "name": "stdout",
     "output_type": "stream",
     "text": [
      "To fix a flat tire on your AnyCompany AC8, you can use the tire mobility kit provided in the luggage area. Here are the steps to follow:\n",
      "\n",
      "1. Open the tailgate or trunk of your vehicle.\n",
      "2. Lift up the lining of the luggage area to access the tire mobility kit.\n",
      "3. Follow the instructions provided with the tire mobility kit to seal the puncture in the tire.\n",
      "4. After using the kit, make sure to securely put it back in its original location.\n",
      "5. Contact AnyCompany or an appropriate service for assistance with disposing of and replacing the used sealant bottle.\n",
      "\n",
      "Please note that the tire mobility kit is a temporary solution and is designed to allow you to drive for a maximum of 10 minutes or 8 km (whichever comes first) at a maximum speed of 80 km/h. It is advisable to replace the punctured tire or have it repaired by a professional as soon as possible.\n"
     ]
    }
   ],
   "source": [
    "body = json.dumps({\"inputText\": prompt_data, \"textGenerationConfig\": parameters})\n",
    "modelId = \"amazon.titan-text-express-v1\"  # change this to use a different version from the model provider\n",
    "accept = \"application/json\"\n",
    "contentType = \"application/json\"\n",
    "\n",
    "response = bedrock_client.invoke_model(\n",
    "    body=body, modelId=modelId, accept=accept, contentType=contentType\n",
    ")\n",
    "response_body = json.loads(response.get(\"body\").read())\n",
    "answer = response_body.get(\"results\")[0].get(\"outputText\")\n",
    "print(answer.strip())"
   ]
  },
  {
   "cell_type": "markdown",
   "id": "493683e2-8d6f-40d4-b2ad-f43b4a78ed51",
   "metadata": {},
   "source": [
    "Since the model takes a while to understand the context and generate a relevant answer for you, this might lead to a poor user experience as they have to wait for a response for some seconds.\n",
    "\n",
    "Bedrock also supports streaming capability where the service generates output as the model generates tokens. Here is an example of how you can implement that."
   ]
  },
  {
   "cell_type": "code",
   "execution_count": 9,
   "id": "4f37387f-3b09-49d4-bfde-a5293cbd1794",
   "metadata": {},
   "outputs": [],
   "source": [
    "from IPython.display import display_markdown,Markdown,clear_output"
   ]
  },
  {
   "cell_type": "code",
   "execution_count": 10,
   "id": "ec5e3903-1fa7-4555-a42d-9ec38b687e80",
   "metadata": {},
   "outputs": [
    {
     "data": {
      "text/markdown": [
       "\n",
       "To fix a flat tire on your AnyCompany AC8, you can use the tire mobility kit provided in the luggage area. Here are the steps to follow:\n",
       "\n",
       "1. Open the tailgate or trunk of your vehicle.\n",
       "2. Lift up the lining of the luggage area to access the tire mobility kit.\n",
       "3. Follow the instructions provided with the tire mobility kit to seal the puncture in the tire.\n",
       "4. After using the kit, make sure to securely put it back in its original location.\n",
       "5. Contact AnyCompany or an appropriate service for assistance with disposing of and replacing the used sealant bottle.\n",
       "\n",
       "Please note that the tire mobility kit is a temporary solution and is designed to allow you to drive for a maximum of 10 minutes or 8 km (whichever comes first) at a maximum speed of 80 km/h. It is advisable to replace the punctured tire or have it repaired by a professional as soon as possible."
      ]
     },
     "metadata": {},
     "output_type": "display_data"
    }
   ],
   "source": [
    "# response with stream\n",
    "response = bedrock_client.invoke_model_with_response_stream(body=body, modelId=modelId, accept=accept, contentType=contentType)\n",
    "stream = response.get('body')\n",
    "output = []\n",
    "i = 1\n",
    "if stream:\n",
    "    for event in stream:\n",
    "        chunk = event.get('chunk')\n",
    "        if chunk:\n",
    "            chunk_obj = json.loads(chunk.get('bytes').decode())\n",
    "            text = chunk_obj['outputText']\n",
    "            clear_output(wait=True)\n",
    "            output.append(text)\n",
    "            display_markdown(Markdown(''.join(output)))\n",
    "            i+=1"
   ]
  },
  {
   "cell_type": "markdown",
   "id": "07361b85-025e-438e-9e72-4aeffdd454d8",
   "metadata": {},
   "source": [
    "The response provides summarized, step-by-step instructions on how to change the tires. \n",
    "\n",
    "You have now learned how you can leverage the Retrieval Augmented Generation (RAG) or the Augmentation process to generate a curated response tailored to the specific context and information provided."
   ]
  },
  {
   "cell_type": "markdown",
   "id": "317d6c02-0f94-4e8e-907d-469325d23990",
   "metadata": {},
   "source": [
    "### Try it yourself\n",
    "- Change the prompts to your specific usecase and evaluate the output of different models.\n",
    "- Play with the token length to understand the latency and responsiveness of the service.\n",
    "- Apply different prompt engineering principles to get better outputs.\n",
    "\n",
    "### Cleanup\n",
    "\n",
    "You have completed this notebook. To move to the next part of the lab, do the following:\n",
    "\n",
    "- Close this notebook file and continue with **Task 4**."
   ]
  },
  {
   "cell_type": "code",
   "execution_count": null,
   "id": "c6823abf-c3f2-4b70-b42c-73ac949ff062",
   "metadata": {},
   "outputs": [],
   "source": []
  }
 ],
 "metadata": {
  "kernelspec": {
   "display_name": "Python (bedrock)",
   "language": "python",
   "name": "bedrock"
  },
  "language_info": {
   "codemirror_mode": {
    "name": "ipython",
    "version": 3
   },
   "file_extension": ".py",
   "mimetype": "text/x-python",
   "name": "python",
   "nbconvert_exporter": "python",
   "pygments_lexer": "ipython3",
   "version": "3.12.9"
  }
 },
 "nbformat": 4,
 "nbformat_minor": 5
}
