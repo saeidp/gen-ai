{
 "cells": [
  {
   "cell_type": "markdown",
   "id": "07387291-8377-4d51-9513-b3fa3f52229a",
   "metadata": {},
   "source": [
    "# Task 4: Conversational Interface - Chat with Llama 3 and Titan Premier LLMs\n",
    "\n",
    "In this notebook, you build a chatbot using the llama3-8b-instruct and titan-text-premier Foundation Models (FMs) in Amazon Bedrock.\n",
    "\n",
    "Conversational interfaces such as chatbots and virtual assistants can enhance the user experience for your customers. Chatbots use natural language processing (NLP) and machine learning algorithms to understand and respond to user queries. You can use chatbots in a variety of applications, such as customer service, sales, and e-commerce, to provide quick and efficient responses to users. Users can access them through various channels such as websites, social media platforms, and messaging apps.\n",
    "\n",
    "- **Chatbot (Basic)**, Zero Shot chatbot with a FM model\n",
    "- **Chatbot using prompt**, template(LangChain) - Chatbot with some context provided in the prompt template\n",
    "- **Chatbot with persona**, Chatbot with defined roles. i.e. Career Coach and Human interactions\n",
    "- **Contextual-aware chatbot**, Passing in context through an external file by generating embeddings.\n",
    "\n",
    "## LangChain framework for building Chatbot with Amazon Bedrock\n",
    "\n",
    "In conversational interfaces such as chatbots, remembering previous interactions becomes highly important, both at a short-term and long-term level.\n",
    "\n",
    "The LangChain framework provides memory components in two forms. First, LangChain provides helper utilities for managing and manipulating previous chat messages. These are designed to be modular. Secondly, LangChain provides easy ways to incorporate these utilities into chains, allowing you to easily define and interact with different types of abstractions, which make powerful chatbots easy for you to build.\n",
    "\n",
    "## Building a Chatbot with Context - Key Elements\n",
    "\n",
    "The first process in building a context-aware chatbot is to generate embeddings for the context. Typically, you have an ingestion process which runs through your embedding model and generates the embeddings, which will then be stored in a vector store. In this notebook, you use the Titan Embeddings model for this. The second process is user request orchestration, interaction, invoking, and returning the results. This involves orchestrating the user request, interacting with the necessary models/components to gather information, invoking the chatbot to formulate a response, and then returning the chatbot's response back to the user."
   ]
  },
  {
   "cell_type": "markdown",
   "id": "1af9c71d-f38f-4b1f-95c7-6d450311add3",
   "metadata": {},
   "source": [
    "## Task 4.1: Environment setup\n",
    "\n",
    "In this task, you set up your environment."
   ]
  },
  {
   "cell_type": "code",
   "execution_count": 1,
   "id": "cf161e2e-f460-4c32-96f7-bd4019914631",
   "metadata": {},
   "outputs": [],
   "source": [
    "#ignore warnings and create a service client by name using the default session.\n",
    "import json\n",
    "import os\n",
    "import sys\n",
    "import warnings\n",
    "\n",
    "import boto3\n",
    "\n",
    "warnings.filterwarnings('ignore')\n",
    "module_path = \"..\"\n",
    "sys.path.append(os.path.abspath(module_path))\n",
    "bedrock_client = boto3.client('bedrock-runtime')\n"
   ]
  },
  {
   "cell_type": "code",
   "execution_count": 45,
   "id": "bf74dfa0-8953-442a-93aa-b36882d60c24",
   "metadata": {},
   "outputs": [],
   "source": [
    "# format instructions into a conversational prompt\n",
    "from typing import Dict, List\n",
    "\n",
    "def format_instructions(instructions: List[Dict[str, str]]) -> List[str]:\n",
    "    \"\"\"Format instructions where conversation roles must alternate system/user/assistant/user/assistant/...\"\"\"\n",
    "    prompt: List[str] = []\n",
    "    for instruction in instructions:\n",
    "        if instruction[\"role\"] == \"system\":\n",
    "            prompt.extend([\"<|begin_of_text|><|start_header_id|>system<|end_header_id|>\\n\", (instruction[\"content\"]).strip(), \" <|eot_id|>\"])\n",
    "        elif instruction[\"role\"] == \"user\":\n",
    "            prompt.extend([\"<|start_header_id|>user<|end_header_id|>\\n\", (instruction[\"content\"]).strip(), \" <|eot_id|>\"])\n",
    "        else:\n",
    "            raise ValueError(f\"Invalid role: {instruction['role']}. Role must be either 'user' or 'system'.\")\n",
    "    prompt.extend([\"<|start_header_id|>assistant<|end_header_id|>\\n\"])\n",
    "    return \"\".join(prompt)"
   ]
  },
  {
   "cell_type": "code",
   "execution_count": 46,
   "id": "67852f9e-b029-44d6-8aa2-1cd18cae2fe1",
   "metadata": {},
   "outputs": [
    {
     "name": "stdout",
     "output_type": "stream",
     "text": [
      "<|begin_of_text|><|start_header_id|>system<|end_header_id|>\n",
      "You are an AI assistant. <|eot_id|><|start_header_id|>user<|end_header_id|>\n",
      "What is the capital of France? <|eot_id|><|start_header_id|>assistant<|end_header_id|>\n",
      "\n"
     ]
    }
   ],
   "source": [
    "# example of formatting. <|end_header_id|> is the end of message and is understandable if model is trained on that\n",
    "instructions = [\n",
    "    {\"role\": \"system\", \"content\": \"You are an AI assistant.\"},\n",
    "    {\"role\": \"user\", \"content\": \"What is the capital of France?\"},\n",
    "]\n",
    "print(format_instructions(instructions))"
   ]
  },
  {
   "cell_type": "markdown",
   "id": "08a69823-af76-41ce-96c0-5c2c1f4f3ed6",
   "metadata": {},
   "source": [
    "## Task 4.2: Using chat history from LangChain to start the conversation\n",
    "\n",
    "In this task, you enable the chatbot to carry conversational context across multiple interactions with users. Having a conversational memory is crucial for Chatbots to hold meaningful, coherent dialogues over time.\n",
    "\n",
    "You implement conversational memory capabilities by building on top of LangChain's InMemoryChatMessageHistory class. This object stores the conversations between the user and the chatbot, and the history is available the chatbot agent so that it can leverage the context from a previous conversation.\n",
    "\n",
    "<i aria-hidden=\"true\" class=\"fas fa-sticky-note\" style=\"color:#563377\"></i> **Note:** The model outputs are non-deterministic."
   ]
  },
  {
   "cell_type": "code",
   "execution_count": 53,
   "id": "2a9839f7-6e96-4411-9e5c-cf151e4fec40",
   "metadata": {},
   "outputs": [
    {
     "name": "stdout",
     "output_type": "stream",
     "text": [
      "Human: how are you?\n",
      "AI: I'm doing well, thanks for asking! As an AI language model, I don't have physical feelings or emotions, but I'm functioning properly and ready to assist you with any questions or tasks you may have. How can I help you today?\n"
     ]
    }
   ],
   "source": [
    "from langchain_core.chat_history import InMemoryChatMessageHistory\n",
    "from langchain_core.output_parsers import StrOutputParser\n",
    "from langchain_core.prompts import ChatPromptTemplate\n",
    "from langchain_core.runnables.history import RunnableWithMessageHistory\n",
    "from langchain_aws import ChatBedrock\n",
    "\n",
    "chat_model=ChatBedrock(\n",
    "    # model_id=\"meta.llama3-8b-instruct-v1:0\" , \n",
    "    model_id=\"anthropic.claude-3-haiku-20240307-v1:0\",\n",
    "    client=bedrock_client)\n",
    "\n",
    "prompt = ChatPromptTemplate.from_messages(\n",
    "    [\n",
    "        (\"system\", \"Answer the following questions as best you can.\"),\n",
    "        (\"placeholder\", \"{chat_history}\"),\n",
    "        (\"human\", \"{input}\"),\n",
    "    ]\n",
    ")\n",
    "\n",
    "history = InMemoryChatMessageHistory()\n",
    "\n",
    "\n",
    "def get_history():\n",
    "    return history\n",
    "\n",
    "\n",
    "chain = prompt | chat_model | StrOutputParser()\n",
    "\n",
    "wrapped_chain = RunnableWithMessageHistory(\n",
    "    chain,\n",
    "    get_history,\n",
    "    history_messages_key=\"chat_history\",\n",
    ")\n",
    "query=\"how are you?\"\n",
    "response=wrapped_chain.invoke({\"input\": query})\n",
    "# Printing history to see the history being built out. \n",
    "print(history)\n",
    "# For the rest of the conversation, the output will only include response"
   ]
  },
  {
   "cell_type": "markdown",
   "id": "6ea8576e-9964-4647-89e7-095de1f4f6ff",
   "metadata": {},
   "source": [
    "### New Questions\n",
    "\n",
    "The model has responded with an initial message. Now, you ask it a few questions."
   ]
  },
  {
   "cell_type": "code",
   "execution_count": 54,
   "id": "4b880e6d-5967-4c44-a6a3-dc3b818323d0",
   "metadata": {},
   "outputs": [
    {
     "name": "stdout",
     "output_type": "stream",
     "text": [
      "Here are some tips to help you start a new garden:\n",
      "\n",
      "1. Plan your garden: Decide what type of garden you want to create (vegetable, flower, etc.), consider the available space, light conditions, and your climate. This will help you choose the right plants.\n",
      "\n",
      "2. Prepare the soil: Loosen the soil to a depth of 6-8 inches and add organic matter like compost or well-rotted manure to improve soil structure and fertility.\n",
      "\n",
      "3. Choose the right plants: Select plants that are well-suited to your climate and growing conditions. Consider factors like sunlight, soil type, and water needs.\n",
      "\n",
      "4. Arrange your plants: Lay out your plants in a way that is visually appealing and allows for proper growth and spacing.\n",
      "\n",
      "5. Water and mulch: Water your plants regularly, especially during dry spells. Apply a 2-4 inch layer of mulch around your plants to retain moisture and suppress weeds.\n",
      "\n",
      "6. Fertilize: Use a balanced, slow-release fertilizer to provide essential nutrients for your plants.\n",
      "\n",
      "7. Weed and maintain: Stay on top of weeding to prevent them from competing with your plants for resources. Regularly remove dead or damaged foliage.\n",
      "\n",
      "8. Start small: Don't try to do too much at once, especially if you're a beginner. Start with a small, manageable space and gradually expand your garden over time.\n",
      "\n",
      "Remember, gardening is a learning process, so don't be afraid to experiment and try new things. Enjoy the process and the rewards of your homegrown produce or beautiful flowers!\n"
     ]
    }
   ],
   "source": [
    "#new questions\n",
    "instructions = [{\"role\": \"user\", \"content\": \"Give me a few tips on how to start a new garden.\"}]\n",
    "response=wrapped_chain.invoke({\"input\": format_instructions(instructions)})  # I tested without the format and it worked as well but history was spoiled\n",
    "print(response)\n"
   ]
  },
  {
   "cell_type": "code",
   "execution_count": 55,
   "id": "3a92b500-2742-4f89-8b44-c623777c9c2a",
   "metadata": {},
   "outputs": [
    {
     "name": "stdout",
     "output_type": "stream",
     "text": [
      "Human: how are you?\n",
      "AI: I'm doing well, thanks for asking! As an AI language model, I don't have physical feelings or emotions, but I'm functioning properly and ready to assist you with any questions or tasks you may have. How can I help you today?\n",
      "Human: <|start_header_id|>user<|end_header_id|>\n",
      "Give me a few tips on how to start a new garden. <|eot_id|><|start_header_id|>assistant<|end_header_id|>\n",
      "\n",
      "AI: Here are some tips to help you start a new garden:\n",
      "\n",
      "1. Plan your garden: Decide what type of garden you want to create (vegetable, flower, etc.), consider the available space, light conditions, and your climate. This will help you choose the right plants.\n",
      "\n",
      "2. Prepare the soil: Loosen the soil to a depth of 6-8 inches and add organic matter like compost or well-rotted manure to improve soil structure and fertility.\n",
      "\n",
      "3. Choose the right plants: Select plants that are well-suited to your climate and growing conditions. Consider factors like sunlight, soil type, and water needs.\n",
      "\n",
      "4. Arrange your plants: Lay out your plants in a way that is visually appealing and allows for proper growth and spacing.\n",
      "\n",
      "5. Water and mulch: Water your plants regularly, especially during dry spells. Apply a 2-4 inch layer of mulch around your plants to retain moisture and suppress weeds.\n",
      "\n",
      "6. Fertilize: Use a balanced, slow-release fertilizer to provide essential nutrients for your plants.\n",
      "\n",
      "7. Weed and maintain: Stay on top of weeding to prevent them from competing with your plants for resources. Regularly remove dead or damaged foliage.\n",
      "\n",
      "8. Start small: Don't try to do too much at once, especially if you're a beginner. Start with a small, manageable space and gradually expand your garden over time.\n",
      "\n",
      "Remember, gardening is a learning process, so don't be afraid to experiment and try new things. Enjoy the process and the rewards of your homegrown produce or beautiful flowers!\n"
     ]
    }
   ],
   "source": [
    "print(history)"
   ]
  }
 ],
 "metadata": {
  "kernelspec": {
   "display_name": "Python (bedrock)",
   "language": "python",
   "name": "bedrock"
  },
  "language_info": {
   "codemirror_mode": {
    "name": "ipython",
    "version": 3
   },
   "file_extension": ".py",
   "mimetype": "text/x-python",
   "name": "python",
   "nbconvert_exporter": "python",
   "pygments_lexer": "ipython3",
   "version": "3.12.9"
  }
 },
 "nbformat": 4,
 "nbformat_minor": 5
}
